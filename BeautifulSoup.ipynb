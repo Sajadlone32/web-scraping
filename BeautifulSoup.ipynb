{
 "cells": [
  {
   "cell_type": "markdown",
   "id": "d603fce9-8fd3-4dc4-9096-abd66ae0e611",
   "metadata": {},
   "source": [
    "Question No 1. Solution"
   ]
  },
  {
   "cell_type": "code",
   "execution_count": null,
   "id": "2d978e84-eec6-47a5-9cd0-acc017b76f55",
   "metadata": {},
   "outputs": [],
   "source": [
    "from bs4 import BeautifulSoup\n",
    "import requests"
   ]
  },
  {
   "cell_type": "code",
   "execution_count": 2,
   "id": "7c18e068-3033-4a6a-9db6-91aa8608d0f5",
   "metadata": {},
   "outputs": [],
   "source": [
    "page=requests.get(\"https://en.wikipedia.org/wiki/Main_Page\")"
   ]
  },
  {
   "cell_type": "code",
   "execution_count": 3,
   "id": "577dc1da-1b94-4a23-8fe2-66dfc9fd9df4",
   "metadata": {},
   "outputs": [
    {
     "data": {
      "text/plain": [
       "<Response [200]>"
      ]
     },
     "execution_count": 3,
     "metadata": {},
     "output_type": "execute_result"
    }
   ],
   "source": [
    "page"
   ]
  },
  {
   "cell_type": "code",
   "execution_count": 8,
   "id": "40f8bc0b-563d-47d8-8984-ac6305f083b4",
   "metadata": {},
   "outputs": [],
   "source": [
    "soup=BeautifulSoup(page.content)"
   ]
  },
  {
   "cell_type": "code",
   "execution_count": 13,
   "id": "729dd0b6-b40e-491c-8d5d-c877fef277b1",
   "metadata": {},
   "outputs": [],
   "source": [
    "first_head=soup.find('h2',class_=\"mp-h2\")"
   ]
  },
  {
   "cell_type": "code",
   "execution_count": 14,
   "id": "f48ab27c-79f9-404e-8a0b-55766b3b8a57",
   "metadata": {},
   "outputs": [
    {
     "data": {
      "text/plain": [
       "<h2 class=\"mp-h2\" id=\"mp-tfa-h2\"><span id=\"From_today.27s_featured_article\"></span><span class=\"mw-headline\" id=\"From_today's_featured_article\">From today's featured article</span></h2>"
      ]
     },
     "execution_count": 14,
     "metadata": {},
     "output_type": "execute_result"
    }
   ],
   "source": [
    "first_head"
   ]
  },
  {
   "cell_type": "code",
   "execution_count": 15,
   "id": "00f30868-6ac6-42ac-a2cb-f45eeecd897d",
   "metadata": {},
   "outputs": [
    {
     "data": {
      "text/plain": [
       "\"From today's featured article\""
      ]
     },
     "execution_count": 15,
     "metadata": {},
     "output_type": "execute_result"
    }
   ],
   "source": [
    "first_head.text"
   ]
  },
  {
   "cell_type": "code",
   "execution_count": 16,
   "id": "d2c8b451-b766-45cb-b360-c7a2927b24bd",
   "metadata": {},
   "outputs": [],
   "source": [
    "headers=[]\n",
    "for i in soup.find_all('h2',class_=\"mp-h2\"):\n",
    "    headers.append(i.text)"
   ]
  },
  {
   "cell_type": "code",
   "execution_count": 18,
   "id": "fe2d592d-ee4d-4717-a57b-d55928d339ff",
   "metadata": {},
   "outputs": [
    {
     "data": {
      "text/plain": [
       "[\"From today's featured article\",\n",
       " 'Did you know\\xa0...',\n",
       " 'In the news',\n",
       " 'On this day',\n",
       " \"Today's featured picture\",\n",
       " 'Other areas of Wikipedia',\n",
       " \"Wikipedia's sister projects\",\n",
       " 'Wikipedia languages']"
      ]
     },
     "execution_count": 18,
     "metadata": {},
     "output_type": "execute_result"
    }
   ],
   "source": [
    "headers"
   ]
  },
  {
   "cell_type": "code",
   "execution_count": 21,
   "id": "58ca90a0-d348-4642-9ac8-088e3a965ae2",
   "metadata": {},
   "outputs": [
    {
     "data": {
      "text/html": [
       "<div>\n",
       "<style scoped>\n",
       "    .dataframe tbody tr th:only-of-type {\n",
       "        vertical-align: middle;\n",
       "    }\n",
       "\n",
       "    .dataframe tbody tr th {\n",
       "        vertical-align: top;\n",
       "    }\n",
       "\n",
       "    .dataframe thead th {\n",
       "        text-align: right;\n",
       "    }\n",
       "</style>\n",
       "<table border=\"1\" class=\"dataframe\">\n",
       "  <thead>\n",
       "    <tr style=\"text-align: right;\">\n",
       "      <th></th>\n",
       "      <th>Header_tags</th>\n",
       "    </tr>\n",
       "  </thead>\n",
       "  <tbody>\n",
       "    <tr>\n",
       "      <th>0</th>\n",
       "      <td>From today's featured article</td>\n",
       "    </tr>\n",
       "    <tr>\n",
       "      <th>1</th>\n",
       "      <td>Did you know ...</td>\n",
       "    </tr>\n",
       "    <tr>\n",
       "      <th>2</th>\n",
       "      <td>In the news</td>\n",
       "    </tr>\n",
       "    <tr>\n",
       "      <th>3</th>\n",
       "      <td>On this day</td>\n",
       "    </tr>\n",
       "    <tr>\n",
       "      <th>4</th>\n",
       "      <td>Today's featured picture</td>\n",
       "    </tr>\n",
       "    <tr>\n",
       "      <th>5</th>\n",
       "      <td>Other areas of Wikipedia</td>\n",
       "    </tr>\n",
       "    <tr>\n",
       "      <th>6</th>\n",
       "      <td>Wikipedia's sister projects</td>\n",
       "    </tr>\n",
       "    <tr>\n",
       "      <th>7</th>\n",
       "      <td>Wikipedia languages</td>\n",
       "    </tr>\n",
       "  </tbody>\n",
       "</table>\n",
       "</div>"
      ],
      "text/plain": [
       "                     Header_tags\n",
       "0  From today's featured article\n",
       "1               Did you know ...\n",
       "2                    In the news\n",
       "3                    On this day\n",
       "4       Today's featured picture\n",
       "5       Other areas of Wikipedia\n",
       "6    Wikipedia's sister projects\n",
       "7            Wikipedia languages"
      ]
     },
     "execution_count": 21,
     "metadata": {},
     "output_type": "execute_result"
    }
   ],
   "source": [
    "import pandas as pd\n",
    "df=pd.DataFrame({'Header_tags':headers})\n",
    "df"
   ]
  },
  {
   "cell_type": "markdown",
   "id": "5a233987-804d-484d-b745-c96ceb691dc3",
   "metadata": {},
   "source": [
    "Question No 2 Solution"
   ]
  },
  {
   "cell_type": "code",
   "execution_count": 22,
   "id": "6b641f1d-bd1d-4a8a-9996-0e68669e60f4",
   "metadata": {},
   "outputs": [],
   "source": [
    "page=requests.get(\"https://presidentofindia.nic.in/former-presidents\")"
   ]
  },
  {
   "cell_type": "code",
   "execution_count": 23,
   "id": "02a6fd93-532c-4eed-8fee-ec2ed71ec45e",
   "metadata": {},
   "outputs": [
    {
     "data": {
      "text/plain": [
       "<Response [200]>"
      ]
     },
     "execution_count": 23,
     "metadata": {},
     "output_type": "execute_result"
    }
   ],
   "source": [
    "page"
   ]
  },
  {
   "cell_type": "code",
   "execution_count": 24,
   "id": "0ab4239a-bffd-4157-916d-632e0c1274ec",
   "metadata": {},
   "outputs": [],
   "source": [
    "soup=BeautifulSoup(page.content)"
   ]
  },
  {
   "cell_type": "code",
   "execution_count": 35,
   "id": "67ea118d-9235-4350-9861-7b01eaecc38e",
   "metadata": {},
   "outputs": [],
   "source": [
    "leader_name=soup.find('h3')"
   ]
  },
  {
   "cell_type": "code",
   "execution_count": 36,
   "id": "f583bead-97c7-4bf2-abfb-e76b36d08274",
   "metadata": {},
   "outputs": [
    {
     "data": {
      "text/plain": [
       "<h3>Shri Ram Nath Kovind</h3>"
      ]
     },
     "execution_count": 36,
     "metadata": {},
     "output_type": "execute_result"
    }
   ],
   "source": [
    "leader_name"
   ]
  },
  {
   "cell_type": "code",
   "execution_count": 38,
   "id": "0364633d-20c4-48f0-bce5-ecd9084b6fc3",
   "metadata": {},
   "outputs": [],
   "source": [
    "leader_term=soup.find('h5')"
   ]
  },
  {
   "cell_type": "code",
   "execution_count": 39,
   "id": "247ec75e-913d-462e-8c0d-44a92df38dd5",
   "metadata": {},
   "outputs": [
    {
     "data": {
      "text/plain": [
       "<h5>14th President of India</h5>"
      ]
     },
     "execution_count": 39,
     "metadata": {},
     "output_type": "execute_result"
    }
   ],
   "source": [
    "leader_term"
   ]
  },
  {
   "cell_type": "code",
   "execution_count": 40,
   "id": "c2cf5885-8f51-42d6-89b7-8487277909ab",
   "metadata": {},
   "outputs": [
    {
     "data": {
      "text/plain": [
       "['Shri Ram Nath Kovind',\n",
       " 'Shri Pranab Mukherjee',\n",
       " 'Smt Pratibha Devisingh Patil',\n",
       " 'DR. A.P.J. Abdul Kalam',\n",
       " 'Shri K. R. Narayanan',\n",
       " 'Dr Shankar Dayal Sharma',\n",
       " 'Shri R Venkataraman',\n",
       " 'Giani Zail Singh',\n",
       " 'Shri Neelam Sanjiva Reddy',\n",
       " 'Dr. Fakhruddin Ali Ahmed',\n",
       " 'Shri Varahagiri Venkata Giri',\n",
       " 'Dr. Zakir Husain',\n",
       " 'Dr. Sarvepalli Radhakrishnan',\n",
       " 'Dr. Rajendra Prasad']"
      ]
     },
     "execution_count": 40,
     "metadata": {},
     "output_type": "execute_result"
    }
   ],
   "source": [
    "name=[]\n",
    "for i in soup.find_all('h3'):\n",
    "    name.append(i.text)\n",
    "name"
   ]
  },
  {
   "cell_type": "code",
   "execution_count": 41,
   "id": "4d76b078-ecc4-457e-8866-d8807fb0fc27",
   "metadata": {},
   "outputs": [
    {
     "data": {
      "text/plain": [
       "['14th President of India',\n",
       " '13th President of India',\n",
       " '12th President of India',\n",
       " '11th President of India',\n",
       " '10th President of India',\n",
       " '9th  President of India',\n",
       " '8th President of India',\n",
       " '7th President of India',\n",
       " '6th President of India',\n",
       " '5th President of India',\n",
       " '4th President of India',\n",
       " '3rd President of India',\n",
       " '2nd President of India',\n",
       " '1st President of India']"
      ]
     },
     "execution_count": 41,
     "metadata": {},
     "output_type": "execute_result"
    }
   ],
   "source": [
    "term=[]\n",
    "for i in soup.find_all('h5'):\n",
    "    term.append(i.text)\n",
    "term"
   ]
  },
  {
   "cell_type": "code",
   "execution_count": 43,
   "id": "778398e2-9c24-47ed-80e5-e83923583c89",
   "metadata": {},
   "outputs": [
    {
     "data": {
      "text/html": [
       "<div>\n",
       "<style scoped>\n",
       "    .dataframe tbody tr th:only-of-type {\n",
       "        vertical-align: middle;\n",
       "    }\n",
       "\n",
       "    .dataframe tbody tr th {\n",
       "        vertical-align: top;\n",
       "    }\n",
       "\n",
       "    .dataframe thead th {\n",
       "        text-align: right;\n",
       "    }\n",
       "</style>\n",
       "<table border=\"1\" class=\"dataframe\">\n",
       "  <thead>\n",
       "    <tr style=\"text-align: right;\">\n",
       "      <th></th>\n",
       "      <th>Name Of Leader</th>\n",
       "      <th>Term of Officer</th>\n",
       "    </tr>\n",
       "  </thead>\n",
       "  <tbody>\n",
       "    <tr>\n",
       "      <th>0</th>\n",
       "      <td>Shri Ram Nath Kovind</td>\n",
       "      <td>14th President of India</td>\n",
       "    </tr>\n",
       "    <tr>\n",
       "      <th>1</th>\n",
       "      <td>Shri Pranab Mukherjee</td>\n",
       "      <td>13th President of India</td>\n",
       "    </tr>\n",
       "    <tr>\n",
       "      <th>2</th>\n",
       "      <td>Smt Pratibha Devisingh Patil</td>\n",
       "      <td>12th President of India</td>\n",
       "    </tr>\n",
       "    <tr>\n",
       "      <th>3</th>\n",
       "      <td>DR. A.P.J. Abdul Kalam</td>\n",
       "      <td>11th President of India</td>\n",
       "    </tr>\n",
       "    <tr>\n",
       "      <th>4</th>\n",
       "      <td>Shri K. R. Narayanan</td>\n",
       "      <td>10th President of India</td>\n",
       "    </tr>\n",
       "    <tr>\n",
       "      <th>5</th>\n",
       "      <td>Dr Shankar Dayal Sharma</td>\n",
       "      <td>9th  President of India</td>\n",
       "    </tr>\n",
       "    <tr>\n",
       "      <th>6</th>\n",
       "      <td>Shri R Venkataraman</td>\n",
       "      <td>8th President of India</td>\n",
       "    </tr>\n",
       "    <tr>\n",
       "      <th>7</th>\n",
       "      <td>Giani Zail Singh</td>\n",
       "      <td>7th President of India</td>\n",
       "    </tr>\n",
       "    <tr>\n",
       "      <th>8</th>\n",
       "      <td>Shri Neelam Sanjiva Reddy</td>\n",
       "      <td>6th President of India</td>\n",
       "    </tr>\n",
       "    <tr>\n",
       "      <th>9</th>\n",
       "      <td>Dr. Fakhruddin Ali Ahmed</td>\n",
       "      <td>5th President of India</td>\n",
       "    </tr>\n",
       "    <tr>\n",
       "      <th>10</th>\n",
       "      <td>Shri Varahagiri Venkata Giri</td>\n",
       "      <td>4th President of India</td>\n",
       "    </tr>\n",
       "    <tr>\n",
       "      <th>11</th>\n",
       "      <td>Dr. Zakir Husain</td>\n",
       "      <td>3rd President of India</td>\n",
       "    </tr>\n",
       "    <tr>\n",
       "      <th>12</th>\n",
       "      <td>Dr. Sarvepalli Radhakrishnan</td>\n",
       "      <td>2nd President of India</td>\n",
       "    </tr>\n",
       "    <tr>\n",
       "      <th>13</th>\n",
       "      <td>Dr. Rajendra Prasad</td>\n",
       "      <td>1st President of India</td>\n",
       "    </tr>\n",
       "  </tbody>\n",
       "</table>\n",
       "</div>"
      ],
      "text/plain": [
       "                  Name Of Leader          Term of Officer\n",
       "0           Shri Ram Nath Kovind  14th President of India\n",
       "1          Shri Pranab Mukherjee  13th President of India\n",
       "2   Smt Pratibha Devisingh Patil  12th President of India\n",
       "3         DR. A.P.J. Abdul Kalam  11th President of India\n",
       "4           Shri K. R. Narayanan  10th President of India\n",
       "5        Dr Shankar Dayal Sharma  9th  President of India\n",
       "6            Shri R Venkataraman   8th President of India\n",
       "7               Giani Zail Singh   7th President of India\n",
       "8      Shri Neelam Sanjiva Reddy   6th President of India\n",
       "9       Dr. Fakhruddin Ali Ahmed   5th President of India\n",
       "10  Shri Varahagiri Venkata Giri   4th President of India\n",
       "11              Dr. Zakir Husain   3rd President of India\n",
       "12  Dr. Sarvepalli Radhakrishnan   2nd President of India\n",
       "13           Dr. Rajendra Prasad   1st President of India"
      ]
     },
     "execution_count": 43,
     "metadata": {},
     "output_type": "execute_result"
    }
   ],
   "source": [
    "import pandas as pd\n",
    "df=pd.DataFrame({'Name Of Leader':name,'Term of Officer':term})\n",
    "df"
   ]
  },
  {
   "cell_type": "markdown",
   "id": "58baa3f9-2ce7-4064-be0f-2f1df16a0887",
   "metadata": {},
   "source": [
    "Questions no 3 solution (a)"
   ]
  },
  {
   "cell_type": "code",
   "execution_count": 44,
   "id": "07203e11-feac-48d3-b0d3-41aaf180e807",
   "metadata": {},
   "outputs": [],
   "source": [
    "page=requests.get(\"https://www.cricketworldcup.com/\")"
   ]
  },
  {
   "cell_type": "code",
   "execution_count": 45,
   "id": "8c11c7f8-7dff-420c-8bc4-0977f6dd4d6b",
   "metadata": {},
   "outputs": [
    {
     "data": {
      "text/plain": [
       "<Response [200]>"
      ]
     },
     "execution_count": 45,
     "metadata": {},
     "output_type": "execute_result"
    }
   ],
   "source": [
    "page"
   ]
  },
  {
   "cell_type": "code",
   "execution_count": 47,
   "id": "13fbaf72-a88e-455e-b5fb-99a6f4cb75b7",
   "metadata": {},
   "outputs": [],
   "source": [
    "soup=BeautifulSoup(page.content)"
   ]
  },
  {
   "cell_type": "code",
   "execution_count": 52,
   "id": "f49ad6f7-b66e-43d6-9189-2a26f70b2dee",
   "metadata": {},
   "outputs": [
    {
     "data": {
      "text/plain": [
       "'South Africa'"
      ]
     },
     "execution_count": 52,
     "metadata": {},
     "output_type": "execute_result"
    }
   ],
   "source": [
    "team_title=soup.find('span',class_=\"standings-overview__team-long-name\")\n",
    "team_title.text\n"
   ]
  },
  {
   "cell_type": "code",
   "execution_count": 53,
   "id": "acdd9816-0b5e-40d2-b2ec-aa6170a246a7",
   "metadata": {},
   "outputs": [
    {
     "data": {
      "text/plain": [
       "['South Africa',\n",
       " 'India',\n",
       " 'New Zealand',\n",
       " 'Australia',\n",
       " 'Sri Lanka',\n",
       " 'Pakistan',\n",
       " 'Afghanistan',\n",
       " 'Bangladesh',\n",
       " 'England',\n",
       " 'Netherlands']"
      ]
     },
     "execution_count": 53,
     "metadata": {},
     "output_type": "execute_result"
    }
   ],
   "source": [
    "tnames=[]\n",
    "for i in soup.find_all('span',class_=\"standings-overview__team-long-name\"):\n",
    "    tnames.append(i.text)\n",
    "tnames"
   ]
  },
  {
   "cell_type": "code",
   "execution_count": 64,
   "id": "5a2411e3-6b6c-4914-bf9e-e5177f5ba566",
   "metadata": {},
   "outputs": [
    {
     "data": {
      "text/plain": [
       "'1'"
      ]
     },
     "execution_count": 64,
     "metadata": {},
     "output_type": "execute_result"
    }
   ],
   "source": [
    "pos=soup.find('td',class_=\"table-body__cell table-body__cell--position\")\n",
    "pos.text"
   ]
  },
  {
   "cell_type": "code",
   "execution_count": 67,
   "id": "0e6e8724-5a64-4b3c-abea-0447fbda6a07",
   "metadata": {},
   "outputs": [
    {
     "data": {
      "text/plain": [
       "['1', '2', '3', '4', '5', '6', '7', '8', '9', '10']"
      ]
     },
     "execution_count": 67,
     "metadata": {},
     "output_type": "execute_result"
    }
   ],
   "source": [
    "positions=[]\n",
    "for i in soup.find_all('td',class_=\"table-body__cell table-body__cell--position\"):\n",
    "    positions.append(i.text)\n",
    "positions\n"
   ]
  },
  {
   "cell_type": "code",
   "execution_count": 55,
   "id": "31b63122-d916-4491-acff-07e69439e1a0",
   "metadata": {},
   "outputs": [
    {
     "data": {
      "text/plain": [
       "'1'"
      ]
     },
     "execution_count": 55,
     "metadata": {},
     "output_type": "execute_result"
    }
   ],
   "source": [
    "# matches palyed\n",
    "mtch=soup.find('td',class_=\"table-body__cell\")\n",
    "mtch.text"
   ]
  },
  {
   "cell_type": "code",
   "execution_count": 72,
   "id": "37430fa8-4df1-4d0a-8901-1766d815172a",
   "metadata": {},
   "outputs": [
    {
     "data": {
      "text/html": [
       "<div>\n",
       "<style scoped>\n",
       "    .dataframe tbody tr th:only-of-type {\n",
       "        vertical-align: middle;\n",
       "    }\n",
       "\n",
       "    .dataframe tbody tr th {\n",
       "        vertical-align: top;\n",
       "    }\n",
       "\n",
       "    .dataframe thead th {\n",
       "        text-align: right;\n",
       "    }\n",
       "</style>\n",
       "<table border=\"1\" class=\"dataframe\">\n",
       "  <thead>\n",
       "    <tr style=\"text-align: right;\">\n",
       "      <th></th>\n",
       "      <th>mtch</th>\n",
       "    </tr>\n",
       "  </thead>\n",
       "  <tbody>\n",
       "    <tr>\n",
       "      <th>0</th>\n",
       "      <td>1</td>\n",
       "    </tr>\n",
       "    <tr>\n",
       "      <th>1</th>\n",
       "      <td>\\n\\n\\n\\nSouth Africa\\nSA\\n\\n</td>\n",
       "    </tr>\n",
       "    <tr>\n",
       "      <th>2</th>\n",
       "      <td>6</td>\n",
       "    </tr>\n",
       "    <tr>\n",
       "      <th>3</th>\n",
       "      <td>+2.032</td>\n",
       "    </tr>\n",
       "    <tr>\n",
       "      <th>4</th>\n",
       "      <td>10</td>\n",
       "    </tr>\n",
       "    <tr>\n",
       "      <th>5</th>\n",
       "      <td>2</td>\n",
       "    </tr>\n",
       "    <tr>\n",
       "      <th>6</th>\n",
       "      <td>\\n\\n\\n\\nIndia\\nIND\\n\\n</td>\n",
       "    </tr>\n",
       "    <tr>\n",
       "      <th>7</th>\n",
       "      <td>5</td>\n",
       "    </tr>\n",
       "    <tr>\n",
       "      <th>8</th>\n",
       "      <td>+1.353</td>\n",
       "    </tr>\n",
       "    <tr>\n",
       "      <th>9</th>\n",
       "      <td>10</td>\n",
       "    </tr>\n",
       "    <tr>\n",
       "      <th>10</th>\n",
       "      <td>3</td>\n",
       "    </tr>\n",
       "    <tr>\n",
       "      <th>11</th>\n",
       "      <td>\\n\\n\\n\\nNew Zealand\\nNZ\\n\\n</td>\n",
       "    </tr>\n",
       "    <tr>\n",
       "      <th>12</th>\n",
       "      <td>5</td>\n",
       "    </tr>\n",
       "    <tr>\n",
       "      <th>13</th>\n",
       "      <td>+1.481</td>\n",
       "    </tr>\n",
       "    <tr>\n",
       "      <th>14</th>\n",
       "      <td>8</td>\n",
       "    </tr>\n",
       "    <tr>\n",
       "      <th>15</th>\n",
       "      <td>4</td>\n",
       "    </tr>\n",
       "    <tr>\n",
       "      <th>16</th>\n",
       "      <td>\\n\\n\\n\\nAustralia\\nAUS\\n\\n</td>\n",
       "    </tr>\n",
       "    <tr>\n",
       "      <th>17</th>\n",
       "      <td>5</td>\n",
       "    </tr>\n",
       "    <tr>\n",
       "      <th>18</th>\n",
       "      <td>+1.142</td>\n",
       "    </tr>\n",
       "    <tr>\n",
       "      <th>19</th>\n",
       "      <td>6</td>\n",
       "    </tr>\n",
       "    <tr>\n",
       "      <th>20</th>\n",
       "      <td>5</td>\n",
       "    </tr>\n",
       "    <tr>\n",
       "      <th>21</th>\n",
       "      <td>\\n\\n\\n\\nSri Lanka\\nSL\\n\\n</td>\n",
       "    </tr>\n",
       "    <tr>\n",
       "      <th>22</th>\n",
       "      <td>5</td>\n",
       "    </tr>\n",
       "    <tr>\n",
       "      <th>23</th>\n",
       "      <td>-0.205</td>\n",
       "    </tr>\n",
       "    <tr>\n",
       "      <th>24</th>\n",
       "      <td>4</td>\n",
       "    </tr>\n",
       "    <tr>\n",
       "      <th>25</th>\n",
       "      <td>6</td>\n",
       "    </tr>\n",
       "    <tr>\n",
       "      <th>26</th>\n",
       "      <td>\\n\\n\\n\\nPakistan\\nPAK\\n\\n</td>\n",
       "    </tr>\n",
       "    <tr>\n",
       "      <th>27</th>\n",
       "      <td>6</td>\n",
       "    </tr>\n",
       "    <tr>\n",
       "      <th>28</th>\n",
       "      <td>-0.387</td>\n",
       "    </tr>\n",
       "    <tr>\n",
       "      <th>29</th>\n",
       "      <td>4</td>\n",
       "    </tr>\n",
       "    <tr>\n",
       "      <th>30</th>\n",
       "      <td>7</td>\n",
       "    </tr>\n",
       "    <tr>\n",
       "      <th>31</th>\n",
       "      <td>\\n\\n\\n\\nAfghanistan\\nAFG\\n\\n</td>\n",
       "    </tr>\n",
       "    <tr>\n",
       "      <th>32</th>\n",
       "      <td>5</td>\n",
       "    </tr>\n",
       "    <tr>\n",
       "      <th>33</th>\n",
       "      <td>-0.969</td>\n",
       "    </tr>\n",
       "    <tr>\n",
       "      <th>34</th>\n",
       "      <td>4</td>\n",
       "    </tr>\n",
       "    <tr>\n",
       "      <th>35</th>\n",
       "      <td>8</td>\n",
       "    </tr>\n",
       "    <tr>\n",
       "      <th>36</th>\n",
       "      <td>\\n\\n\\n\\nBangladesh\\nBAN\\n\\n</td>\n",
       "    </tr>\n",
       "    <tr>\n",
       "      <th>37</th>\n",
       "      <td>5</td>\n",
       "    </tr>\n",
       "    <tr>\n",
       "      <th>38</th>\n",
       "      <td>-1.253</td>\n",
       "    </tr>\n",
       "    <tr>\n",
       "      <th>39</th>\n",
       "      <td>2</td>\n",
       "    </tr>\n",
       "    <tr>\n",
       "      <th>40</th>\n",
       "      <td>9</td>\n",
       "    </tr>\n",
       "    <tr>\n",
       "      <th>41</th>\n",
       "      <td>\\n\\n\\n\\nEngland\\nENG\\n\\n</td>\n",
       "    </tr>\n",
       "    <tr>\n",
       "      <th>42</th>\n",
       "      <td>5</td>\n",
       "    </tr>\n",
       "    <tr>\n",
       "      <th>43</th>\n",
       "      <td>-1.634</td>\n",
       "    </tr>\n",
       "    <tr>\n",
       "      <th>44</th>\n",
       "      <td>2</td>\n",
       "    </tr>\n",
       "    <tr>\n",
       "      <th>45</th>\n",
       "      <td>10</td>\n",
       "    </tr>\n",
       "    <tr>\n",
       "      <th>46</th>\n",
       "      <td>\\n\\n\\n\\nNetherlands\\nNED\\n\\n</td>\n",
       "    </tr>\n",
       "    <tr>\n",
       "      <th>47</th>\n",
       "      <td>5</td>\n",
       "    </tr>\n",
       "    <tr>\n",
       "      <th>48</th>\n",
       "      <td>-1.902</td>\n",
       "    </tr>\n",
       "    <tr>\n",
       "      <th>49</th>\n",
       "      <td>2</td>\n",
       "    </tr>\n",
       "  </tbody>\n",
       "</table>\n",
       "</div>"
      ],
      "text/plain": [
       "                            mtch\n",
       "0                              1\n",
       "1   \\n\\n\\n\\nSouth Africa\\nSA\\n\\n\n",
       "2                              6\n",
       "3                         +2.032\n",
       "4                             10\n",
       "5                              2\n",
       "6         \\n\\n\\n\\nIndia\\nIND\\n\\n\n",
       "7                              5\n",
       "8                         +1.353\n",
       "9                             10\n",
       "10                             3\n",
       "11   \\n\\n\\n\\nNew Zealand\\nNZ\\n\\n\n",
       "12                             5\n",
       "13                        +1.481\n",
       "14                             8\n",
       "15                             4\n",
       "16    \\n\\n\\n\\nAustralia\\nAUS\\n\\n\n",
       "17                             5\n",
       "18                        +1.142\n",
       "19                             6\n",
       "20                             5\n",
       "21     \\n\\n\\n\\nSri Lanka\\nSL\\n\\n\n",
       "22                             5\n",
       "23                        -0.205\n",
       "24                             4\n",
       "25                             6\n",
       "26     \\n\\n\\n\\nPakistan\\nPAK\\n\\n\n",
       "27                             6\n",
       "28                        -0.387\n",
       "29                             4\n",
       "30                             7\n",
       "31  \\n\\n\\n\\nAfghanistan\\nAFG\\n\\n\n",
       "32                             5\n",
       "33                        -0.969\n",
       "34                             4\n",
       "35                             8\n",
       "36   \\n\\n\\n\\nBangladesh\\nBAN\\n\\n\n",
       "37                             5\n",
       "38                        -1.253\n",
       "39                             2\n",
       "40                             9\n",
       "41      \\n\\n\\n\\nEngland\\nENG\\n\\n\n",
       "42                             5\n",
       "43                        -1.634\n",
       "44                             2\n",
       "45                            10\n",
       "46  \\n\\n\\n\\nNetherlands\\nNED\\n\\n\n",
       "47                             5\n",
       "48                        -1.902\n",
       "49                             2"
      ]
     },
     "execution_count": 72,
     "metadata": {},
     "output_type": "execute_result"
    }
   ],
   "source": [
    "matches=[]\n",
    "for i in soup.find_all('td',class_=\"table-body__cell\"):\n",
    "    matches.append(i.text)\n",
    "ds=pd.DataFrame({'mtch':matches})\n",
    "ds"
   ]
  },
  {
   "cell_type": "code",
   "execution_count": 70,
   "id": "df345137-2d65-464b-b9d0-bdfb0a55dcc0",
   "metadata": {},
   "outputs": [
    {
     "name": "stdout",
     "output_type": "stream",
     "text": [
      "10 50\n"
     ]
    }
   ],
   "source": [
    "print(len(tnames),len(matches))"
   ]
  },
  {
   "cell_type": "code",
   "execution_count": 75,
   "id": "6bff429c-fa68-4630-a827-f20f013745c7",
   "metadata": {},
   "outputs": [
    {
     "data": {
      "text/plain": [
       "<td class=\"table-body__cell table-body__cell--pts\">10</td>"
      ]
     },
     "execution_count": 75,
     "metadata": {},
     "output_type": "execute_result"
    }
   ],
   "source": [
    "pts=soup.find('td',class_=\"table-body__cell table-body__cell--pts\")\n",
    "pts"
   ]
  },
  {
   "cell_type": "code",
   "execution_count": 76,
   "id": "aff844bf-eab1-44ea-92ad-ab030109d3ff",
   "metadata": {},
   "outputs": [
    {
     "data": {
      "text/plain": [
       "['10', '10', '8', '6', '4', '4', '4', '2', '2', '2']"
      ]
     },
     "execution_count": 76,
     "metadata": {},
     "output_type": "execute_result"
    }
   ],
   "source": [
    "points=[]\n",
    "for i in soup.find_all('td',class_=\"table-body__cell table-body__cell--pts\"):\n",
    "    points.append(i.text)\n",
    "points"
   ]
  },
  {
   "cell_type": "code",
   "execution_count": 77,
   "id": "a4772b14-5fc7-4414-9f32-1b685fd18063",
   "metadata": {},
   "outputs": [
    {
     "data": {
      "text/html": [
       "<div>\n",
       "<style scoped>\n",
       "    .dataframe tbody tr th:only-of-type {\n",
       "        vertical-align: middle;\n",
       "    }\n",
       "\n",
       "    .dataframe tbody tr th {\n",
       "        vertical-align: top;\n",
       "    }\n",
       "\n",
       "    .dataframe thead th {\n",
       "        text-align: right;\n",
       "    }\n",
       "</style>\n",
       "<table border=\"1\" class=\"dataframe\">\n",
       "  <thead>\n",
       "    <tr style=\"text-align: right;\">\n",
       "      <th></th>\n",
       "      <th>rank</th>\n",
       "      <th>name</th>\n",
       "      <th>points</th>\n",
       "    </tr>\n",
       "  </thead>\n",
       "  <tbody>\n",
       "    <tr>\n",
       "      <th>0</th>\n",
       "      <td>1</td>\n",
       "      <td>South Africa</td>\n",
       "      <td>10</td>\n",
       "    </tr>\n",
       "    <tr>\n",
       "      <th>1</th>\n",
       "      <td>2</td>\n",
       "      <td>India</td>\n",
       "      <td>10</td>\n",
       "    </tr>\n",
       "    <tr>\n",
       "      <th>2</th>\n",
       "      <td>3</td>\n",
       "      <td>New Zealand</td>\n",
       "      <td>8</td>\n",
       "    </tr>\n",
       "    <tr>\n",
       "      <th>3</th>\n",
       "      <td>4</td>\n",
       "      <td>Australia</td>\n",
       "      <td>6</td>\n",
       "    </tr>\n",
       "    <tr>\n",
       "      <th>4</th>\n",
       "      <td>5</td>\n",
       "      <td>Sri Lanka</td>\n",
       "      <td>4</td>\n",
       "    </tr>\n",
       "    <tr>\n",
       "      <th>5</th>\n",
       "      <td>6</td>\n",
       "      <td>Pakistan</td>\n",
       "      <td>4</td>\n",
       "    </tr>\n",
       "    <tr>\n",
       "      <th>6</th>\n",
       "      <td>7</td>\n",
       "      <td>Afghanistan</td>\n",
       "      <td>4</td>\n",
       "    </tr>\n",
       "    <tr>\n",
       "      <th>7</th>\n",
       "      <td>8</td>\n",
       "      <td>Bangladesh</td>\n",
       "      <td>2</td>\n",
       "    </tr>\n",
       "    <tr>\n",
       "      <th>8</th>\n",
       "      <td>9</td>\n",
       "      <td>England</td>\n",
       "      <td>2</td>\n",
       "    </tr>\n",
       "    <tr>\n",
       "      <th>9</th>\n",
       "      <td>10</td>\n",
       "      <td>Netherlands</td>\n",
       "      <td>2</td>\n",
       "    </tr>\n",
       "  </tbody>\n",
       "</table>\n",
       "</div>"
      ],
      "text/plain": [
       "  rank          name points\n",
       "0    1  South Africa     10\n",
       "1    2         India     10\n",
       "2    3   New Zealand      8\n",
       "3    4     Australia      6\n",
       "4    5     Sri Lanka      4\n",
       "5    6      Pakistan      4\n",
       "6    7   Afghanistan      4\n",
       "7    8    Bangladesh      2\n",
       "8    9       England      2\n",
       "9   10   Netherlands      2"
      ]
     },
     "execution_count": 77,
     "metadata": {},
     "output_type": "execute_result"
    }
   ],
   "source": [
    "df=pd.DataFrame({'rank':positions,'name':tnames,'points':points})\n",
    "df\n",
    "                 "
   ]
  },
  {
   "cell_type": "markdown",
   "id": "a084f9c6-eda2-471d-b59a-8d5e8f9c9f6b",
   "metadata": {},
   "source": [
    "#note: i face an issue while scraping the data from the website  the record was present in a table (td tag) and the two columns  have same class.\n"
   ]
  },
  {
   "cell_type": "raw",
   "id": "d043bdf8-b0b9-4875-b76d-dcfa6c5b3848",
   "metadata": {},
   "source": [
    "Question no 3 solution part b"
   ]
  },
  {
   "cell_type": "code",
   "execution_count": 184,
   "id": "43beaf0a-1253-496b-a5de-377b1a2a5d96",
   "metadata": {},
   "outputs": [],
   "source": [
    "page=requests.get('https://www.icc-cricket.com/rankings/mens/player-rankings/odi/batting')\n",
    "soup=BeautifulSoup(page.content)"
   ]
  },
  {
   "cell_type": "code",
   "execution_count": 222,
   "id": "f63d76a4-dce8-4993-acfb-87d6b75c8f64",
   "metadata": {},
   "outputs": [],
   "source": [
    "#top 10 player names\n",
    "name=[]\n",
    "for i in soup.find_all('td',class_=\"table-body__cell rankings-table__name name\"):\n",
    "    name.append(i.text)"
   ]
  },
  {
   "cell_type": "code",
   "execution_count": 223,
   "id": "f6751d44-59ab-4084-9c8b-f01108251da1",
   "metadata": {},
   "outputs": [],
   "source": [
    "\n",
    "names=name[:10]"
   ]
  },
  {
   "cell_type": "code",
   "execution_count": null,
   "id": "3dbe4889-125f-4b88-8e4b-fe66bf7a7d48",
   "metadata": {},
   "outputs": [],
   "source": []
  },
  {
   "cell_type": "code",
   "execution_count": 203,
   "id": "ecf5c304-5ce4-4b24-add6-9053633cf4f4",
   "metadata": {},
   "outputs": [
    {
     "data": {
      "text/plain": [
       "['IND', 'SA', 'SA', 'AUS', 'IND', 'IRE', 'IND', 'SA', 'PAK', 'ENG']"
      ]
     },
     "execution_count": 203,
     "metadata": {},
     "output_type": "execute_result"
    }
   ],
   "source": [
    "#team names\n",
    "team_name=[]\n",
    "for i in soup.find_all('span',class_=\"table-body__logo-text\"):\n",
    "    team_name.append(i.text)\n",
    "teams=team_name[:10]\n",
    "teams"
   ]
  },
  {
   "cell_type": "code",
   "execution_count": 205,
   "id": "74471539-0f9d-4cb6-8de1-8dd3f1a54e16",
   "metadata": {},
   "outputs": [
    {
     "data": {
      "text/plain": [
       "['823', '769', '756', '747', '747', '729', '725', '716', '704', '699']"
      ]
     },
     "execution_count": 205,
     "metadata": {},
     "output_type": "execute_result"
    }
   ],
   "source": [
    "#rating\n",
    "rating=[]\n",
    "for i in soup.find_all('td',class_=\"table-body__cell rating\"):\n",
    "    rating.append(i.text)\n",
    "ratings=rating[:10]\n",
    "ratings"
   ]
  },
  {
   "cell_type": "code",
   "execution_count": 224,
   "id": "9328341a-6fa7-4e68-bfae-d5ad7046258e",
   "metadata": {},
   "outputs": [
    {
     "name": "stdout",
     "output_type": "stream",
     "text": [
      "10 10 10\n"
     ]
    }
   ],
   "source": [
    "print(len(names),len(teams),len(ratings))"
   ]
  },
  {
   "cell_type": "code",
   "execution_count": 225,
   "id": "8301bf41-9cb1-4e63-99ac-cfe47b938e38",
   "metadata": {},
   "outputs": [
    {
     "data": {
      "text/html": [
       "<div>\n",
       "<style scoped>\n",
       "    .dataframe tbody tr th:only-of-type {\n",
       "        vertical-align: middle;\n",
       "    }\n",
       "\n",
       "    .dataframe tbody tr th {\n",
       "        vertical-align: top;\n",
       "    }\n",
       "\n",
       "    .dataframe thead th {\n",
       "        text-align: right;\n",
       "    }\n",
       "</style>\n",
       "<table border=\"1\" class=\"dataframe\">\n",
       "  <thead>\n",
       "    <tr style=\"text-align: right;\">\n",
       "      <th></th>\n",
       "      <th>player_Name</th>\n",
       "      <th>Team_Name</th>\n",
       "      <th>Rating</th>\n",
       "    </tr>\n",
       "  </thead>\n",
       "  <tbody>\n",
       "    <tr>\n",
       "      <th>0</th>\n",
       "      <td>\\nShubman Gill\\n</td>\n",
       "      <td>IND</td>\n",
       "      <td>823</td>\n",
       "    </tr>\n",
       "    <tr>\n",
       "      <th>1</th>\n",
       "      <td>\\nQuinton de Kock\\n</td>\n",
       "      <td>SA</td>\n",
       "      <td>769</td>\n",
       "    </tr>\n",
       "    <tr>\n",
       "      <th>2</th>\n",
       "      <td>\\nHeinrich Klaasen\\n</td>\n",
       "      <td>SA</td>\n",
       "      <td>756</td>\n",
       "    </tr>\n",
       "    <tr>\n",
       "      <th>3</th>\n",
       "      <td>\\nDavid Warner\\n</td>\n",
       "      <td>AUS</td>\n",
       "      <td>747</td>\n",
       "    </tr>\n",
       "    <tr>\n",
       "      <th>4</th>\n",
       "      <td>\\nVirat Kohli\\n</td>\n",
       "      <td>IND</td>\n",
       "      <td>747</td>\n",
       "    </tr>\n",
       "    <tr>\n",
       "      <th>5</th>\n",
       "      <td>\\nHarry Tector\\n</td>\n",
       "      <td>IRE</td>\n",
       "      <td>729</td>\n",
       "    </tr>\n",
       "    <tr>\n",
       "      <th>6</th>\n",
       "      <td>\\nRohit Sharma\\n</td>\n",
       "      <td>IND</td>\n",
       "      <td>725</td>\n",
       "    </tr>\n",
       "    <tr>\n",
       "      <th>7</th>\n",
       "      <td>\\nRassie van der Dussen\\n</td>\n",
       "      <td>SA</td>\n",
       "      <td>716</td>\n",
       "    </tr>\n",
       "    <tr>\n",
       "      <th>8</th>\n",
       "      <td>\\nImam-ul-Haq\\n</td>\n",
       "      <td>PAK</td>\n",
       "      <td>704</td>\n",
       "    </tr>\n",
       "    <tr>\n",
       "      <th>9</th>\n",
       "      <td>\\nDawid Malan\\n</td>\n",
       "      <td>ENG</td>\n",
       "      <td>699</td>\n",
       "    </tr>\n",
       "  </tbody>\n",
       "</table>\n",
       "</div>"
      ],
      "text/plain": [
       "                 player_Name Team_Name Rating\n",
       "0           \\nShubman Gill\\n       IND    823\n",
       "1        \\nQuinton de Kock\\n        SA    769\n",
       "2       \\nHeinrich Klaasen\\n        SA    756\n",
       "3           \\nDavid Warner\\n       AUS    747\n",
       "4            \\nVirat Kohli\\n       IND    747\n",
       "5           \\nHarry Tector\\n       IRE    729\n",
       "6           \\nRohit Sharma\\n       IND    725\n",
       "7  \\nRassie van der Dussen\\n        SA    716\n",
       "8            \\nImam-ul-Haq\\n       PAK    704\n",
       "9            \\nDawid Malan\\n       ENG    699"
      ]
     },
     "execution_count": 225,
     "metadata": {},
     "output_type": "execute_result"
    }
   ],
   "source": [
    "#data frame\n",
    "df=pd.DataFrame({'player_Name':names,'Team_Name':teams,'Rating':ratings})\n",
    "df"
   ]
  },
  {
   "cell_type": "markdown",
   "id": "4bdc536b-a036-4ef5-8911-8ebef1029dc5",
   "metadata": {},
   "source": [
    "Question 3 sloution c"
   ]
  },
  {
   "cell_type": "code",
   "execution_count": 233,
   "id": "9d158f22-16d2-4b10-9a8c-a1cf7c0c56c4",
   "metadata": {},
   "outputs": [],
   "source": [
    "bowler_page=requests.get(\"https://www.icc-cricket.com/rankings/mens/player-rankings/t20i/bowling\")\n",
    "soup=BeautifulSoup(bowler_page.content)\n"
   ]
  },
  {
   "cell_type": "code",
   "execution_count": 234,
   "id": "d68e343e-d452-43f5-b79b-d1a4e66d6160",
   "metadata": {},
   "outputs": [
    {
     "data": {
      "text/plain": [
       "['\\nWanindu Hasaranga\\n',\n",
       " '\\nAdil Rashid\\n',\n",
       " '\\nMaheesh Theekshana\\n',\n",
       " '\\nJosh Hazlewood\\n',\n",
       " '\\nSam Curran\\n',\n",
       " '\\nFazalhaq Farooqi\\n',\n",
       " '\\nAdam Zampa\\n',\n",
       " '\\nMujeeb Ur Rahman\\n',\n",
       " '\\nAkeal Hosein\\n',\n",
       " '\\nAnrich Nortje\\n']"
      ]
     },
     "execution_count": 234,
     "metadata": {},
     "output_type": "execute_result"
    }
   ],
   "source": [
    "#bowler names\n",
    "b=[]\n",
    "for i in soup.find_all('td',class_=\"table-body__cell rankings-table__name name\"):\n",
    "    b.append(i.text)\n",
    "bowlers=b[:10]\n",
    "bowlers"
   ]
  },
  {
   "cell_type": "code",
   "execution_count": 236,
   "id": "61dccee1-bc4c-4629-b832-84e2b234d3db",
   "metadata": {},
   "outputs": [],
   "source": [
    "#bowler teams\n",
    "t=[]\n",
    "for i in soup.find_all('span',class_=\"table-body__logo-text\"):\n",
    "    t.append(i.text)\n",
    "teams=t[:10]"
   ]
  },
  {
   "cell_type": "code",
   "execution_count": 237,
   "id": "92cb9533-f35b-46f0-9dff-867c7f4b8463",
   "metadata": {},
   "outputs": [
    {
     "data": {
      "text/plain": [
       "['SL', 'ENG', 'SL', 'AUS', 'ENG', 'AFG', 'AUS', 'AFG', 'WI', 'SA']"
      ]
     },
     "execution_count": 237,
     "metadata": {},
     "output_type": "execute_result"
    }
   ],
   "source": [
    "teams"
   ]
  },
  {
   "cell_type": "code",
   "execution_count": 238,
   "id": "e35b6a07-e7d6-4580-9366-d64be80e9a6f",
   "metadata": {},
   "outputs": [
    {
     "data": {
      "text/plain": [
       "['679', '679', '677', '670', '659', '657', '657', '656', '655', '647']"
      ]
     },
     "execution_count": 238,
     "metadata": {},
     "output_type": "execute_result"
    }
   ],
   "source": [
    "#rating\n",
    "r=[]\n",
    "for i in soup.find_all('td',class_=\"table-body__cell rating\"):\n",
    "    r.append(i.text)\n",
    "ratings=r[:10]\n",
    "ratings"
   ]
  },
  {
   "cell_type": "code",
   "execution_count": 240,
   "id": "7a6e2384-7e07-4656-8309-c2101cf9496d",
   "metadata": {},
   "outputs": [
    {
     "data": {
      "text/html": [
       "<div>\n",
       "<style scoped>\n",
       "    .dataframe tbody tr th:only-of-type {\n",
       "        vertical-align: middle;\n",
       "    }\n",
       "\n",
       "    .dataframe tbody tr th {\n",
       "        vertical-align: top;\n",
       "    }\n",
       "\n",
       "    .dataframe thead th {\n",
       "        text-align: right;\n",
       "    }\n",
       "</style>\n",
       "<table border=\"1\" class=\"dataframe\">\n",
       "  <thead>\n",
       "    <tr style=\"text-align: right;\">\n",
       "      <th></th>\n",
       "      <th>player_Name</th>\n",
       "      <th>Team_Name</th>\n",
       "      <th>Rating</th>\n",
       "    </tr>\n",
       "  </thead>\n",
       "  <tbody>\n",
       "    <tr>\n",
       "      <th>0</th>\n",
       "      <td>\\nWanindu Hasaranga\\n</td>\n",
       "      <td>SL</td>\n",
       "      <td>679</td>\n",
       "    </tr>\n",
       "    <tr>\n",
       "      <th>1</th>\n",
       "      <td>\\nAdil Rashid\\n</td>\n",
       "      <td>ENG</td>\n",
       "      <td>679</td>\n",
       "    </tr>\n",
       "    <tr>\n",
       "      <th>2</th>\n",
       "      <td>\\nMaheesh Theekshana\\n</td>\n",
       "      <td>SL</td>\n",
       "      <td>677</td>\n",
       "    </tr>\n",
       "    <tr>\n",
       "      <th>3</th>\n",
       "      <td>\\nJosh Hazlewood\\n</td>\n",
       "      <td>AUS</td>\n",
       "      <td>670</td>\n",
       "    </tr>\n",
       "    <tr>\n",
       "      <th>4</th>\n",
       "      <td>\\nSam Curran\\n</td>\n",
       "      <td>ENG</td>\n",
       "      <td>659</td>\n",
       "    </tr>\n",
       "    <tr>\n",
       "      <th>5</th>\n",
       "      <td>\\nFazalhaq Farooqi\\n</td>\n",
       "      <td>AFG</td>\n",
       "      <td>657</td>\n",
       "    </tr>\n",
       "    <tr>\n",
       "      <th>6</th>\n",
       "      <td>\\nAdam Zampa\\n</td>\n",
       "      <td>AUS</td>\n",
       "      <td>657</td>\n",
       "    </tr>\n",
       "    <tr>\n",
       "      <th>7</th>\n",
       "      <td>\\nMujeeb Ur Rahman\\n</td>\n",
       "      <td>AFG</td>\n",
       "      <td>656</td>\n",
       "    </tr>\n",
       "    <tr>\n",
       "      <th>8</th>\n",
       "      <td>\\nAkeal Hosein\\n</td>\n",
       "      <td>WI</td>\n",
       "      <td>655</td>\n",
       "    </tr>\n",
       "    <tr>\n",
       "      <th>9</th>\n",
       "      <td>\\nAnrich Nortje\\n</td>\n",
       "      <td>SA</td>\n",
       "      <td>647</td>\n",
       "    </tr>\n",
       "  </tbody>\n",
       "</table>\n",
       "</div>"
      ],
      "text/plain": [
       "              player_Name Team_Name Rating\n",
       "0   \\nWanindu Hasaranga\\n        SL    679\n",
       "1         \\nAdil Rashid\\n       ENG    679\n",
       "2  \\nMaheesh Theekshana\\n        SL    677\n",
       "3      \\nJosh Hazlewood\\n       AUS    670\n",
       "4          \\nSam Curran\\n       ENG    659\n",
       "5    \\nFazalhaq Farooqi\\n       AFG    657\n",
       "6          \\nAdam Zampa\\n       AUS    657\n",
       "7    \\nMujeeb Ur Rahman\\n       AFG    656\n",
       "8        \\nAkeal Hosein\\n        WI    655\n",
       "9       \\nAnrich Nortje\\n        SA    647"
      ]
     },
     "execution_count": 240,
     "metadata": {},
     "output_type": "execute_result"
    }
   ],
   "source": [
    "#data frame of bowlers\n",
    "df_bowlers=pd.DataFrame({'player_Name':bowlers,'Team_Name':teams,'Rating':ratings})\n",
    "df_bowlers"
   ]
  },
  {
   "cell_type": "markdown",
   "id": "995f3fb0-30f2-4391-b9ca-82fd9405bc96",
   "metadata": {},
   "source": [
    "Question no 4 solution (a)"
   ]
  },
  {
   "cell_type": "code",
   "execution_count": 244,
   "id": "2a43750c-b65a-4795-b604-730364208178",
   "metadata": {},
   "outputs": [],
   "source": [
    "women_page=requests.get('https://www.icc-cricket.com/rankings/womens/team-rankings/odi')\n",
    "soup=BeautifulSoup(women_page.content)\n"
   ]
  },
  {
   "cell_type": "code",
   "execution_count": 248,
   "id": "603a73b7-e1c4-4f11-9f2a-42653b483a04",
   "metadata": {},
   "outputs": [
    {
     "data": {
      "text/plain": [
       "['England',\n",
       " 'South Africa',\n",
       " 'India',\n",
       " 'New Zealand',\n",
       " 'West Indies',\n",
       " 'Sri Lanka',\n",
       " 'Bangladesh',\n",
       " 'Thailand',\n",
       " 'Pakistan',\n",
       " 'Ireland']"
      ]
     },
     "execution_count": 248,
     "metadata": {},
     "output_type": "execute_result"
    }
   ],
   "source": [
    "#women teames\n",
    "w=[]\n",
    "for i in soup.find_all('span',class_=\"u-hide-phablet\"):\n",
    "    w.append(i.text)\n",
    "    \n",
    "w_teams=w[1:11]\n",
    "w_teams\n"
   ]
  },
  {
   "cell_type": "code",
   "execution_count": 246,
   "id": "6d4c0d99-8fd9-4109-974e-8a99d8a5e912",
   "metadata": {},
   "outputs": [
    {
     "data": {
      "text/plain": [
       "['23', '2,991', '21', '2,446', '18', '1,745', '21', '2,014', '18', '1,610']"
      ]
     },
     "execution_count": 246,
     "metadata": {},
     "output_type": "execute_result"
    }
   ],
   "source": [
    "#women matches\n",
    "wm=[]\n",
    "for i in soup.find_all('td',class_=\"table-body__cell u-center-text\"):\n",
    "    wm.append(i.text)\n",
    "    \n",
    "w_matches=wm[:10]\n",
    "w_matches\n",
    "             "
   ]
  },
  {
   "cell_type": "code",
   "execution_count": null,
   "id": "58ebb33b-c24d-4725-a5d5-947251eee722",
   "metadata": {},
   "outputs": [],
   "source": [
    "#women points\n",
    "wp=[]\n",
    "for i in soup.find_all('td',class_=\"table-body__cell u-center-text\"):\n",
    "    wp.append(i.text)\n",
    "w_points=wp[:10]"
   ]
  },
  {
   "cell_type": "code",
   "execution_count": 250,
   "id": "0e6eedd4-30d6-4406-acf3-38a4fb8128ba",
   "metadata": {},
   "outputs": [
    {
     "data": {
      "text/plain": [
       "['23', '2,991', '21', '2,446', '18', '1,745', '21', '2,014', '18', '1,610']"
      ]
     },
     "execution_count": 250,
     "metadata": {},
     "output_type": "execute_result"
    }
   ],
   "source": [
    "w_points"
   ]
  },
  {
   "cell_type": "code",
   "execution_count": 253,
   "id": "3ade594f-75dc-4c78-84b8-cfa642aeff50",
   "metadata": {},
   "outputs": [
    {
     "data": {
      "text/plain": [
       "['130', '116', '97', '96', '89', '79', '74', '68', '68', '32']"
      ]
     },
     "execution_count": 253,
     "metadata": {},
     "output_type": "execute_result"
    }
   ],
   "source": [
    "#women rating\n",
    "wr=[]\n",
    "for i in soup.find_all('td',class_=\"table-body__cell u-text-right rating\"):\n",
    "    wr.append(i.text)\n",
    "    \n",
    "w_rating=wr[:10]\n",
    "w_rating"
   ]
  },
  {
   "cell_type": "code",
   "execution_count": 255,
   "id": "3d4404ac-dff6-41a4-b8c1-466d95a72574",
   "metadata": {},
   "outputs": [
    {
     "data": {
      "text/html": [
       "<div>\n",
       "<style scoped>\n",
       "    .dataframe tbody tr th:only-of-type {\n",
       "        vertical-align: middle;\n",
       "    }\n",
       "\n",
       "    .dataframe tbody tr th {\n",
       "        vertical-align: top;\n",
       "    }\n",
       "\n",
       "    .dataframe thead th {\n",
       "        text-align: right;\n",
       "    }\n",
       "</style>\n",
       "<table border=\"1\" class=\"dataframe\">\n",
       "  <thead>\n",
       "    <tr style=\"text-align: right;\">\n",
       "      <th></th>\n",
       "      <th>Team</th>\n",
       "      <th>Matches</th>\n",
       "      <th>Points</th>\n",
       "      <th>Rating</th>\n",
       "    </tr>\n",
       "  </thead>\n",
       "  <tbody>\n",
       "    <tr>\n",
       "      <th>0</th>\n",
       "      <td>England</td>\n",
       "      <td>23</td>\n",
       "      <td>23</td>\n",
       "      <td>130</td>\n",
       "    </tr>\n",
       "    <tr>\n",
       "      <th>1</th>\n",
       "      <td>South Africa</td>\n",
       "      <td>2,991</td>\n",
       "      <td>2,991</td>\n",
       "      <td>116</td>\n",
       "    </tr>\n",
       "    <tr>\n",
       "      <th>2</th>\n",
       "      <td>India</td>\n",
       "      <td>21</td>\n",
       "      <td>21</td>\n",
       "      <td>97</td>\n",
       "    </tr>\n",
       "    <tr>\n",
       "      <th>3</th>\n",
       "      <td>New Zealand</td>\n",
       "      <td>2,446</td>\n",
       "      <td>2,446</td>\n",
       "      <td>96</td>\n",
       "    </tr>\n",
       "    <tr>\n",
       "      <th>4</th>\n",
       "      <td>West Indies</td>\n",
       "      <td>18</td>\n",
       "      <td>18</td>\n",
       "      <td>89</td>\n",
       "    </tr>\n",
       "    <tr>\n",
       "      <th>5</th>\n",
       "      <td>Sri Lanka</td>\n",
       "      <td>1,745</td>\n",
       "      <td>1,745</td>\n",
       "      <td>79</td>\n",
       "    </tr>\n",
       "    <tr>\n",
       "      <th>6</th>\n",
       "      <td>Bangladesh</td>\n",
       "      <td>21</td>\n",
       "      <td>21</td>\n",
       "      <td>74</td>\n",
       "    </tr>\n",
       "    <tr>\n",
       "      <th>7</th>\n",
       "      <td>Thailand</td>\n",
       "      <td>2,014</td>\n",
       "      <td>2,014</td>\n",
       "      <td>68</td>\n",
       "    </tr>\n",
       "    <tr>\n",
       "      <th>8</th>\n",
       "      <td>Pakistan</td>\n",
       "      <td>18</td>\n",
       "      <td>18</td>\n",
       "      <td>68</td>\n",
       "    </tr>\n",
       "    <tr>\n",
       "      <th>9</th>\n",
       "      <td>Ireland</td>\n",
       "      <td>1,610</td>\n",
       "      <td>1,610</td>\n",
       "      <td>32</td>\n",
       "    </tr>\n",
       "  </tbody>\n",
       "</table>\n",
       "</div>"
      ],
      "text/plain": [
       "           Team Matches Points Rating\n",
       "0       England      23     23    130\n",
       "1  South Africa   2,991  2,991    116\n",
       "2         India      21     21     97\n",
       "3   New Zealand   2,446  2,446     96\n",
       "4   West Indies      18     18     89\n",
       "5     Sri Lanka   1,745  1,745     79\n",
       "6    Bangladesh      21     21     74\n",
       "7      Thailand   2,014  2,014     68\n",
       "8      Pakistan      18     18     68\n",
       "9       Ireland   1,610  1,610     32"
      ]
     },
     "execution_count": 255,
     "metadata": {},
     "output_type": "execute_result"
    }
   ],
   "source": [
    "#women team data frame\n",
    "w_team=pd.DataFrame({'Team':w_teams,'Matches':w_matches,'Points':w_points,'Rating':w_rating})\n",
    "w_team"
   ]
  },
  {
   "cell_type": "markdown",
   "id": "6123d25f-d40f-4b7c-a8bd-b83c393b0f38",
   "metadata": {},
   "source": [
    "#note: matches and points column has same class so tha i face an issue to extrack data"
   ]
  },
  {
   "cell_type": "markdown",
   "id": "362ccb91-c976-4874-b55d-f49572b1b78a",
   "metadata": {},
   "source": [
    "Question 4 solution (b)"
   ]
  },
  {
   "cell_type": "code",
   "execution_count": 264,
   "id": "f8b5194f-e5fe-45b8-bc71-cd9764dbf21f",
   "metadata": {},
   "outputs": [],
   "source": [
    "bating_page=requests.get('https://www.icc-cricket.com/rankings/womens/player-rankings/odi/batting')\n",
    "bsoup=BeautifulSoup(bating_page.content)"
   ]
  },
  {
   "cell_type": "code",
   "execution_count": 266,
   "id": "fa705abc-d4e1-4562-91b9-f8e3e4b62ddf",
   "metadata": {},
   "outputs": [
    {
     "data": {
      "text/plain": [
       "['\\nBeth Mooney\\n',\n",
       " '\\nChamari Athapaththu\\n',\n",
       " '\\nLaura Wolvaardt\\n',\n",
       " '\\nSmriti Mandhana\\n',\n",
       " '\\nAlyssa Healy\\n',\n",
       " '\\nEllyse Perry\\n',\n",
       " '\\nHarmanpreet Kaur\\n',\n",
       " '\\nMeg Lanning\\n',\n",
       " '\\nMarizanne Kapp\\n',\n",
       " '\\nAmelia Kerr\\n']"
      ]
     },
     "execution_count": 266,
     "metadata": {},
     "output_type": "execute_result"
    }
   ],
   "source": [
    "#bating\n",
    "wb=[]\n",
    "for i in bsoup.find_all('td',class_=\"table-body__cell rankings-table__name name\"):\n",
    "    wb.append(i.text)\n",
    "women_batings=wb[:10]\n",
    "women_batings"
   ]
  },
  {
   "cell_type": "code",
   "execution_count": 269,
   "id": "c30ecfc2-2b5f-4637-a635-33b42812d1fa",
   "metadata": {},
   "outputs": [
    {
     "data": {
      "text/plain": [
       "['AUS', 'SL', 'SA', 'IND', 'AUS', 'AUS', 'IND', 'AUS', 'SA', 'NZ']"
      ]
     },
     "execution_count": 269,
     "metadata": {},
     "output_type": "execute_result"
    }
   ],
   "source": [
    "#women team\n",
    "w_team=[]\n",
    "for i in bsoup.find_all('span',class_=\"table-body__logo-text\"):\n",
    "    w_team.append(i.text)\n",
    "women_team=w_team[:10]\n",
    "women_team"
   ]
  },
  {
   "cell_type": "code",
   "execution_count": 270,
   "id": "2e19a8cf-5ab3-4084-824f-09cf75c417fd",
   "metadata": {},
   "outputs": [
    {
     "data": {
      "text/plain": [
       "['750', '736', '727', '708', '698', '697', '694', '662', '642', '628']"
      ]
     },
     "execution_count": 270,
     "metadata": {},
     "output_type": "execute_result"
    }
   ],
   "source": [
    "#bating rating\n",
    "b_rating=[]\n",
    "for i in bsoup.find_all('td',class_=\"table-body__cell rating\"):\n",
    "    b_rating.append(i.text)\n",
    "b_ratings=b_rating[:10]\n",
    "b_ratings"
   ]
  },
  {
   "cell_type": "code",
   "execution_count": 276,
   "id": "f80c42e1-d517-48e2-b295-42551168fd8f",
   "metadata": {},
   "outputs": [
    {
     "name": "stdout",
     "output_type": "stream",
     "text": [
      "10 10 10\n"
     ]
    }
   ],
   "source": [
    "print(len(women_batings),len(women_team),len(b_ratings))"
   ]
  },
  {
   "cell_type": "code",
   "execution_count": 277,
   "id": "765c358e-7ad6-4a9e-a999-8668d0e7afa6",
   "metadata": {},
   "outputs": [
    {
     "data": {
      "text/html": [
       "<div>\n",
       "<style scoped>\n",
       "    .dataframe tbody tr th:only-of-type {\n",
       "        vertical-align: middle;\n",
       "    }\n",
       "\n",
       "    .dataframe tbody tr th {\n",
       "        vertical-align: top;\n",
       "    }\n",
       "\n",
       "    .dataframe thead th {\n",
       "        text-align: right;\n",
       "    }\n",
       "</style>\n",
       "<table border=\"1\" class=\"dataframe\">\n",
       "  <thead>\n",
       "    <tr style=\"text-align: right;\">\n",
       "      <th></th>\n",
       "      <th>Player Name</th>\n",
       "      <th>Team</th>\n",
       "      <th>Rating</th>\n",
       "    </tr>\n",
       "  </thead>\n",
       "  <tbody>\n",
       "    <tr>\n",
       "      <th>0</th>\n",
       "      <td>\\nBeth Mooney\\n</td>\n",
       "      <td>AUS</td>\n",
       "      <td>750</td>\n",
       "    </tr>\n",
       "    <tr>\n",
       "      <th>1</th>\n",
       "      <td>\\nChamari Athapaththu\\n</td>\n",
       "      <td>SL</td>\n",
       "      <td>736</td>\n",
       "    </tr>\n",
       "    <tr>\n",
       "      <th>2</th>\n",
       "      <td>\\nLaura Wolvaardt\\n</td>\n",
       "      <td>SA</td>\n",
       "      <td>727</td>\n",
       "    </tr>\n",
       "    <tr>\n",
       "      <th>3</th>\n",
       "      <td>\\nSmriti Mandhana\\n</td>\n",
       "      <td>IND</td>\n",
       "      <td>708</td>\n",
       "    </tr>\n",
       "    <tr>\n",
       "      <th>4</th>\n",
       "      <td>\\nAlyssa Healy\\n</td>\n",
       "      <td>AUS</td>\n",
       "      <td>698</td>\n",
       "    </tr>\n",
       "    <tr>\n",
       "      <th>5</th>\n",
       "      <td>\\nEllyse Perry\\n</td>\n",
       "      <td>AUS</td>\n",
       "      <td>697</td>\n",
       "    </tr>\n",
       "    <tr>\n",
       "      <th>6</th>\n",
       "      <td>\\nHarmanpreet Kaur\\n</td>\n",
       "      <td>IND</td>\n",
       "      <td>694</td>\n",
       "    </tr>\n",
       "    <tr>\n",
       "      <th>7</th>\n",
       "      <td>\\nMeg Lanning\\n</td>\n",
       "      <td>AUS</td>\n",
       "      <td>662</td>\n",
       "    </tr>\n",
       "    <tr>\n",
       "      <th>8</th>\n",
       "      <td>\\nMarizanne Kapp\\n</td>\n",
       "      <td>SA</td>\n",
       "      <td>642</td>\n",
       "    </tr>\n",
       "    <tr>\n",
       "      <th>9</th>\n",
       "      <td>\\nAmelia Kerr\\n</td>\n",
       "      <td>NZ</td>\n",
       "      <td>628</td>\n",
       "    </tr>\n",
       "  </tbody>\n",
       "</table>\n",
       "</div>"
      ],
      "text/plain": [
       "               Player Name Team Rating\n",
       "0          \\nBeth Mooney\\n  AUS    750\n",
       "1  \\nChamari Athapaththu\\n   SL    736\n",
       "2      \\nLaura Wolvaardt\\n   SA    727\n",
       "3      \\nSmriti Mandhana\\n  IND    708\n",
       "4         \\nAlyssa Healy\\n  AUS    698\n",
       "5         \\nEllyse Perry\\n  AUS    697\n",
       "6     \\nHarmanpreet Kaur\\n  IND    694\n",
       "7          \\nMeg Lanning\\n  AUS    662\n",
       "8       \\nMarizanne Kapp\\n   SA    642\n",
       "9          \\nAmelia Kerr\\n   NZ    628"
      ]
     },
     "execution_count": 277,
     "metadata": {},
     "output_type": "execute_result"
    }
   ],
   "source": [
    "#bating data frame of women\n",
    "bating_frame=pd.DataFrame({'Player Name':women_batings,'Team':women_team,'Rating':b_ratings})\n",
    "bating_frame"
   ]
  },
  {
   "cell_type": "markdown",
   "id": "c20912a3-e428-4515-aa8f-c14415b41854",
   "metadata": {},
   "source": [
    "Question 4 solution (c)"
   ]
  },
  {
   "cell_type": "code",
   "execution_count": 280,
   "id": "25b2a93c-9e9c-4ca7-93fe-0eec3f22b85b",
   "metadata": {},
   "outputs": [],
   "source": [
    "ar_page=requests.get('https://www.icc-cricket.com/rankings/womens/player-rankings/odi/all-rounder')\n",
    "rsoup=BeautifulSoup(ar_page.content)\n"
   ]
  },
  {
   "cell_type": "code",
   "execution_count": 283,
   "id": "4dc10abd-d90b-4dba-b5d9-0949ed07184a",
   "metadata": {},
   "outputs": [
    {
     "data": {
      "text/plain": [
       "['\\nAshleigh Gardner\\n',\n",
       " '\\nNatalie Sciver-Brunt\\n',\n",
       " '\\nHayley Matthews\\n',\n",
       " '\\nAmelia Kerr\\n',\n",
       " '\\nDeepti Sharma\\n',\n",
       " '\\nEllyse Perry\\n',\n",
       " '\\nJess Jonassen\\n',\n",
       " '\\nSophie Devine\\n',\n",
       " '\\nNida Dar\\n',\n",
       " '\\nChloe-Lesleigh Tryon\\n']"
      ]
     },
     "execution_count": 283,
     "metadata": {},
     "output_type": "execute_result"
    }
   ],
   "source": [
    "#all rounder women's\n",
    "ar_name=[]\n",
    "for i in rsoup.find_all('td',class_=\"table-body__cell rankings-table__name name\"):\n",
    "    ar_name.append(i.text)\n",
    "ar_names=ar_name[:10]\n",
    "ar_names"
   ]
  },
  {
   "cell_type": "code",
   "execution_count": 284,
   "id": "79e0a062-9742-4ddc-8730-c8568f3fd475",
   "metadata": {},
   "outputs": [
    {
     "data": {
      "text/plain": [
       "['AUS', 'ENG', 'WI', 'NZ', 'IND', 'AUS', 'AUS', 'NZ', 'PAK', 'SA']"
      ]
     },
     "execution_count": 284,
     "metadata": {},
     "output_type": "execute_result"
    }
   ],
   "source": [
    "#all rounder team\n",
    "ar_team=[]\n",
    "for i in rsoup.find_all('span',class_=\"table-body__logo-text\"):\n",
    "    ar_team.append(i.text)\n",
    "ar_teams=ar_team[:10]\n",
    "ar_teams"
   ]
  },
  {
   "cell_type": "code",
   "execution_count": 286,
   "id": "18f89e4c-3020-4aab-88fc-48f44da1c85d",
   "metadata": {},
   "outputs": [
    {
     "data": {
      "text/plain": [
       "['377', '360', '358', '346', '312', '282', '227', '227', '224', '212']"
      ]
     },
     "execution_count": 286,
     "metadata": {},
     "output_type": "execute_result"
    }
   ],
   "source": [
    "#all rounder rating\n",
    "ar_rating=[]\n",
    "for i in rsoup.find_all('td',class_=\"table-body__cell rating\"):\n",
    "    ar_rating.append(i.text)\n",
    "ar_ratings=ar_rating[:10]\n",
    "ar_ratings"
   ]
  },
  {
   "cell_type": "code",
   "execution_count": 287,
   "id": "435c4ce8-54d9-413e-95a7-ba1c37d67c82",
   "metadata": {},
   "outputs": [
    {
     "data": {
      "text/html": [
       "<div>\n",
       "<style scoped>\n",
       "    .dataframe tbody tr th:only-of-type {\n",
       "        vertical-align: middle;\n",
       "    }\n",
       "\n",
       "    .dataframe tbody tr th {\n",
       "        vertical-align: top;\n",
       "    }\n",
       "\n",
       "    .dataframe thead th {\n",
       "        text-align: right;\n",
       "    }\n",
       "</style>\n",
       "<table border=\"1\" class=\"dataframe\">\n",
       "  <thead>\n",
       "    <tr style=\"text-align: right;\">\n",
       "      <th></th>\n",
       "      <th>Name</th>\n",
       "      <th>Team</th>\n",
       "      <th>Rating</th>\n",
       "    </tr>\n",
       "  </thead>\n",
       "  <tbody>\n",
       "    <tr>\n",
       "      <th>0</th>\n",
       "      <td>\\nAshleigh Gardner\\n</td>\n",
       "      <td>AUS</td>\n",
       "      <td>377</td>\n",
       "    </tr>\n",
       "    <tr>\n",
       "      <th>1</th>\n",
       "      <td>\\nNatalie Sciver-Brunt\\n</td>\n",
       "      <td>ENG</td>\n",
       "      <td>360</td>\n",
       "    </tr>\n",
       "    <tr>\n",
       "      <th>2</th>\n",
       "      <td>\\nHayley Matthews\\n</td>\n",
       "      <td>WI</td>\n",
       "      <td>358</td>\n",
       "    </tr>\n",
       "    <tr>\n",
       "      <th>3</th>\n",
       "      <td>\\nAmelia Kerr\\n</td>\n",
       "      <td>NZ</td>\n",
       "      <td>346</td>\n",
       "    </tr>\n",
       "    <tr>\n",
       "      <th>4</th>\n",
       "      <td>\\nDeepti Sharma\\n</td>\n",
       "      <td>IND</td>\n",
       "      <td>312</td>\n",
       "    </tr>\n",
       "    <tr>\n",
       "      <th>5</th>\n",
       "      <td>\\nEllyse Perry\\n</td>\n",
       "      <td>AUS</td>\n",
       "      <td>282</td>\n",
       "    </tr>\n",
       "    <tr>\n",
       "      <th>6</th>\n",
       "      <td>\\nJess Jonassen\\n</td>\n",
       "      <td>AUS</td>\n",
       "      <td>227</td>\n",
       "    </tr>\n",
       "    <tr>\n",
       "      <th>7</th>\n",
       "      <td>\\nSophie Devine\\n</td>\n",
       "      <td>NZ</td>\n",
       "      <td>227</td>\n",
       "    </tr>\n",
       "    <tr>\n",
       "      <th>8</th>\n",
       "      <td>\\nNida Dar\\n</td>\n",
       "      <td>PAK</td>\n",
       "      <td>224</td>\n",
       "    </tr>\n",
       "    <tr>\n",
       "      <th>9</th>\n",
       "      <td>\\nChloe-Lesleigh Tryon\\n</td>\n",
       "      <td>SA</td>\n",
       "      <td>212</td>\n",
       "    </tr>\n",
       "  </tbody>\n",
       "</table>\n",
       "</div>"
      ],
      "text/plain": [
       "                       Name Team Rating\n",
       "0      \\nAshleigh Gardner\\n  AUS    377\n",
       "1  \\nNatalie Sciver-Brunt\\n  ENG    360\n",
       "2       \\nHayley Matthews\\n   WI    358\n",
       "3           \\nAmelia Kerr\\n   NZ    346\n",
       "4         \\nDeepti Sharma\\n  IND    312\n",
       "5          \\nEllyse Perry\\n  AUS    282\n",
       "6         \\nJess Jonassen\\n  AUS    227\n",
       "7         \\nSophie Devine\\n   NZ    227\n",
       "8              \\nNida Dar\\n  PAK    224\n",
       "9  \\nChloe-Lesleigh Tryon\\n   SA    212"
      ]
     },
     "execution_count": 287,
     "metadata": {},
     "output_type": "execute_result"
    }
   ],
   "source": [
    "#all rounder data frame\n",
    "ar_frame=pd.DataFrame({'Name':ar_names,'Team':ar_teams,'Rating':ar_ratings})\n",
    "ar_frame"
   ]
  },
  {
   "cell_type": "markdown",
   "id": "e721dd47-752c-4a19-8d2f-f32f17be535c",
   "metadata": {},
   "source": [
    "Question 5 solution (i)"
   ]
  },
  {
   "cell_type": "code",
   "execution_count": 290,
   "id": "37354ec4-850b-4814-bf32-b3d33a0181e6",
   "metadata": {},
   "outputs": [],
   "source": [
    "news_page=requests.get('https://www.cnbc.com/world/?region=world')\n",
    "nsoup=BeautifulSoup(news_page.content)\n"
   ]
  },
  {
   "cell_type": "code",
   "execution_count": 295,
   "id": "7f11dc61-ef14-4365-a191-4e3375277497",
   "metadata": {},
   "outputs": [],
   "source": [
    "#headlines\n",
    "headlines=[]\n",
    "for i in nsoup.find_all('a',class_=\"LatestNews-headline\"):\n",
    "    headlines.append(i.text)"
   ]
  },
  {
   "cell_type": "code",
   "execution_count": 298,
   "id": "e395f56b-8073-467a-a153-7187e8cdfd92",
   "metadata": {},
   "outputs": [],
   "source": [
    "#time\n",
    "time=[]\n",
    "for i in nsoup.find_all('time',class_=\"LatestNews-timestamp\"):\n",
    "    time.append(i.text)\n"
   ]
  },
  {
   "cell_type": "code",
   "execution_count": 307,
   "id": "517d135e-ff46-4258-9c4b-309e69e312ce",
   "metadata": {},
   "outputs": [],
   "source": [
    "#news link\n",
    "link=[]\n",
    "for i in nsoup.find_all('a',class_=\"LatestNews-headline\"):\n",
    "    link.append(i['href'])\n"
   ]
  },
  {
   "cell_type": "code",
   "execution_count": 309,
   "id": "2a6ff50e-dcd3-4b55-a530-6ffcb65cac9b",
   "metadata": {},
   "outputs": [
    {
     "data": {
      "text/html": [
       "<div>\n",
       "<style scoped>\n",
       "    .dataframe tbody tr th:only-of-type {\n",
       "        vertical-align: middle;\n",
       "    }\n",
       "\n",
       "    .dataframe tbody tr th {\n",
       "        vertical-align: top;\n",
       "    }\n",
       "\n",
       "    .dataframe thead th {\n",
       "        text-align: right;\n",
       "    }\n",
       "</style>\n",
       "<table border=\"1\" class=\"dataframe\">\n",
       "  <thead>\n",
       "    <tr style=\"text-align: right;\">\n",
       "      <th></th>\n",
       "      <th>Headlines</th>\n",
       "      <th>Time</th>\n",
       "      <th>Link</th>\n",
       "    </tr>\n",
       "  </thead>\n",
       "  <tbody>\n",
       "    <tr>\n",
       "      <th>0</th>\n",
       "      <td>Israel vows to continue 'large scale' strikes;...</td>\n",
       "      <td>2 Hours Ago</td>\n",
       "      <td>https://www.cnbc.com/2023/10/29/israel-hamas-w...</td>\n",
       "    </tr>\n",
       "    <tr>\n",
       "      <th>1</th>\n",
       "      <td>Jamie Dimon's stock-moving trades show benefit...</td>\n",
       "      <td>16 Hours Ago</td>\n",
       "      <td>https://www.cnbc.com/2023/10/28/jamie-dimon-tr...</td>\n",
       "    </tr>\n",
       "    <tr>\n",
       "      <th>2</th>\n",
       "      <td>Mike Pence ends campaign for the White House a...</td>\n",
       "      <td>15 Hours Ago</td>\n",
       "      <td>https://www.cnbc.com/2023/10/28/former-vice-pr...</td>\n",
       "    </tr>\n",
       "    <tr>\n",
       "      <th>3</th>\n",
       "      <td>UAW in tentative deal to end labor strike with...</td>\n",
       "      <td>17 Hours Ago</td>\n",
       "      <td>https://www.cnbc.com/2023/10/28/uaw-strike-ste...</td>\n",
       "    </tr>\n",
       "    <tr>\n",
       "      <th>4</th>\n",
       "      <td>Suze Orman: ‘Big mistake if you park your mone...</td>\n",
       "      <td>19 Hours Ago</td>\n",
       "      <td>https://www.cnbc.com/2023/10/28/suze-orman-big...</td>\n",
       "    </tr>\n",
       "    <tr>\n",
       "      <th>5</th>\n",
       "      <td>Jobs and earnings are major themes next week a...</td>\n",
       "      <td>20 Hours Ago</td>\n",
       "      <td>https://www.cnbc.com/2023/10/28/jobs-earnings-...</td>\n",
       "    </tr>\n",
       "    <tr>\n",
       "      <th>6</th>\n",
       "      <td>Here's Americans' net worth at every age—for p...</td>\n",
       "      <td>20 Hours Ago</td>\n",
       "      <td>https://www.cnbc.com/2023/10/28/americans-medi...</td>\n",
       "    </tr>\n",
       "    <tr>\n",
       "      <th>7</th>\n",
       "      <td>Psychologist: Here's my No.1 brain hack for cr...</td>\n",
       "      <td>20 Hours Ago</td>\n",
       "      <td>https://www.cnbc.com/2023/10/28/uchicago-psych...</td>\n",
       "    </tr>\n",
       "    <tr>\n",
       "      <th>8</th>\n",
       "      <td>Routine S&amp;P 500 correction or something more s...</td>\n",
       "      <td>20 Hours Ago</td>\n",
       "      <td>https://www.cnbc.com/2023/10/28/analyzing-the-...</td>\n",
       "    </tr>\n",
       "    <tr>\n",
       "      <th>9</th>\n",
       "      <td>Why it's so expensive to be single in the U.S.</td>\n",
       "      <td>21 Hours Ago</td>\n",
       "      <td>https://www.cnbc.com/2023/10/28/why-its-so-exp...</td>\n",
       "    </tr>\n",
       "    <tr>\n",
       "      <th>10</th>\n",
       "      <td>Use this Google feature to detect and delete y...</td>\n",
       "      <td>21 Hours Ago</td>\n",
       "      <td>https://www.cnbc.com/2023/10/28/how-to-delete-...</td>\n",
       "    </tr>\n",
       "    <tr>\n",
       "      <th>11</th>\n",
       "      <td>Reddit co-founder: Most successful people shar...</td>\n",
       "      <td>21 Hours Ago</td>\n",
       "      <td>https://www.cnbc.com/2023/10/28/reddit-co-foun...</td>\n",
       "    </tr>\n",
       "    <tr>\n",
       "      <th>12</th>\n",
       "      <td>'Earn Your Leisure' hosts: It may take $10 mil...</td>\n",
       "      <td>22 Hours Ago</td>\n",
       "      <td>https://www.cnbc.com/2023/10/28/earn-your-leis...</td>\n",
       "    </tr>\n",
       "    <tr>\n",
       "      <th>13</th>\n",
       "      <td>Coke and Pepsi stocks are struggling — but one...</td>\n",
       "      <td>22 Hours Ago</td>\n",
       "      <td>https://www.cnbc.com/2023/10/28/coke-and-pepsi...</td>\n",
       "    </tr>\n",
       "    <tr>\n",
       "      <th>14</th>\n",
       "      <td>Israel-Hamas war is affecting the financial ou...</td>\n",
       "      <td>23 Hours Ago</td>\n",
       "      <td>https://www.cnbc.com/2023/10/28/israel-hamas-w...</td>\n",
       "    </tr>\n",
       "    <tr>\n",
       "      <th>15</th>\n",
       "      <td>The S&amp;P 500is in a correction. Why Warren Buff...</td>\n",
       "      <td>23 Hours Ago</td>\n",
       "      <td>https://www.cnbc.com/2023/10/28/the-sp-500-has...</td>\n",
       "    </tr>\n",
       "    <tr>\n",
       "      <th>16</th>\n",
       "      <td>Stocks like Rivian are a table-pounding buy ah...</td>\n",
       "      <td>23 Hours Ago</td>\n",
       "      <td>https://www.cnbc.com/2023/10/28/buy-these-stoc...</td>\n",
       "    </tr>\n",
       "    <tr>\n",
       "      <th>17</th>\n",
       "      <td>Israeli forces in Gaza 'increasing the ground ...</td>\n",
       "      <td>October 28, 2023</td>\n",
       "      <td>https://www.cnbc.com/2023/10/28/israel-hamas-w...</td>\n",
       "    </tr>\n",
       "    <tr>\n",
       "      <th>18</th>\n",
       "      <td>Google commits to invest $2 billion in OpenAI ...</td>\n",
       "      <td>October 27, 2023</td>\n",
       "      <td>https://www.cnbc.com/2023/10/27/google-commits...</td>\n",
       "    </tr>\n",
       "    <tr>\n",
       "      <th>19</th>\n",
       "      <td>Jim Cramer on Byron Wien: 'An optimist, always...</td>\n",
       "      <td>October 27, 2023</td>\n",
       "      <td>https://www.cnbc.com/2023/10/27/jim-cramer-rem...</td>\n",
       "    </tr>\n",
       "    <tr>\n",
       "      <th>20</th>\n",
       "      <td>Cramer's Lightning Round: 'Pass' on General Mo...</td>\n",
       "      <td>October 27, 2023</td>\n",
       "      <td>https://www.cnbc.com/2023/10/27/cramers-lightn...</td>\n",
       "    </tr>\n",
       "    <tr>\n",
       "      <th>21</th>\n",
       "      <td>Cramer's week ahead: Federal Reserve meeting, ...</td>\n",
       "      <td>October 27, 2023</td>\n",
       "      <td>https://www.cnbc.com/2023/10/27/cramers-week-a...</td>\n",
       "    </tr>\n",
       "    <tr>\n",
       "      <th>22</th>\n",
       "      <td>Vanguard bond chief sees recession in 2024. He...</td>\n",
       "      <td>October 27, 2023</td>\n",
       "      <td>https://www.cnbc.com/2023/10/27/vanguards-bond...</td>\n",
       "    </tr>\n",
       "    <tr>\n",
       "      <th>23</th>\n",
       "      <td>Team Biden barely responds to Democrat Dean Ph...</td>\n",
       "      <td>October 27, 2023</td>\n",
       "      <td>https://www.cnbc.com/2023/10/27/team-biden-res...</td>\n",
       "    </tr>\n",
       "    <tr>\n",
       "      <th>24</th>\n",
       "      <td>Amazon shares surge after earnings beat expect...</td>\n",
       "      <td>October 27, 2023</td>\n",
       "      <td>https://www.cnbc.com/2023/10/27/amazon-shares-...</td>\n",
       "    </tr>\n",
       "    <tr>\n",
       "      <th>25</th>\n",
       "      <td>Experts weigh in on recent college grad's vira...</td>\n",
       "      <td>October 27, 2023</td>\n",
       "      <td>https://www.cnbc.com/2023/10/27/college-grad-g...</td>\n",
       "    </tr>\n",
       "    <tr>\n",
       "      <th>26</th>\n",
       "      <td>We had a busy week of trades in an oversold ma...</td>\n",
       "      <td>October 27, 2023</td>\n",
       "      <td>https://www.cnbc.com/2023/10/27/we-had-a-busy-...</td>\n",
       "    </tr>\n",
       "    <tr>\n",
       "      <th>27</th>\n",
       "      <td>New tool lets artists 'poison' their artwork t...</td>\n",
       "      <td>October 27, 2023</td>\n",
       "      <td>https://www.cnbc.com/2023/10/27/new-tool-lets-...</td>\n",
       "    </tr>\n",
       "    <tr>\n",
       "      <th>28</th>\n",
       "      <td>Eggo just launched a $150 robot vacuum cleaner...</td>\n",
       "      <td>October 27, 2023</td>\n",
       "      <td>https://www.cnbc.com/2023/10/27/eggo-is-sellin...</td>\n",
       "    </tr>\n",
       "    <tr>\n",
       "      <th>29</th>\n",
       "      <td>Trauma can leave you 'stuck in states of anger...</td>\n",
       "      <td>October 27, 2023</td>\n",
       "      <td>https://www.cnbc.com/2023/10/27/ways-to-heal-a...</td>\n",
       "    </tr>\n",
       "  </tbody>\n",
       "</table>\n",
       "</div>"
      ],
      "text/plain": [
       "                                            Headlines              Time  \\\n",
       "0   Israel vows to continue 'large scale' strikes;...       2 Hours Ago   \n",
       "1   Jamie Dimon's stock-moving trades show benefit...      16 Hours Ago   \n",
       "2   Mike Pence ends campaign for the White House a...      15 Hours Ago   \n",
       "3   UAW in tentative deal to end labor strike with...      17 Hours Ago   \n",
       "4   Suze Orman: ‘Big mistake if you park your mone...      19 Hours Ago   \n",
       "5   Jobs and earnings are major themes next week a...      20 Hours Ago   \n",
       "6   Here's Americans' net worth at every age—for p...      20 Hours Ago   \n",
       "7   Psychologist: Here's my No.1 brain hack for cr...      20 Hours Ago   \n",
       "8   Routine S&P 500 correction or something more s...      20 Hours Ago   \n",
       "9      Why it's so expensive to be single in the U.S.      21 Hours Ago   \n",
       "10  Use this Google feature to detect and delete y...      21 Hours Ago   \n",
       "11  Reddit co-founder: Most successful people shar...      21 Hours Ago   \n",
       "12  'Earn Your Leisure' hosts: It may take $10 mil...      22 Hours Ago   \n",
       "13  Coke and Pepsi stocks are struggling — but one...      22 Hours Ago   \n",
       "14  Israel-Hamas war is affecting the financial ou...      23 Hours Ago   \n",
       "15  The S&P 500is in a correction. Why Warren Buff...      23 Hours Ago   \n",
       "16  Stocks like Rivian are a table-pounding buy ah...      23 Hours Ago   \n",
       "17  Israeli forces in Gaza 'increasing the ground ...  October 28, 2023   \n",
       "18  Google commits to invest $2 billion in OpenAI ...  October 27, 2023   \n",
       "19  Jim Cramer on Byron Wien: 'An optimist, always...  October 27, 2023   \n",
       "20  Cramer's Lightning Round: 'Pass' on General Mo...  October 27, 2023   \n",
       "21  Cramer's week ahead: Federal Reserve meeting, ...  October 27, 2023   \n",
       "22  Vanguard bond chief sees recession in 2024. He...  October 27, 2023   \n",
       "23  Team Biden barely responds to Democrat Dean Ph...  October 27, 2023   \n",
       "24  Amazon shares surge after earnings beat expect...  October 27, 2023   \n",
       "25  Experts weigh in on recent college grad's vira...  October 27, 2023   \n",
       "26  We had a busy week of trades in an oversold ma...  October 27, 2023   \n",
       "27  New tool lets artists 'poison' their artwork t...  October 27, 2023   \n",
       "28  Eggo just launched a $150 robot vacuum cleaner...  October 27, 2023   \n",
       "29  Trauma can leave you 'stuck in states of anger...  October 27, 2023   \n",
       "\n",
       "                                                 Link  \n",
       "0   https://www.cnbc.com/2023/10/29/israel-hamas-w...  \n",
       "1   https://www.cnbc.com/2023/10/28/jamie-dimon-tr...  \n",
       "2   https://www.cnbc.com/2023/10/28/former-vice-pr...  \n",
       "3   https://www.cnbc.com/2023/10/28/uaw-strike-ste...  \n",
       "4   https://www.cnbc.com/2023/10/28/suze-orman-big...  \n",
       "5   https://www.cnbc.com/2023/10/28/jobs-earnings-...  \n",
       "6   https://www.cnbc.com/2023/10/28/americans-medi...  \n",
       "7   https://www.cnbc.com/2023/10/28/uchicago-psych...  \n",
       "8   https://www.cnbc.com/2023/10/28/analyzing-the-...  \n",
       "9   https://www.cnbc.com/2023/10/28/why-its-so-exp...  \n",
       "10  https://www.cnbc.com/2023/10/28/how-to-delete-...  \n",
       "11  https://www.cnbc.com/2023/10/28/reddit-co-foun...  \n",
       "12  https://www.cnbc.com/2023/10/28/earn-your-leis...  \n",
       "13  https://www.cnbc.com/2023/10/28/coke-and-pepsi...  \n",
       "14  https://www.cnbc.com/2023/10/28/israel-hamas-w...  \n",
       "15  https://www.cnbc.com/2023/10/28/the-sp-500-has...  \n",
       "16  https://www.cnbc.com/2023/10/28/buy-these-stoc...  \n",
       "17  https://www.cnbc.com/2023/10/28/israel-hamas-w...  \n",
       "18  https://www.cnbc.com/2023/10/27/google-commits...  \n",
       "19  https://www.cnbc.com/2023/10/27/jim-cramer-rem...  \n",
       "20  https://www.cnbc.com/2023/10/27/cramers-lightn...  \n",
       "21  https://www.cnbc.com/2023/10/27/cramers-week-a...  \n",
       "22  https://www.cnbc.com/2023/10/27/vanguards-bond...  \n",
       "23  https://www.cnbc.com/2023/10/27/team-biden-res...  \n",
       "24  https://www.cnbc.com/2023/10/27/amazon-shares-...  \n",
       "25  https://www.cnbc.com/2023/10/27/college-grad-g...  \n",
       "26  https://www.cnbc.com/2023/10/27/we-had-a-busy-...  \n",
       "27  https://www.cnbc.com/2023/10/27/new-tool-lets-...  \n",
       "28  https://www.cnbc.com/2023/10/27/eggo-is-sellin...  \n",
       "29  https://www.cnbc.com/2023/10/27/ways-to-heal-a...  "
      ]
     },
     "execution_count": 309,
     "metadata": {},
     "output_type": "execute_result"
    }
   ],
   "source": [
    "#news data frame\n",
    "news_frame=pd.DataFrame({'Headlines':headlines,'Time':time,'Link':link})\n",
    "news_frame"
   ]
  },
  {
   "cell_type": "markdown",
   "id": "b8453575-0e03-478a-87fc-a1fd74cff829",
   "metadata": {},
   "source": [
    "Question 6 solution"
   ]
  },
  {
   "cell_type": "code",
   "execution_count": 313,
   "id": "d4abc093-2ff5-49d9-86bf-c8be1c33a470",
   "metadata": {},
   "outputs": [],
   "source": [
    "art_page=requests.get('https://www.journals.elsevier.com/artificial-intelligence/most-downloaded-articles')\n",
    "asoup=BeautifulSoup(art_page.content)\n"
   ]
  },
  {
   "cell_type": "code",
   "execution_count": 316,
   "id": "4f1fe8ef-d8a1-4df0-b493-2495848ae1b7",
   "metadata": {},
   "outputs": [],
   "source": [
    "#paper title\n",
    "pt=[]\n",
    "for i in asoup.find_all('h2',class_=\"sc-1qrq3sd-1 gRGSUS sc-1nmom32-0 sc-1nmom32-1 btcbYu goSKRg\"):\n",
    "    pt.append(i.text)\n"
   ]
  },
  {
   "cell_type": "code",
   "execution_count": 319,
   "id": "be71900f-9e35-4405-89e6-fe5a003ddf28",
   "metadata": {},
   "outputs": [],
   "source": [
    "#Author\n",
    "author=[]\n",
    "for i in asoup.find_all('span',class_=\"sc-1w3fpd7-0 dnCnAO\"):\n",
    "    author.append(i.text)\n"
   ]
  },
  {
   "cell_type": "code",
   "execution_count": 340,
   "id": "7a3994c3-7060-4d17-aa57-403dcbe60b52",
   "metadata": {},
   "outputs": [],
   "source": [
    "#Published Date\n",
    "p_date=[]\n",
    "for i in asoup.find_all('span',class_=\"sc-1thf9ly-2 dvggWt\"):\n",
    "    p_date.append(i.text)"
   ]
  },
  {
   "cell_type": "code",
   "execution_count": 337,
   "id": "3c08e16b-f6f3-4e84-975c-74f60ca0ff7b",
   "metadata": {},
   "outputs": [],
   "source": [
    "#paper url\n",
    "p_url=[]\n",
    "for i in asoup.find_all('a',class_=\"sc-5smygv-0 fIXTHm\"):\n",
    "    p_url.append(i['href'])\n"
   ]
  },
  {
   "cell_type": "code",
   "execution_count": 341,
   "id": "01ceb9a7-c499-4d2b-ad4d-daf14b98d361",
   "metadata": {},
   "outputs": [
    {
     "name": "stdout",
     "output_type": "stream",
     "text": [
      "24 24 24 24\n"
     ]
    }
   ],
   "source": [
    "print(len(pt),len(author),len(p_date),len(p_url))"
   ]
  },
  {
   "cell_type": "code",
   "execution_count": 345,
   "id": "59a1b3ad-d96a-4d0e-a6d2-5f7f9a6c4939",
   "metadata": {},
   "outputs": [
    {
     "data": {
      "text/html": [
       "<div>\n",
       "<style scoped>\n",
       "    .dataframe tbody tr th:only-of-type {\n",
       "        vertical-align: middle;\n",
       "    }\n",
       "\n",
       "    .dataframe tbody tr th {\n",
       "        vertical-align: top;\n",
       "    }\n",
       "\n",
       "    .dataframe thead th {\n",
       "        text-align: right;\n",
       "    }\n",
       "</style>\n",
       "<table border=\"1\" class=\"dataframe\">\n",
       "  <thead>\n",
       "    <tr style=\"text-align: right;\">\n",
       "      <th></th>\n",
       "      <th>Paper Title</th>\n",
       "      <th>Author</th>\n",
       "      <th>Published Date</th>\n",
       "      <th>url</th>\n",
       "    </tr>\n",
       "  </thead>\n",
       "  <tbody>\n",
       "    <tr>\n",
       "      <th>0</th>\n",
       "      <td>Reward is enough</td>\n",
       "      <td>David Silver, Satinder Singh, Doina Precup, Ri...</td>\n",
       "      <td>October 2021</td>\n",
       "      <td>https://www.sciencedirect.com/science/article/...</td>\n",
       "    </tr>\n",
       "    <tr>\n",
       "      <th>1</th>\n",
       "      <td>Explanation in artificial intelligence: Insigh...</td>\n",
       "      <td>Tim Miller</td>\n",
       "      <td>February 2019</td>\n",
       "      <td>https://www.sciencedirect.com/science/article/...</td>\n",
       "    </tr>\n",
       "    <tr>\n",
       "      <th>2</th>\n",
       "      <td>Creativity and artificial intelligence</td>\n",
       "      <td>Margaret A. Boden</td>\n",
       "      <td>August 1998</td>\n",
       "      <td>https://www.sciencedirect.com/science/article/...</td>\n",
       "    </tr>\n",
       "    <tr>\n",
       "      <th>3</th>\n",
       "      <td>Conflict-based search for optimal multi-agent ...</td>\n",
       "      <td>Guni Sharon, Roni Stern, Ariel Felner, Nathan ...</td>\n",
       "      <td>February 2015</td>\n",
       "      <td>https://www.sciencedirect.com/science/article/...</td>\n",
       "    </tr>\n",
       "    <tr>\n",
       "      <th>4</th>\n",
       "      <td>Knowledge graphs as tools for explainable mach...</td>\n",
       "      <td>Ilaria Tiddi, Stefan Schlobach</td>\n",
       "      <td>January 2022</td>\n",
       "      <td>https://www.sciencedirect.com/science/article/...</td>\n",
       "    </tr>\n",
       "    <tr>\n",
       "      <th>5</th>\n",
       "      <td>Law and logic: A review from an argumentation ...</td>\n",
       "      <td>Henry Prakken, Giovanni Sartor</td>\n",
       "      <td>October 2015</td>\n",
       "      <td>https://www.sciencedirect.com/science/article/...</td>\n",
       "    </tr>\n",
       "    <tr>\n",
       "      <th>6</th>\n",
       "      <td>Between MDPs and semi-MDPs: A framework for te...</td>\n",
       "      <td>Richard S. Sutton, Doina Precup, Satinder Singh</td>\n",
       "      <td>August 1999</td>\n",
       "      <td>https://www.sciencedirect.com/science/article/...</td>\n",
       "    </tr>\n",
       "    <tr>\n",
       "      <th>7</th>\n",
       "      <td>Explaining individual predictions when feature...</td>\n",
       "      <td>Kjersti Aas, Martin Jullum, Anders Løland</td>\n",
       "      <td>September 2021</td>\n",
       "      <td>https://www.sciencedirect.com/science/article/...</td>\n",
       "    </tr>\n",
       "    <tr>\n",
       "      <th>8</th>\n",
       "      <td>Multiple object tracking: A literature review</td>\n",
       "      <td>Wenhan Luo, Junliang Xing and 4 more</td>\n",
       "      <td>April 2021</td>\n",
       "      <td>https://www.sciencedirect.com/science/article/...</td>\n",
       "    </tr>\n",
       "    <tr>\n",
       "      <th>9</th>\n",
       "      <td>A survey of inverse reinforcement learning: Ch...</td>\n",
       "      <td>Saurabh Arora, Prashant Doshi</td>\n",
       "      <td>August 2021</td>\n",
       "      <td>https://www.sciencedirect.com/science/article/...</td>\n",
       "    </tr>\n",
       "    <tr>\n",
       "      <th>10</th>\n",
       "      <td>Evaluating XAI: A comparison of rule-based and...</td>\n",
       "      <td>Jasper van der Waa, Elisabeth Nieuwburg, Anita...</td>\n",
       "      <td>February 2021</td>\n",
       "      <td>https://www.sciencedirect.com/science/article/...</td>\n",
       "    </tr>\n",
       "    <tr>\n",
       "      <th>11</th>\n",
       "      <td>Explainable AI tools for legal reasoning about...</td>\n",
       "      <td>Joe Collenette, Katie Atkinson, Trevor Bench-C...</td>\n",
       "      <td>April 2023</td>\n",
       "      <td>https://www.sciencedirect.com/science/article/...</td>\n",
       "    </tr>\n",
       "    <tr>\n",
       "      <th>12</th>\n",
       "      <td>Hard choices in artificial intelligence</td>\n",
       "      <td>Roel Dobbe, Thomas Krendl Gilbert, Yonatan Mintz</td>\n",
       "      <td>November 2021</td>\n",
       "      <td>https://www.sciencedirect.com/science/article/...</td>\n",
       "    </tr>\n",
       "    <tr>\n",
       "      <th>13</th>\n",
       "      <td>Assessing the communication gap between AI mod...</td>\n",
       "      <td>Oskar Wysocki, Jessica Katharine Davies and 5 ...</td>\n",
       "      <td>March 2023</td>\n",
       "      <td>https://www.sciencedirect.com/science/article/...</td>\n",
       "    </tr>\n",
       "    <tr>\n",
       "      <th>14</th>\n",
       "      <td>Explaining black-box classifiers using post-ho...</td>\n",
       "      <td>Eoin M. Kenny, Courtney Ford, Molly Quinn, Mar...</td>\n",
       "      <td>May 2021</td>\n",
       "      <td>https://www.sciencedirect.com/science/article/...</td>\n",
       "    </tr>\n",
       "    <tr>\n",
       "      <th>15</th>\n",
       "      <td>The Hanabi challenge: A new frontier for AI re...</td>\n",
       "      <td>Nolan Bard, Jakob N. Foerster and 13 more</td>\n",
       "      <td>March 2020</td>\n",
       "      <td>https://www.sciencedirect.com/science/article/...</td>\n",
       "    </tr>\n",
       "    <tr>\n",
       "      <th>16</th>\n",
       "      <td>Wrappers for feature subset selection</td>\n",
       "      <td>Ron Kohavi, George H. John</td>\n",
       "      <td>December 1997</td>\n",
       "      <td>https://www.sciencedirect.com/science/article/...</td>\n",
       "    </tr>\n",
       "    <tr>\n",
       "      <th>17</th>\n",
       "      <td>Artificial cognition for social human–robot in...</td>\n",
       "      <td>Séverin Lemaignan, Mathieu Warnier and 3 more</td>\n",
       "      <td>June 2017</td>\n",
       "      <td>https://www.sciencedirect.com/science/article/...</td>\n",
       "    </tr>\n",
       "    <tr>\n",
       "      <th>18</th>\n",
       "      <td>A review of possible effects of cognitive bias...</td>\n",
       "      <td>Tomáš Kliegr, Štěpán Bahník, Johannes Fürnkranz</td>\n",
       "      <td>June 2021</td>\n",
       "      <td>https://www.sciencedirect.com/science/article/...</td>\n",
       "    </tr>\n",
       "    <tr>\n",
       "      <th>19</th>\n",
       "      <td>The multifaceted impact of Ada Lovelace in the...</td>\n",
       "      <td>Luigia Carlucci Aiello</td>\n",
       "      <td>June 2016</td>\n",
       "      <td>https://www.sciencedirect.com/science/article/...</td>\n",
       "    </tr>\n",
       "    <tr>\n",
       "      <th>20</th>\n",
       "      <td>Robot ethics: Mapping the issues for a mechani...</td>\n",
       "      <td>Patrick Lin, Keith Abney, George Bekey</td>\n",
       "      <td>April 2011</td>\n",
       "      <td>https://www.sciencedirect.com/science/article/...</td>\n",
       "    </tr>\n",
       "    <tr>\n",
       "      <th>21</th>\n",
       "      <td>Reward (Mis)design for autonomous driving</td>\n",
       "      <td>W. Bradley Knox, Alessandro Allievi and 3 more</td>\n",
       "      <td>March 2023</td>\n",
       "      <td>https://www.sciencedirect.com/science/article/...</td>\n",
       "    </tr>\n",
       "    <tr>\n",
       "      <th>22</th>\n",
       "      <td>Planning and acting in partially observable st...</td>\n",
       "      <td>Leslie Pack Kaelbling, Michael L. Littman, Ant...</td>\n",
       "      <td>May 1998</td>\n",
       "      <td>https://www.sciencedirect.com/science/article/...</td>\n",
       "    </tr>\n",
       "    <tr>\n",
       "      <th>23</th>\n",
       "      <td>What do we want from Explainable Artificial In...</td>\n",
       "      <td>Markus Langer, Daniel Oster and 6 more</td>\n",
       "      <td>July 2021</td>\n",
       "      <td>https://www.sciencedirect.com/science/article/...</td>\n",
       "    </tr>\n",
       "  </tbody>\n",
       "</table>\n",
       "</div>"
      ],
      "text/plain": [
       "                                          Paper Title  \\\n",
       "0                                    Reward is enough   \n",
       "1   Explanation in artificial intelligence: Insigh...   \n",
       "2              Creativity and artificial intelligence   \n",
       "3   Conflict-based search for optimal multi-agent ...   \n",
       "4   Knowledge graphs as tools for explainable mach...   \n",
       "5   Law and logic: A review from an argumentation ...   \n",
       "6   Between MDPs and semi-MDPs: A framework for te...   \n",
       "7   Explaining individual predictions when feature...   \n",
       "8       Multiple object tracking: A literature review   \n",
       "9   A survey of inverse reinforcement learning: Ch...   \n",
       "10  Evaluating XAI: A comparison of rule-based and...   \n",
       "11  Explainable AI tools for legal reasoning about...   \n",
       "12            Hard choices in artificial intelligence   \n",
       "13  Assessing the communication gap between AI mod...   \n",
       "14  Explaining black-box classifiers using post-ho...   \n",
       "15  The Hanabi challenge: A new frontier for AI re...   \n",
       "16              Wrappers for feature subset selection   \n",
       "17  Artificial cognition for social human–robot in...   \n",
       "18  A review of possible effects of cognitive bias...   \n",
       "19  The multifaceted impact of Ada Lovelace in the...   \n",
       "20  Robot ethics: Mapping the issues for a mechani...   \n",
       "21          Reward (Mis)design for autonomous driving   \n",
       "22  Planning and acting in partially observable st...   \n",
       "23  What do we want from Explainable Artificial In...   \n",
       "\n",
       "                                               Author  Published Date  \\\n",
       "0   David Silver, Satinder Singh, Doina Precup, Ri...    October 2021   \n",
       "1                                         Tim Miller    February 2019   \n",
       "2                                  Margaret A. Boden      August 1998   \n",
       "3   Guni Sharon, Roni Stern, Ariel Felner, Nathan ...   February 2015   \n",
       "4                     Ilaria Tiddi, Stefan Schlobach     January 2022   \n",
       "5                     Henry Prakken, Giovanni Sartor     October 2015   \n",
       "6    Richard S. Sutton, Doina Precup, Satinder Singh      August 1999   \n",
       "7          Kjersti Aas, Martin Jullum, Anders Løland   September 2021   \n",
       "8                Wenhan Luo, Junliang Xing and 4 more      April 2021   \n",
       "9                      Saurabh Arora, Prashant Doshi      August 2021   \n",
       "10  Jasper van der Waa, Elisabeth Nieuwburg, Anita...   February 2021   \n",
       "11  Joe Collenette, Katie Atkinson, Trevor Bench-C...      April 2023   \n",
       "12  Roel Dobbe, Thomas Krendl Gilbert, Yonatan Mintz    November 2021   \n",
       "13  Oskar Wysocki, Jessica Katharine Davies and 5 ...      March 2023   \n",
       "14  Eoin M. Kenny, Courtney Ford, Molly Quinn, Mar...        May 2021   \n",
       "15          Nolan Bard, Jakob N. Foerster and 13 more      March 2020   \n",
       "16                        Ron Kohavi, George H. John    December 1997   \n",
       "17      Séverin Lemaignan, Mathieu Warnier and 3 more       June 2017   \n",
       "18   Tomáš Kliegr, Štěpán Bahník, Johannes Fürnkranz        June 2021   \n",
       "19                            Luigia Carlucci Aiello        June 2016   \n",
       "20            Patrick Lin, Keith Abney, George Bekey       April 2011   \n",
       "21     W. Bradley Knox, Alessandro Allievi and 3 more      March 2023   \n",
       "22  Leslie Pack Kaelbling, Michael L. Littman, Ant...        May 1998   \n",
       "23             Markus Langer, Daniel Oster and 6 more       July 2021   \n",
       "\n",
       "                                                  url  \n",
       "0   https://www.sciencedirect.com/science/article/...  \n",
       "1   https://www.sciencedirect.com/science/article/...  \n",
       "2   https://www.sciencedirect.com/science/article/...  \n",
       "3   https://www.sciencedirect.com/science/article/...  \n",
       "4   https://www.sciencedirect.com/science/article/...  \n",
       "5   https://www.sciencedirect.com/science/article/...  \n",
       "6   https://www.sciencedirect.com/science/article/...  \n",
       "7   https://www.sciencedirect.com/science/article/...  \n",
       "8   https://www.sciencedirect.com/science/article/...  \n",
       "9   https://www.sciencedirect.com/science/article/...  \n",
       "10  https://www.sciencedirect.com/science/article/...  \n",
       "11  https://www.sciencedirect.com/science/article/...  \n",
       "12  https://www.sciencedirect.com/science/article/...  \n",
       "13  https://www.sciencedirect.com/science/article/...  \n",
       "14  https://www.sciencedirect.com/science/article/...  \n",
       "15  https://www.sciencedirect.com/science/article/...  \n",
       "16  https://www.sciencedirect.com/science/article/...  \n",
       "17  https://www.sciencedirect.com/science/article/...  \n",
       "18  https://www.sciencedirect.com/science/article/...  \n",
       "19  https://www.sciencedirect.com/science/article/...  \n",
       "20  https://www.sciencedirect.com/science/article/...  \n",
       "21  https://www.sciencedirect.com/science/article/...  \n",
       "22  https://www.sciencedirect.com/science/article/...  \n",
       "23  https://www.sciencedirect.com/science/article/...  "
      ]
     },
     "execution_count": 345,
     "metadata": {},
     "output_type": "execute_result"
    }
   ],
   "source": [
    "#data frame\n",
    "import pandas as pd\n",
    "articles=pd.DataFrame({'Paper Title':pt,'Author':author,'Published Date':p_date,'url':p_url})\n",
    "articles"
   ]
  },
  {
   "cell_type": "markdown",
   "id": "d1406b0e-ce0e-4552-999f-ced0025199a2",
   "metadata": {},
   "source": [
    "Question no 7 solution"
   ]
  },
  {
   "cell_type": "code",
   "execution_count": 371,
   "id": "0a719fcd-bd7a-4685-81be-72bd214685a9",
   "metadata": {},
   "outputs": [],
   "source": [
    "d_page=requests.get(\"https://www.dineout.co.in/delhi-restaurants\")\n",
    "dsoup=BeautifulSoup(d_page.content)\n"
   ]
  },
  {
   "cell_type": "code",
   "execution_count": 373,
   "id": "df62bd5c-7314-4f63-bfd0-02b138533551",
   "metadata": {},
   "outputs": [],
   "source": [
    "#Restaurant name\n",
    "r_name=[]\n",
    "for i in dsoup.find_all('div',class_=\"restnt-info cursor\"):\n",
    "    r_name.append(i.text)\n"
   ]
  },
  {
   "cell_type": "code",
   "execution_count": 377,
   "id": "6fa6e565-b3ba-459a-86b9-cbf85bd3f99b",
   "metadata": {},
   "outputs": [],
   "source": [
    "#Cuisine\n",
    "r_cuisine=[]\n",
    "for i in dsoup.find_all('span',class_=\"double-line-ellipsis\"):\n",
    "    r_cuisine.append(i.text)\n"
   ]
  },
  {
   "cell_type": "code",
   "execution_count": 375,
   "id": "779b25b0-07df-432c-a2bc-904244d23418",
   "metadata": {},
   "outputs": [],
   "source": [
    "#Location\n",
    "r_loc=[]\n",
    "for i in dsoup.find_all('div',class_=\"restnt-loc ellipsis\"):\n",
    "    r_loc.append(i.text)\n"
   ]
  },
  {
   "cell_type": "code",
   "execution_count": 395,
   "id": "fa4d2a47-75ec-4600-a78b-293aff4c8475",
   "metadata": {},
   "outputs": [
    {
     "ename": "SyntaxError",
     "evalue": "invalid syntax (2658589415.py, line 3)",
     "output_type": "error",
     "traceback": [
      "\u001b[1;36m  Cell \u001b[1;32mIn[395], line 3\u001b[1;36m\u001b[0m\n\u001b[1;33m    for i in dsoup.find_all('div',class_=\"restnt-rating rating-4\" or class_=\"restnt-rating rating-5\"):\u001b[0m\n\u001b[1;37m                                                                           ^\u001b[0m\n\u001b[1;31mSyntaxError\u001b[0m\u001b[1;31m:\u001b[0m invalid syntax\n"
     ]
    }
   ],
   "source": [
    "#Ratings\n",
    "r_rating=[]\n",
    "for i in dsoup.find_all('div',class_=\"restnt-rating rating-4\" or class_=\"restnt-rating rating-5\"):\n",
    "    r_rating.append(i.text)\n",
    "\n",
    "r_rating            "
   ]
  },
  {
   "cell_type": "code",
   "execution_count": 383,
   "id": "23cf75c7-c8f5-47cc-89ba-d988860c26bc",
   "metadata": {},
   "outputs": [],
   "source": [
    "#Image URL\n",
    "r_image=[]\n",
    "for i in dsoup.find_all('img',class_=\"no-img\"):\n",
    "   r_image.append(i['data-src'])\n"
   ]
  },
  {
   "cell_type": "code",
   "execution_count": 396,
   "id": "732f97d3-65ff-4358-a420-3da9be4b2109",
   "metadata": {},
   "outputs": [
    {
     "name": "stdout",
     "output_type": "stream",
     "text": [
      "21 21 21 0 21\n"
     ]
    }
   ],
   "source": [
    "print(len(r_name),len(r_cuisine),len(r_loc),len(r_rating),len(r_image))"
   ]
  },
  {
   "cell_type": "code",
   "execution_count": 398,
   "id": "92ef159b-b583-45f8-a81d-9c92263cad32",
   "metadata": {},
   "outputs": [
    {
     "data": {
      "text/html": [
       "<div>\n",
       "<style scoped>\n",
       "    .dataframe tbody tr th:only-of-type {\n",
       "        vertical-align: middle;\n",
       "    }\n",
       "\n",
       "    .dataframe tbody tr th {\n",
       "        vertical-align: top;\n",
       "    }\n",
       "\n",
       "    .dataframe thead th {\n",
       "        text-align: right;\n",
       "    }\n",
       "</style>\n",
       "<table border=\"1\" class=\"dataframe\">\n",
       "  <thead>\n",
       "    <tr style=\"text-align: right;\">\n",
       "      <th></th>\n",
       "      <th>Name</th>\n",
       "      <th>Cuisine</th>\n",
       "      <th>location</th>\n",
       "      <th>img_url</th>\n",
       "    </tr>\n",
       "  </thead>\n",
       "  <tbody>\n",
       "    <tr>\n",
       "      <th>0</th>\n",
       "      <td>Ministry Of BeerM-Block,Connaught Place, Centr...</td>\n",
       "      <td>₹ 3,000 for 2 (approx) | North Indian, Contine...</td>\n",
       "      <td>M-Block,Connaught Place, Central Delhi</td>\n",
       "      <td>https://im1.dineout.co.in/images/uploads/resta...</td>\n",
       "    </tr>\n",
       "    <tr>\n",
       "      <th>1</th>\n",
       "      <td>Connaught Club HouseConnaught Place, Central D...</td>\n",
       "      <td>₹ 1,800 for 2 (approx) | North Indian, Contine...</td>\n",
       "      <td>Connaught Place, Central Delhi</td>\n",
       "      <td>https://im1.dineout.co.in/images/uploads/resta...</td>\n",
       "    </tr>\n",
       "    <tr>\n",
       "      <th>2</th>\n",
       "      <td>The G.T. RoadM-Block,Connaught Place, Central ...</td>\n",
       "      <td>₹ 2,000 for 2 (approx) | North Indian</td>\n",
       "      <td>M-Block,Connaught Place, Central Delhi</td>\n",
       "      <td>https://im1.dineout.co.in/images/uploads/resta...</td>\n",
       "    </tr>\n",
       "    <tr>\n",
       "      <th>3</th>\n",
       "      <td>Gin &amp; JulietF-Block,Connaught Place, Central D...</td>\n",
       "      <td>₹ 1,100 for 2 (approx) | Italian, Chinese, Nor...</td>\n",
       "      <td>F-Block,Connaught Place, Central Delhi</td>\n",
       "      <td>https://im1.dineout.co.in/images/uploads/resta...</td>\n",
       "    </tr>\n",
       "    <tr>\n",
       "      <th>4</th>\n",
       "      <td>My Bar HeadquartersConnaught Place, Central Delhi</td>\n",
       "      <td>₹ 1,500 for 2 (approx) | North Indian, Chinese</td>\n",
       "      <td>Connaught Place, Central Delhi</td>\n",
       "      <td>https://im1.dineout.co.in/images/uploads/resta...</td>\n",
       "    </tr>\n",
       "    <tr>\n",
       "      <th>5</th>\n",
       "      <td>SandozConnaught Place, Central Delhi</td>\n",
       "      <td>₹ 1,400 for 2 (approx) | North Indian, Contine...</td>\n",
       "      <td>Connaught Place, Central Delhi</td>\n",
       "      <td>https://im1.dineout.co.in/images/uploads/resta...</td>\n",
       "    </tr>\n",
       "    <tr>\n",
       "      <th>6</th>\n",
       "      <td>The Junkyard CafeConnaught Place, Central Delhi</td>\n",
       "      <td>₹ 2,100 for 2 (approx) | North Indian, Contine...</td>\n",
       "      <td>Connaught Place, Central Delhi</td>\n",
       "      <td>https://im1.dineout.co.in/images/uploads/resta...</td>\n",
       "    </tr>\n",
       "    <tr>\n",
       "      <th>7</th>\n",
       "      <td>LocalScindia House,Connaught Place, Central Delhi</td>\n",
       "      <td>₹ 2,000 for 2 (approx) | North Indian, Asian, ...</td>\n",
       "      <td>Scindia House,Connaught Place, Central Delhi</td>\n",
       "      <td>https://im1.dineout.co.in/images/uploads/resta...</td>\n",
       "    </tr>\n",
       "    <tr>\n",
       "      <th>8</th>\n",
       "      <td>TamashaConnaught Place, Central Delhi</td>\n",
       "      <td>₹ 2,000 for 2 (approx) | Continental, Asian, I...</td>\n",
       "      <td>Connaught Place, Central Delhi</td>\n",
       "      <td>https://im1.dineout.co.in/images/uploads/resta...</td>\n",
       "    </tr>\n",
       "    <tr>\n",
       "      <th>9</th>\n",
       "      <td>Unplugged CourtyardConnaught Place, Central Delhi</td>\n",
       "      <td>₹ 2,500 for 2 (approx) | North Indian, Italian...</td>\n",
       "      <td>Connaught Place, Central Delhi</td>\n",
       "      <td>https://im1.dineout.co.in/images/uploads/resta...</td>\n",
       "    </tr>\n",
       "    <tr>\n",
       "      <th>10</th>\n",
       "      <td>Ce La VieConnaught Place, Central Delhi</td>\n",
       "      <td>₹ 1,800 for 2 (approx) | Continental</td>\n",
       "      <td>Connaught Place, Central Delhi</td>\n",
       "      <td>https://im1.dineout.co.in/images/uploads/resta...</td>\n",
       "    </tr>\n",
       "    <tr>\n",
       "      <th>11</th>\n",
       "      <td>Kwality RestaurantRegal Cinema Complex,Connaug...</td>\n",
       "      <td>₹ 2,000 for 2 (approx) | North Indian, Contine...</td>\n",
       "      <td>Regal Cinema Complex,Connaught Place, Central ...</td>\n",
       "      <td>https://im1.dineout.co.in/images/uploads/resta...</td>\n",
       "    </tr>\n",
       "    <tr>\n",
       "      <th>12</th>\n",
       "      <td>My Bar SquareConnaught Place, Central Delhi</td>\n",
       "      <td>₹ 2,000 for 2 (approx) | Finger Food, Chinese,...</td>\n",
       "      <td>Connaught Place, Central Delhi</td>\n",
       "      <td>https://im1.dineout.co.in/images/uploads/resta...</td>\n",
       "    </tr>\n",
       "    <tr>\n",
       "      <th>13</th>\n",
       "      <td>Warehouse CafeConnaught Place, Central Delhi</td>\n",
       "      <td>₹ 2,500 for 2 (approx) | North Indian, Chinese...</td>\n",
       "      <td>Connaught Place, Central Delhi</td>\n",
       "      <td>https://im1.dineout.co.in/images/uploads/resta...</td>\n",
       "    </tr>\n",
       "    <tr>\n",
       "      <th>14</th>\n",
       "      <td>TamraShangri La Eros New Delhi,Janpath, Centra...</td>\n",
       "      <td>₹ 3,000 for 2 (approx) | Continental, European...</td>\n",
       "      <td>Shangri La Eros New Delhi,Janpath, Central Delhi</td>\n",
       "      <td>https://im1.dineout.co.in/images/uploads/resta...</td>\n",
       "    </tr>\n",
       "    <tr>\n",
       "      <th>15</th>\n",
       "      <td>Ardor 2.1 Restaurant and LoungeConnaught Place...</td>\n",
       "      <td>₹ 2,000 for 2 (approx) | North Indian, Chinese...</td>\n",
       "      <td>Connaught Place, Central Delhi</td>\n",
       "      <td>https://im1.dineout.co.in/images/uploads/resta...</td>\n",
       "    </tr>\n",
       "    <tr>\n",
       "      <th>16</th>\n",
       "      <td>Openhouse CafeConnaught Place, Central Delhi</td>\n",
       "      <td>₹ 2,000 for 2 (approx) | North Indian, Asian, ...</td>\n",
       "      <td>Connaught Place, Central Delhi</td>\n",
       "      <td>https://im1.dineout.co.in/images/uploads/resta...</td>\n",
       "    </tr>\n",
       "    <tr>\n",
       "      <th>17</th>\n",
       "      <td>Connaught Club HouseJanpath, Central Delhi</td>\n",
       "      <td>₹ 2,100 for 2 (approx) | North Indian, Asian, ...</td>\n",
       "      <td>Janpath, Central Delhi</td>\n",
       "      <td>https://im1.dineout.co.in/images/uploads/resta...</td>\n",
       "    </tr>\n",
       "    <tr>\n",
       "      <th>18</th>\n",
       "      <td>Yeti - The Himalayan KitchenThe Colonnade,Conn...</td>\n",
       "      <td>₹ 1,500 for 2 (approx) | Tibetan, Nepalese</td>\n",
       "      <td>The Colonnade,Connaught Place, Central Delhi</td>\n",
       "      <td>https://im1.dineout.co.in/images/uploads/resta...</td>\n",
       "    </tr>\n",
       "    <tr>\n",
       "      <th>19</th>\n",
       "      <td>Farzi CafeConnaught Place, Central Delhi</td>\n",
       "      <td>₹ 2,000 for 2 (approx) | Modern Indian, Contin...</td>\n",
       "      <td>Connaught Place, Central Delhi</td>\n",
       "      <td>https://im1.dineout.co.in/images/uploads/resta...</td>\n",
       "    </tr>\n",
       "    <tr>\n",
       "      <th>20</th>\n",
       "      <td>38 BarracksM-Block,Connaught Place, Central Delhi</td>\n",
       "      <td>₹ 2,700 for 2 (approx) | North Indian, Chinese...</td>\n",
       "      <td>M-Block,Connaught Place, Central Delhi</td>\n",
       "      <td>https://im1.dineout.co.in/images/uploads/resta...</td>\n",
       "    </tr>\n",
       "  </tbody>\n",
       "</table>\n",
       "</div>"
      ],
      "text/plain": [
       "                                                 Name  \\\n",
       "0   Ministry Of BeerM-Block,Connaught Place, Centr...   \n",
       "1   Connaught Club HouseConnaught Place, Central D...   \n",
       "2   The G.T. RoadM-Block,Connaught Place, Central ...   \n",
       "3   Gin & JulietF-Block,Connaught Place, Central D...   \n",
       "4   My Bar HeadquartersConnaught Place, Central Delhi   \n",
       "5                SandozConnaught Place, Central Delhi   \n",
       "6     The Junkyard CafeConnaught Place, Central Delhi   \n",
       "7   LocalScindia House,Connaught Place, Central Delhi   \n",
       "8               TamashaConnaught Place, Central Delhi   \n",
       "9   Unplugged CourtyardConnaught Place, Central Delhi   \n",
       "10            Ce La VieConnaught Place, Central Delhi   \n",
       "11  Kwality RestaurantRegal Cinema Complex,Connaug...   \n",
       "12        My Bar SquareConnaught Place, Central Delhi   \n",
       "13       Warehouse CafeConnaught Place, Central Delhi   \n",
       "14  TamraShangri La Eros New Delhi,Janpath, Centra...   \n",
       "15  Ardor 2.1 Restaurant and LoungeConnaught Place...   \n",
       "16       Openhouse CafeConnaught Place, Central Delhi   \n",
       "17         Connaught Club HouseJanpath, Central Delhi   \n",
       "18  Yeti - The Himalayan KitchenThe Colonnade,Conn...   \n",
       "19           Farzi CafeConnaught Place, Central Delhi   \n",
       "20  38 BarracksM-Block,Connaught Place, Central Delhi   \n",
       "\n",
       "                                              Cuisine  \\\n",
       "0   ₹ 3,000 for 2 (approx) | North Indian, Contine...   \n",
       "1   ₹ 1,800 for 2 (approx) | North Indian, Contine...   \n",
       "2               ₹ 2,000 for 2 (approx) | North Indian   \n",
       "3   ₹ 1,100 for 2 (approx) | Italian, Chinese, Nor...   \n",
       "4      ₹ 1,500 for 2 (approx) | North Indian, Chinese   \n",
       "5   ₹ 1,400 for 2 (approx) | North Indian, Contine...   \n",
       "6   ₹ 2,100 for 2 (approx) | North Indian, Contine...   \n",
       "7   ₹ 2,000 for 2 (approx) | North Indian, Asian, ...   \n",
       "8   ₹ 2,000 for 2 (approx) | Continental, Asian, I...   \n",
       "9   ₹ 2,500 for 2 (approx) | North Indian, Italian...   \n",
       "10               ₹ 1,800 for 2 (approx) | Continental   \n",
       "11  ₹ 2,000 for 2 (approx) | North Indian, Contine...   \n",
       "12  ₹ 2,000 for 2 (approx) | Finger Food, Chinese,...   \n",
       "13  ₹ 2,500 for 2 (approx) | North Indian, Chinese...   \n",
       "14  ₹ 3,000 for 2 (approx) | Continental, European...   \n",
       "15  ₹ 2,000 for 2 (approx) | North Indian, Chinese...   \n",
       "16  ₹ 2,000 for 2 (approx) | North Indian, Asian, ...   \n",
       "17  ₹ 2,100 for 2 (approx) | North Indian, Asian, ...   \n",
       "18         ₹ 1,500 for 2 (approx) | Tibetan, Nepalese   \n",
       "19  ₹ 2,000 for 2 (approx) | Modern Indian, Contin...   \n",
       "20  ₹ 2,700 for 2 (approx) | North Indian, Chinese...   \n",
       "\n",
       "                                             location  \\\n",
       "0              M-Block,Connaught Place, Central Delhi   \n",
       "1                      Connaught Place, Central Delhi   \n",
       "2              M-Block,Connaught Place, Central Delhi   \n",
       "3              F-Block,Connaught Place, Central Delhi   \n",
       "4                      Connaught Place, Central Delhi   \n",
       "5                      Connaught Place, Central Delhi   \n",
       "6                      Connaught Place, Central Delhi   \n",
       "7        Scindia House,Connaught Place, Central Delhi   \n",
       "8                      Connaught Place, Central Delhi   \n",
       "9                      Connaught Place, Central Delhi   \n",
       "10                     Connaught Place, Central Delhi   \n",
       "11  Regal Cinema Complex,Connaught Place, Central ...   \n",
       "12                     Connaught Place, Central Delhi   \n",
       "13                     Connaught Place, Central Delhi   \n",
       "14   Shangri La Eros New Delhi,Janpath, Central Delhi   \n",
       "15                     Connaught Place, Central Delhi   \n",
       "16                     Connaught Place, Central Delhi   \n",
       "17                             Janpath, Central Delhi   \n",
       "18       The Colonnade,Connaught Place, Central Delhi   \n",
       "19                     Connaught Place, Central Delhi   \n",
       "20             M-Block,Connaught Place, Central Delhi   \n",
       "\n",
       "                                              img_url  \n",
       "0   https://im1.dineout.co.in/images/uploads/resta...  \n",
       "1   https://im1.dineout.co.in/images/uploads/resta...  \n",
       "2   https://im1.dineout.co.in/images/uploads/resta...  \n",
       "3   https://im1.dineout.co.in/images/uploads/resta...  \n",
       "4   https://im1.dineout.co.in/images/uploads/resta...  \n",
       "5   https://im1.dineout.co.in/images/uploads/resta...  \n",
       "6   https://im1.dineout.co.in/images/uploads/resta...  \n",
       "7   https://im1.dineout.co.in/images/uploads/resta...  \n",
       "8   https://im1.dineout.co.in/images/uploads/resta...  \n",
       "9   https://im1.dineout.co.in/images/uploads/resta...  \n",
       "10  https://im1.dineout.co.in/images/uploads/resta...  \n",
       "11  https://im1.dineout.co.in/images/uploads/resta...  \n",
       "12  https://im1.dineout.co.in/images/uploads/resta...  \n",
       "13  https://im1.dineout.co.in/images/uploads/resta...  \n",
       "14  https://im1.dineout.co.in/images/uploads/resta...  \n",
       "15  https://im1.dineout.co.in/images/uploads/resta...  \n",
       "16  https://im1.dineout.co.in/images/uploads/resta...  \n",
       "17  https://im1.dineout.co.in/images/uploads/resta...  \n",
       "18  https://im1.dineout.co.in/images/uploads/resta...  \n",
       "19  https://im1.dineout.co.in/images/uploads/resta...  \n",
       "20  https://im1.dineout.co.in/images/uploads/resta...  "
      ]
     },
     "execution_count": 398,
     "metadata": {},
     "output_type": "execute_result"
    }
   ],
   "source": [
    "r_data=pd.DataFrame({'Name':r_name,'Cuisine':r_cuisine,'location':r_loc,'img_url':r_image})\n",
    "r_data"
   ]
  },
  {
   "cell_type": "code",
   "execution_count": null,
   "id": "56163611-e446-48f7-b2a7-91b0da45c646",
   "metadata": {},
   "outputs": [],
   "source": []
  }
 ],
 "metadata": {
  "kernelspec": {
   "display_name": "Python 3 (ipykernel)",
   "language": "python",
   "name": "python3"
  },
  "language_info": {
   "codemirror_mode": {
    "name": "ipython",
    "version": 3
   },
   "file_extension": ".py",
   "mimetype": "text/x-python",
   "name": "python",
   "nbconvert_exporter": "python",
   "pygments_lexer": "ipython3",
   "version": "3.10.9"
  }
 },
 "nbformat": 4,
 "nbformat_minor": 5
}
