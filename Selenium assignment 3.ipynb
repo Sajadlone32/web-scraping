{
 "cells": [
  {
   "cell_type": "code",
   "execution_count": 149,
   "id": "a432d0c7-0c39-4491-af2a-7738142695a1",
   "metadata": {},
   "outputs": [],
   "source": [
    "from selenium import webdriver\n",
    "import pandas as pd \n",
    "from selenium.webdriver.common.by import By\n",
    "\n",
    "import warnings\n",
    "warnings.filterwarnings('ignore')\n",
    "import time\n",
    "from selenium.common.exceptions import StaleElementReferenceException, NoSuchElementException\n",
    "from selenium.webdriver.support.ui import WebDriverWait  as wait\n",
    "from selenium.webdriver.support import expected_conditions as EC"
   ]
  },
  {
   "cell_type": "code",
   "execution_count": 114,
   "id": "d5b017f7-df76-4424-aca5-bd585451f4f3",
   "metadata": {},
   "outputs": [],
   "source": [
    "driver=webdriver.Chrome()\n",
    "driver.get('https://www.amazon.in/')"
   ]
  },
  {
   "cell_type": "code",
   "execution_count": 115,
   "id": "25df14cf-023f-4d2a-a23b-6305e51176b4",
   "metadata": {},
   "outputs": [
    {
     "name": "stdin",
     "output_type": "stream",
     "text": [
      "enter any product name guitar\n"
     ]
    }
   ],
   "source": [
    "#sear for user input \n",
    "user_input=input('enter any product name')\n",
    "search_bar=driver.find_element(By.XPATH,'/html/body/div[1]/header/div/div[1]/div[2]/div/form/div[2]/div[1]/input')\n",
    "search_bar.send_keys(user_input)"
   ]
  },
  {
   "cell_type": "code",
   "execution_count": 116,
   "id": "fab713b9-c642-42f2-b996-cef641a32342",
   "metadata": {},
   "outputs": [],
   "source": [
    "search_btn=driver.find_element(By.XPATH,'/html/body/div[1]/header/div/div[1]/div[2]/div/form/div[3]/div/span/input')\n",
    "search_btn.click()\n",
    "time.sleep(5)"
   ]
  },
  {
   "cell_type": "code",
   "execution_count": 118,
   "id": "09a6b1f1-4062-4d42-9bda-e8a255c3aae2",
   "metadata": {},
   "outputs": [],
   "source": [
    "#fetching product url \n",
    "start=0\n",
    "end=3\n",
    "url=[]\n",
    "product_name=[]\n",
    "for page in range(start,end):\n",
    "    product_url=driver.find_elements(By.XPATH,'//h2[@class=\"a-size-mini a-spacing-none a-color-base s-line-clamp-4\"]/a')\n",
    "    for i in product_url:\n",
    "        url.append(i.get_attribute('href'))\n",
    "       \n",
    "   \n",
    "    \n",
    "\n"
   ]
  },
  {
   "cell_type": "code",
   "execution_count": null,
   "id": "754199e3-11ad-42e0-be4e-3502d0b80c3a",
   "metadata": {},
   "outputs": [],
   "source": []
  },
  {
   "cell_type": "code",
   "execution_count": null,
   "id": "94ea9ce4-2bf6-4dc3-b830-76dfc3790ea8",
   "metadata": {},
   "outputs": [],
   "source": [
    "#fetching product name\n",
    "product_name=[]\n",
    "for i in url:\n",
    "            \n",
    "            driver.get(i)\n",
    "            time.sleep(2)\n",
    "           \n",
    "            p_name=driver.find_elements(By.XPATH,'//*[@id=\"productTitle\"]')\n",
    "\n",
    "            for p in p_name:\n",
    "                product_name.append(p.text)\n",
    "\n",
    "        "
   ]
  },
  {
   "cell_type": "code",
   "execution_count": null,
   "id": "d1182c8b-7619-492b-80c4-7f03dd1aed24",
   "metadata": {},
   "outputs": [],
   "source": [
    "product_name"
   ]
  },
  {
   "cell_type": "code",
   "execution_count": null,
   "id": "7797dec0-57e4-4e9e-a44b-a23d5062ba61",
   "metadata": {},
   "outputs": [],
   "source": [
    "#fetching price\n",
    "product_price=[]\n",
    "for i in url:\n",
    "            \n",
    "            driver.get(i)\n",
    "            time.sleep(2)\n",
    "           \n",
    "            price=driver.find_elements(By.XPATH,'//*[@id=\"corePriceDisplay_desktop_feature_div\"]/div[1]/span[3]/span[2]/span[2]')\n",
    "\n",
    "            for p in p_name:\n",
    "                product_price.append(p.text)"
   ]
  },
  {
   "cell_type": "code",
   "execution_count": null,
   "id": "e32cbfe2-eb09-405a-be93-f811ab07efea",
   "metadata": {},
   "outputs": [],
   "source": [
    "#fetching price\n",
    "product_price=[]\n",
    "for i in url:\n",
    "            \n",
    "            driver.get(i)\n",
    "            time.sleep(2)\n",
    "           \n",
    "            price=driver.find_elements(By.XPATH,'//*[@id=\"corePriceDisplay_desktop_feature_div\"]/div[1]/span[3]/span[2]/span[2]')\n",
    "\n",
    "            for p in price:\n",
    "                product_price.append(p.text)"
   ]
  },
  {
   "cell_type": "code",
   "execution_count": null,
   "id": "b06345b1-2ece-43e4-b2c4-9621ae145bfb",
   "metadata": {},
   "outputs": [],
   "source": [
    "#fetching expectec delivery\n",
    "product_delivery=[]\n",
    "for i in url:\n",
    "            \n",
    "            driver.get(i)\n",
    "            time.sleep(2)\n",
    "           \n",
    "            delivery=driver.find_elements(By.XPATH,'//*[@id=\"contextualIngressPtLabel_deliveryShortLine\"]/span[2]')\n",
    "\n",
    "            for p in del:\n",
    "                product_delivery.append(p.text)"
   ]
  },
  {
   "cell_type": "code",
   "execution_count": null,
   "id": "f3e3a11e-c0a6-426f-a613-b65cb398afc1",
   "metadata": {},
   "outputs": [],
   "source": []
  },
  {
   "cell_type": "code",
   "execution_count": null,
   "id": "b2e6d68a-4ec9-43d5-a8ca-0955a44210be",
   "metadata": {},
   "outputs": [],
   "source": [
    "\n",
    "   "
   ]
  },
  {
   "cell_type": "code",
   "execution_count": null,
   "id": "7ea118f2-7172-4b6b-bb69-149922ea521b",
   "metadata": {},
   "outputs": [],
   "source": []
  },
  {
   "cell_type": "markdown",
   "id": "d619c958-2759-478a-9645-72faa8b31dc3",
   "metadata": {},
   "source": [
    "Question no 3 aolution"
   ]
  },
  {
   "cell_type": "code",
   "execution_count": 13,
   "id": "1fcfd996-6909-4ce1-a0bd-27a026e8c7b2",
   "metadata": {},
   "outputs": [],
   "source": [
    "driver3=webdriver.Chrome()\n",
    "driver3.get('https://images.google.com/')"
   ]
  },
  {
   "cell_type": "code",
   "execution_count": 14,
   "id": "45364662-5c24-414c-87d7-80d76b634d14",
   "metadata": {},
   "outputs": [],
   "source": [
    "search_bar=driver3.find_element(By.XPATH,'/html/body/div[1]/div[3]/form/div[1]/div[1]/div[1]/div/div[2]/textarea')\n",
    "search_bar.send_keys('fruits')"
   ]
  },
  {
   "cell_type": "code",
   "execution_count": 17,
   "id": "a6538712-1447-4458-a19f-ea37f3fbec49",
   "metadata": {},
   "outputs": [],
   "source": [
    "search_btn=driver3.find_element(By.XPATH,'/html/body/div[1]/div[3]/form/div[1]/div[1]/div[1]/button')\n",
    "search_btn.click()"
   ]
  },
  {
   "cell_type": "code",
   "execution_count": 32,
   "id": "a2c8f42f-d0ba-4798-bc2e-828e671ce42a",
   "metadata": {},
   "outputs": [],
   "source": [
    "#fetchin fruit images\n",
    "fruit_images=[]\n",
    "images=driver3.find_elements(By.XPATH,'//div[@class=\"fR600b islir\"]/img')\n",
    "for i in images:\n",
    "    fruit_images.append(i.get_attribute('src'))\n",
    "\n",
    "    \n",
    "    \n",
    "ten_fruitimages=fruit_images[:10]     \n"
   ]
  },
  {
   "cell_type": "code",
   "execution_count": 44,
   "id": "0aa8fa29-3ef4-4837-9fcc-a9fb064436ac",
   "metadata": {},
   "outputs": [],
   "source": [
    "#FETCHING CAR IMAGES\n",
    "search_bar=driver3.find_element(By.XPATH,'/html/body/div[1]/div[3]/form/div[1]/div[1]/div[1]/div/div[2]/textarea')\n",
    "search_bar.send_keys('car')\n",
    "\n",
    "search_btn=driver3.find_element(By.XPATH,'/html/body/div[1]/div[3]/form/div[1]/div[1]/div[1]/button')\n",
    "search_btn.click()"
   ]
  },
  {
   "cell_type": "code",
   "execution_count": 47,
   "id": "826e2885-9366-4b12-8729-4d8e63d110b8",
   "metadata": {},
   "outputs": [],
   "source": [
    "car_images=[]\n",
    "images=driver3.find_elements(By.XPATH,'//div[@class=\"fR600b islir\"]/img')\n",
    "for i in images:\n",
    "    car_images.append(i.get_attribute('src'))\n",
    "                      \n",
    "ten_carimages=car_images[:10]"
   ]
  },
  {
   "cell_type": "code",
   "execution_count": 48,
   "id": "c2aa37bc-e166-41bc-8aed-95dcb6255071",
   "metadata": {},
   "outputs": [],
   "source": [
    "#fetching machine learning imaages\n",
    "search_bar=driver3.find_element(By.XPATH,'/html/body/div[1]/div[3]/form/div[1]/div[1]/div[1]/div/div[2]/textarea')\n",
    "search_bar.send_keys('Machine Learning')\n",
    "\n",
    "search_btn=driver3.find_element(By.XPATH,'/html/body/div[1]/div[3]/form/div[1]/div[1]/div[1]/button')\n",
    "search_btn.click()"
   ]
  },
  {
   "cell_type": "code",
   "execution_count": 49,
   "id": "db0cd6df-d62f-4cf6-92b9-18ac46c92634",
   "metadata": {},
   "outputs": [],
   "source": [
    "ml_images=[]\n",
    "images=driver3.find_elements(By.XPATH,'//div[@class=\"fR600b islir\"]/img')\n",
    "for i in images:\n",
    "    ml_images.append(i.get_attribute('src'))\n",
    "    \n",
    "tenmlimages=ml_images[:10]"
   ]
  },
  {
   "cell_type": "code",
   "execution_count": 51,
   "id": "cf5531fb-f655-423e-9a5b-6532b7d3475b",
   "metadata": {},
   "outputs": [],
   "source": [
    "#fetching guitar images\n",
    "search_bar=driver3.find_element(By.XPATH,'/html/body/div[1]/div[3]/form/div[1]/div[1]/div[1]/div/div[2]/textarea')\n",
    "search_bar.send_keys('Guitar')\n",
    "\n",
    "search_btn=driver3.find_element(By.XPATH,'/html/body/div[1]/div[3]/form/div[1]/div[1]/div[1]/button')\n",
    "search_btn.click()"
   ]
  },
  {
   "cell_type": "code",
   "execution_count": 53,
   "id": "c18f398b-cdee-48a7-b933-45f8269d1c43",
   "metadata": {},
   "outputs": [],
   "source": [
    "guitar_images=[]\n",
    "images=driver3.find_elements(By.XPATH,'//div[@class=\"fR600b islir\"]/img')\n",
    "for i in images:\n",
    "    guitar_images.append(i.get_attribute('src'))\n",
    "    \n",
    "ten_guitarimages=guitar_images[:10]"
   ]
  },
  {
   "cell_type": "code",
   "execution_count": 55,
   "id": "73599c3b-3e2c-49fb-b0b1-7188d1aebdb2",
   "metadata": {},
   "outputs": [],
   "source": [
    "#fetching guitar images\n",
    "search_bar=driver3.find_element(By.XPATH,'/html/body/div[1]/div[3]/form/div[1]/div[1]/div[1]/div/div[2]/textarea')\n",
    "search_bar.send_keys('Cakes')\n",
    "\n",
    "search_btn=driver3.find_element(By.XPATH,'/html/body/div[1]/div[3]/form/div[1]/div[1]/div[1]/button')\n",
    "search_btn.click()"
   ]
  },
  {
   "cell_type": "code",
   "execution_count": 56,
   "id": "44ecef19-b8c4-415f-abe6-622c842bd9c8",
   "metadata": {},
   "outputs": [],
   "source": [
    "cake_images=[]\n",
    "images=driver3.find_elements(By.XPATH,'//div[@class=\"fR600b islir\"]/img')\n",
    "for i in images:\n",
    "    cake_images.append(i.get_attribute('src'))\n",
    "    \n",
    "ten_cakeimages=cake_images[:10]"
   ]
  },
  {
   "cell_type": "code",
   "execution_count": 57,
   "id": "2dce4017-3485-4fe4-9959-105df01d83d1",
   "metadata": {},
   "outputs": [
    {
     "data": {
      "text/html": [
       "<div>\n",
       "<style scoped>\n",
       "    .dataframe tbody tr th:only-of-type {\n",
       "        vertical-align: middle;\n",
       "    }\n",
       "\n",
       "    .dataframe tbody tr th {\n",
       "        vertical-align: top;\n",
       "    }\n",
       "\n",
       "    .dataframe thead th {\n",
       "        text-align: right;\n",
       "    }\n",
       "</style>\n",
       "<table border=\"1\" class=\"dataframe\">\n",
       "  <thead>\n",
       "    <tr style=\"text-align: right;\">\n",
       "      <th></th>\n",
       "      <th>fruit images</th>\n",
       "      <th>car images</th>\n",
       "      <th>machine learning images</th>\n",
       "      <th>guitar images</th>\n",
       "      <th>cake images</th>\n",
       "    </tr>\n",
       "  </thead>\n",
       "  <tbody>\n",
       "    <tr>\n",
       "      <th>0</th>\n",
       "      <td>data:image/jpeg;base64,/9j/4AAQSkZJRgABAQAAAQA...</td>\n",
       "      <td>data:image/jpeg;base64,/9j/4AAQSkZJRgABAQAAAQA...</td>\n",
       "      <td>data:image/jpeg;base64,/9j/4AAQSkZJRgABAQAAAQA...</td>\n",
       "      <td>data:image/jpeg;base64,/9j/4AAQSkZJRgABAQAAAQA...</td>\n",
       "      <td>data:image/jpeg;base64,/9j/4AAQSkZJRgABAQAAAQA...</td>\n",
       "    </tr>\n",
       "    <tr>\n",
       "      <th>1</th>\n",
       "      <td>data:image/jpeg;base64,/9j/4AAQSkZJRgABAQAAAQA...</td>\n",
       "      <td>data:image/jpeg;base64,/9j/4AAQSkZJRgABAQAAAQA...</td>\n",
       "      <td>data:image/jpeg;base64,/9j/4AAQSkZJRgABAQAAAQA...</td>\n",
       "      <td>data:image/jpeg;base64,/9j/4AAQSkZJRgABAQAAAQA...</td>\n",
       "      <td>data:image/jpeg;base64,/9j/4AAQSkZJRgABAQAAAQA...</td>\n",
       "    </tr>\n",
       "    <tr>\n",
       "      <th>2</th>\n",
       "      <td>data:image/jpeg;base64,/9j/4AAQSkZJRgABAQAAAQA...</td>\n",
       "      <td>data:image/jpeg;base64,/9j/4AAQSkZJRgABAQAAAQA...</td>\n",
       "      <td>data:image/png;base64,iVBORw0KGgoAAAANSUhEUgAA...</td>\n",
       "      <td>data:image/jpeg;base64,/9j/4AAQSkZJRgABAQAAAQA...</td>\n",
       "      <td>data:image/jpeg;base64,/9j/4AAQSkZJRgABAQAAAQA...</td>\n",
       "    </tr>\n",
       "    <tr>\n",
       "      <th>3</th>\n",
       "      <td>data:image/jpeg;base64,/9j/4AAQSkZJRgABAQAAAQA...</td>\n",
       "      <td>data:image/jpeg;base64,/9j/4AAQSkZJRgABAQAAAQA...</td>\n",
       "      <td>data:image/jpeg;base64,/9j/4AAQSkZJRgABAQAAAQA...</td>\n",
       "      <td>data:image/jpeg;base64,/9j/4AAQSkZJRgABAQAAAQA...</td>\n",
       "      <td>data:image/jpeg;base64,/9j/4AAQSkZJRgABAQAAAQA...</td>\n",
       "    </tr>\n",
       "    <tr>\n",
       "      <th>4</th>\n",
       "      <td>data:image/jpeg;base64,/9j/4AAQSkZJRgABAQAAAQA...</td>\n",
       "      <td>data:image/jpeg;base64,/9j/4AAQSkZJRgABAQAAAQA...</td>\n",
       "      <td>data:image/jpeg;base64,/9j/4AAQSkZJRgABAQAAAQA...</td>\n",
       "      <td>data:image/jpeg;base64,/9j/4AAQSkZJRgABAQAAAQA...</td>\n",
       "      <td>data:image/jpeg;base64,/9j/4AAQSkZJRgABAQAAAQA...</td>\n",
       "    </tr>\n",
       "    <tr>\n",
       "      <th>5</th>\n",
       "      <td>data:image/png;base64,iVBORw0KGgoAAAANSUhEUgAA...</td>\n",
       "      <td>data:image/jpeg;base64,/9j/4AAQSkZJRgABAQAAAQA...</td>\n",
       "      <td>data:image/jpeg;base64,/9j/4AAQSkZJRgABAQAAAQA...</td>\n",
       "      <td>data:image/jpeg;base64,/9j/4AAQSkZJRgABAQAAAQA...</td>\n",
       "      <td>data:image/jpeg;base64,/9j/4AAQSkZJRgABAQAAAQA...</td>\n",
       "    </tr>\n",
       "    <tr>\n",
       "      <th>6</th>\n",
       "      <td>data:image/jpeg;base64,/9j/4AAQSkZJRgABAQAAAQA...</td>\n",
       "      <td>data:image/png;base64,iVBORw0KGgoAAAANSUhEUgAA...</td>\n",
       "      <td>data:image/jpeg;base64,/9j/4AAQSkZJRgABAQAAAQA...</td>\n",
       "      <td>data:image/jpeg;base64,/9j/4AAQSkZJRgABAQAAAQA...</td>\n",
       "      <td>data:image/jpeg;base64,/9j/4AAQSkZJRgABAQAAAQA...</td>\n",
       "    </tr>\n",
       "    <tr>\n",
       "      <th>7</th>\n",
       "      <td>data:image/jpeg;base64,/9j/4AAQSkZJRgABAQAAAQA...</td>\n",
       "      <td>data:image/jpeg;base64,/9j/4AAQSkZJRgABAQAAAQA...</td>\n",
       "      <td>data:image/jpeg;base64,/9j/4AAQSkZJRgABAQAAAQA...</td>\n",
       "      <td>data:image/jpeg;base64,/9j/4AAQSkZJRgABAQAAAQA...</td>\n",
       "      <td>data:image/jpeg;base64,/9j/4AAQSkZJRgABAQAAAQA...</td>\n",
       "    </tr>\n",
       "    <tr>\n",
       "      <th>8</th>\n",
       "      <td>data:image/jpeg;base64,/9j/4AAQSkZJRgABAQAAAQA...</td>\n",
       "      <td>data:image/jpeg;base64,/9j/4AAQSkZJRgABAQAAAQA...</td>\n",
       "      <td>data:image/jpeg;base64,/9j/4AAQSkZJRgABAQAAAQA...</td>\n",
       "      <td>data:image/jpeg;base64,/9j/4AAQSkZJRgABAQAAAQA...</td>\n",
       "      <td>data:image/jpeg;base64,/9j/4AAQSkZJRgABAQAAAQA...</td>\n",
       "    </tr>\n",
       "    <tr>\n",
       "      <th>9</th>\n",
       "      <td>data:image/jpeg;base64,/9j/4AAQSkZJRgABAQAAAQA...</td>\n",
       "      <td>data:image/jpeg;base64,/9j/4AAQSkZJRgABAQAAAQA...</td>\n",
       "      <td>data:image/png;base64,iVBORw0KGgoAAAANSUhEUgAA...</td>\n",
       "      <td>data:image/jpeg;base64,/9j/4AAQSkZJRgABAQAAAQA...</td>\n",
       "      <td>data:image/jpeg;base64,/9j/4AAQSkZJRgABAQAAAQA...</td>\n",
       "    </tr>\n",
       "  </tbody>\n",
       "</table>\n",
       "</div>"
      ],
      "text/plain": [
       "                                        fruit images  \\\n",
       "0  data:image/jpeg;base64,/9j/4AAQSkZJRgABAQAAAQA...   \n",
       "1  data:image/jpeg;base64,/9j/4AAQSkZJRgABAQAAAQA...   \n",
       "2  data:image/jpeg;base64,/9j/4AAQSkZJRgABAQAAAQA...   \n",
       "3  data:image/jpeg;base64,/9j/4AAQSkZJRgABAQAAAQA...   \n",
       "4  data:image/jpeg;base64,/9j/4AAQSkZJRgABAQAAAQA...   \n",
       "5  data:image/png;base64,iVBORw0KGgoAAAANSUhEUgAA...   \n",
       "6  data:image/jpeg;base64,/9j/4AAQSkZJRgABAQAAAQA...   \n",
       "7  data:image/jpeg;base64,/9j/4AAQSkZJRgABAQAAAQA...   \n",
       "8  data:image/jpeg;base64,/9j/4AAQSkZJRgABAQAAAQA...   \n",
       "9  data:image/jpeg;base64,/9j/4AAQSkZJRgABAQAAAQA...   \n",
       "\n",
       "                                          car images  \\\n",
       "0  data:image/jpeg;base64,/9j/4AAQSkZJRgABAQAAAQA...   \n",
       "1  data:image/jpeg;base64,/9j/4AAQSkZJRgABAQAAAQA...   \n",
       "2  data:image/jpeg;base64,/9j/4AAQSkZJRgABAQAAAQA...   \n",
       "3  data:image/jpeg;base64,/9j/4AAQSkZJRgABAQAAAQA...   \n",
       "4  data:image/jpeg;base64,/9j/4AAQSkZJRgABAQAAAQA...   \n",
       "5  data:image/jpeg;base64,/9j/4AAQSkZJRgABAQAAAQA...   \n",
       "6  data:image/png;base64,iVBORw0KGgoAAAANSUhEUgAA...   \n",
       "7  data:image/jpeg;base64,/9j/4AAQSkZJRgABAQAAAQA...   \n",
       "8  data:image/jpeg;base64,/9j/4AAQSkZJRgABAQAAAQA...   \n",
       "9  data:image/jpeg;base64,/9j/4AAQSkZJRgABAQAAAQA...   \n",
       "\n",
       "                             machine learning images  \\\n",
       "0  data:image/jpeg;base64,/9j/4AAQSkZJRgABAQAAAQA...   \n",
       "1  data:image/jpeg;base64,/9j/4AAQSkZJRgABAQAAAQA...   \n",
       "2  data:image/png;base64,iVBORw0KGgoAAAANSUhEUgAA...   \n",
       "3  data:image/jpeg;base64,/9j/4AAQSkZJRgABAQAAAQA...   \n",
       "4  data:image/jpeg;base64,/9j/4AAQSkZJRgABAQAAAQA...   \n",
       "5  data:image/jpeg;base64,/9j/4AAQSkZJRgABAQAAAQA...   \n",
       "6  data:image/jpeg;base64,/9j/4AAQSkZJRgABAQAAAQA...   \n",
       "7  data:image/jpeg;base64,/9j/4AAQSkZJRgABAQAAAQA...   \n",
       "8  data:image/jpeg;base64,/9j/4AAQSkZJRgABAQAAAQA...   \n",
       "9  data:image/png;base64,iVBORw0KGgoAAAANSUhEUgAA...   \n",
       "\n",
       "                                       guitar images  \\\n",
       "0  data:image/jpeg;base64,/9j/4AAQSkZJRgABAQAAAQA...   \n",
       "1  data:image/jpeg;base64,/9j/4AAQSkZJRgABAQAAAQA...   \n",
       "2  data:image/jpeg;base64,/9j/4AAQSkZJRgABAQAAAQA...   \n",
       "3  data:image/jpeg;base64,/9j/4AAQSkZJRgABAQAAAQA...   \n",
       "4  data:image/jpeg;base64,/9j/4AAQSkZJRgABAQAAAQA...   \n",
       "5  data:image/jpeg;base64,/9j/4AAQSkZJRgABAQAAAQA...   \n",
       "6  data:image/jpeg;base64,/9j/4AAQSkZJRgABAQAAAQA...   \n",
       "7  data:image/jpeg;base64,/9j/4AAQSkZJRgABAQAAAQA...   \n",
       "8  data:image/jpeg;base64,/9j/4AAQSkZJRgABAQAAAQA...   \n",
       "9  data:image/jpeg;base64,/9j/4AAQSkZJRgABAQAAAQA...   \n",
       "\n",
       "                                         cake images  \n",
       "0  data:image/jpeg;base64,/9j/4AAQSkZJRgABAQAAAQA...  \n",
       "1  data:image/jpeg;base64,/9j/4AAQSkZJRgABAQAAAQA...  \n",
       "2  data:image/jpeg;base64,/9j/4AAQSkZJRgABAQAAAQA...  \n",
       "3  data:image/jpeg;base64,/9j/4AAQSkZJRgABAQAAAQA...  \n",
       "4  data:image/jpeg;base64,/9j/4AAQSkZJRgABAQAAAQA...  \n",
       "5  data:image/jpeg;base64,/9j/4AAQSkZJRgABAQAAAQA...  \n",
       "6  data:image/jpeg;base64,/9j/4AAQSkZJRgABAQAAAQA...  \n",
       "7  data:image/jpeg;base64,/9j/4AAQSkZJRgABAQAAAQA...  \n",
       "8  data:image/jpeg;base64,/9j/4AAQSkZJRgABAQAAAQA...  \n",
       "9  data:image/jpeg;base64,/9j/4AAQSkZJRgABAQAAAQA...  "
      ]
     },
     "execution_count": 57,
     "metadata": {},
     "output_type": "execute_result"
    }
   ],
   "source": [
    "#data frame \n",
    "df3=pd.DataFrame({'fruit images':ten_fruitimages,'car images':ten_carimages,'machine learning images':tenmlimages,'guitar images':ten_guitarimages,'cake images':ten_cakeimages})\n",
    "df3"
   ]
  },
  {
   "cell_type": "markdown",
   "id": "9715c349-944c-4ff0-809c-59b606680265",
   "metadata": {},
   "source": [
    "Question 4 solution"
   ]
  },
  {
   "cell_type": "code",
   "execution_count": 69,
   "id": "2df17ae4-3818-414b-bab1-4ee83b0f8b90",
   "metadata": {},
   "outputs": [],
   "source": [
    "#fetching smart phone\n",
    "driver4=webdriver.Chrome()\n",
    "driver4.get('https://www.flipkart.com/')\n"
   ]
  },
  {
   "cell_type": "code",
   "execution_count": 70,
   "id": "57335dba-f100-438c-9a32-06416d1f041b",
   "metadata": {},
   "outputs": [],
   "source": [
    "#fetching search bar\n",
    "search_bar=driver4.find_element(By.XPATH,'/html/body/div[1]/div/div[1]/div/div/div/div/div[1]/div/div[1]/div/div[1]/header/div[1]/div[2]/form/div/div/input')\n",
    "\n",
    "search_bar.send_keys('Oneplus Nord')"
   ]
  },
  {
   "cell_type": "code",
   "execution_count": 71,
   "id": "94703d6a-a9aa-4c6b-aa02-79232825f2f9",
   "metadata": {},
   "outputs": [],
   "source": [
    "#fetching search button\n",
    "search_btn=driver4.find_element(By.XPATH,'//*[@id=\"container\"]/div/div[1]/div/div/div/div/div[1]/div/div[1]/div/div[1]/header/div[1]/div[2]/form/div/button')\n",
    "search_btn.click()"
   ]
  },
  {
   "cell_type": "code",
   "execution_count": 72,
   "id": "c45d6575-04b2-466e-af5b-0b242d723ed2",
   "metadata": {},
   "outputs": [],
   "source": [
    "#fetching smartphone name\n",
    "phone_name=[]\n",
    "start=1\n",
    "for page in range(start):\n",
    "    \n",
    "    try:\n",
    "        \n",
    "        name=driver4.find_elements(By.XPATH,'//div[@class=\"_4rR01T\"]')\n",
    "        for i in name:\n",
    "            phone_name.append(i.text)\n",
    "    except NoSuchElementException:\n",
    "        phone_name.append('-')"
   ]
  },
  {
   "cell_type": "code",
   "execution_count": 75,
   "id": "2fff49ab-d996-4632-b485-d36d766427e6",
   "metadata": {},
   "outputs": [],
   "source": [
    "#fectching phone RAM and rom\n",
    "phone_ram=[]\n",
    "start=1\n",
    "for page in range(start):\n",
    "    \n",
    "    try:\n",
    "        \n",
    "        ram=driver4.find_elements(By.XPATH,'//ul[@class=\"_1xgFaf\"]/li[1]')\n",
    "        for i in ram:\n",
    "            phone_ram.append(i.text)\n",
    "    except NoSuchElementException:\n",
    "        phone_ram.append('-')"
   ]
  },
  {
   "cell_type": "code",
   "execution_count": 81,
   "id": "0307389c-e487-4fff-a787-dc3a6b26ac16",
   "metadata": {},
   "outputs": [],
   "source": [
    "#fectching phone camera front and back\n",
    "phone_camera=[]\n",
    "start=1\n",
    "for page in range(start):\n",
    "    \n",
    "    try:\n",
    "        \n",
    "        camera=driver4.find_elements(By.XPATH,'//ul[@class=\"_1xgFaf\"]/li[3]')\n",
    "        for i in camera:\n",
    "            phone_camera.append(i.text)\n",
    "    except NoSuchElementException:\n",
    "        phone_camera.append('-')"
   ]
  },
  {
   "cell_type": "code",
   "execution_count": 84,
   "id": "64f734e2-4459-436b-963b-3b87aa585967",
   "metadata": {},
   "outputs": [],
   "source": [
    "#fectching phone display\n",
    "phone_display=[]\n",
    "start=1\n",
    "for page in range(start):\n",
    "    \n",
    "    try:\n",
    "        \n",
    "        display=driver4.find_elements(By.XPATH,'//ul[@class=\"_1xgFaf\"]/li[2]')\n",
    "        for i in display:\n",
    "            phone_display.append(i.text)\n",
    "    except NoSuchElementException:\n",
    "        phone_display.append('-')"
   ]
  },
  {
   "cell_type": "code",
   "execution_count": 86,
   "id": "58a9d401-0d56-4a4c-a0ae-30e6218670b3",
   "metadata": {},
   "outputs": [],
   "source": [
    "#fectching phone battery capacity\n",
    "phone_battery=[]\n",
    "start=1\n",
    "for page in range(start):\n",
    "    \n",
    "    try:\n",
    "        \n",
    "        battery=driver4.find_elements(By.XPATH,'//ul[@class=\"_1xgFaf\"]/li[4]')\n",
    "        for i in battery:\n",
    "            phone_battery.append(i.text)\n",
    "    except NoSuchElementException:\n",
    "        phone_battery.append('-')"
   ]
  },
  {
   "cell_type": "code",
   "execution_count": 102,
   "id": "136de8e4-f1df-4ad9-862d-4e7d2608db48",
   "metadata": {},
   "outputs": [],
   "source": [
    "#fectching phone PRICE\n",
    "phone_price=[]\n",
    "start=1\n",
    "for page in range(start):\n",
    "    \n",
    "    try:\n",
    "        \n",
    "        price=driver4.find_elements(By.XPATH,'//div[@class=\"_30jeq3 _1_WHN1\"]')\n",
    "        for i in price:\n",
    "            phone_price.append(i.text)\n",
    "    except NoSuchElementException:\n",
    "        phone_price.append('-')"
   ]
  },
  {
   "cell_type": "code",
   "execution_count": 92,
   "id": "dad95440-711a-438b-8e3c-f128fa06bbf9",
   "metadata": {},
   "outputs": [],
   "source": [
    "#fectching phone PRICE\n",
    "phone_url=[]\n",
    "start=1\n",
    "for page in range(start):\n",
    "    \n",
    "    try:\n",
    "        \n",
    "        url=driver4.find_elements(By.XPATH,'//a[@class=\"_1fQZEK\"]')\n",
    "        for i in url:\n",
    "            phone_url.append(i.get_attribute('href'))\n",
    "    except NoSuchElementException:\n",
    "        phone_url.append('-')"
   ]
  },
  {
   "cell_type": "code",
   "execution_count": 104,
   "id": "2a84e4f1-8171-410f-ae06-e738890e21a7",
   "metadata": {},
   "outputs": [
    {
     "name": "stdout",
     "output_type": "stream",
     "text": [
      "24 24 24 24 24 24\n"
     ]
    }
   ],
   "source": [
    "print(len(phone_name),len(phone_ram),len(phone_camera),len(phone_display),len(phone_price),len(phone_url))"
   ]
  },
  {
   "cell_type": "code",
   "execution_count": 106,
   "id": "5c210ca4-cbd7-4f5d-8447-9a4b2884369a",
   "metadata": {},
   "outputs": [],
   "source": [
    "df4=pd.DataFrame({'PHONE NAME AND COLOR':phone_name,'RAM AND ROM':phone_ram,'FORNT CAMERA AND BACK CAMERA':phone_camera,'DISPLAY':phone_display,'BATTERY':phone_battery,'PRICE':phone_price,'URL':phone_url})"
   ]
  },
  {
   "cell_type": "code",
   "execution_count": 108,
   "id": "163eebd2-8838-43bc-876d-c583aede53e2",
   "metadata": {},
   "outputs": [
    {
     "data": {
      "text/html": [
       "<div>\n",
       "<style scoped>\n",
       "    .dataframe tbody tr th:only-of-type {\n",
       "        vertical-align: middle;\n",
       "    }\n",
       "\n",
       "    .dataframe tbody tr th {\n",
       "        vertical-align: top;\n",
       "    }\n",
       "\n",
       "    .dataframe thead th {\n",
       "        text-align: right;\n",
       "    }\n",
       "</style>\n",
       "<table border=\"1\" class=\"dataframe\">\n",
       "  <thead>\n",
       "    <tr style=\"text-align: right;\">\n",
       "      <th></th>\n",
       "      <th>PHONE NAME AND COLOR</th>\n",
       "      <th>RAM AND ROM</th>\n",
       "      <th>FORNT CAMERA AND BACK CAMERA</th>\n",
       "      <th>DISPLAY</th>\n",
       "      <th>BATTERY</th>\n",
       "      <th>PRICE</th>\n",
       "      <th>URL</th>\n",
       "    </tr>\n",
       "  </thead>\n",
       "  <tbody>\n",
       "    <tr>\n",
       "      <th>0</th>\n",
       "      <td>OnePlus Nord CE 2 Lite 5G (Blue Tide, 128 GB)</td>\n",
       "      <td>6 GB RAM | 128 GB ROM</td>\n",
       "      <td>64MP Rear Camera | 16MP Front Camera</td>\n",
       "      <td>16.74 cm (6.59 inch) Display</td>\n",
       "      <td>5000 mAh Battery</td>\n",
       "      <td>₹17,143</td>\n",
       "      <td>https://www.flipkart.com/oneplus-nord-ce-2-lit...</td>\n",
       "    </tr>\n",
       "    <tr>\n",
       "      <th>1</th>\n",
       "      <td>OnePlus Nord CE 3 Lite 5G (Pastel Lime, 128 GB)</td>\n",
       "      <td>8 GB RAM | 128 GB ROM</td>\n",
       "      <td>108MP Rear Camera</td>\n",
       "      <td>17.07 cm (6.72 inch) Display</td>\n",
       "      <td>5000 mAh Battery</td>\n",
       "      <td>₹19,562</td>\n",
       "      <td>https://www.flipkart.com/oneplus-nord-ce-3-lit...</td>\n",
       "    </tr>\n",
       "    <tr>\n",
       "      <th>2</th>\n",
       "      <td>OnePlus Nord CE 3 Lite 5G (Chromatic Gray, 128...</td>\n",
       "      <td>8 GB RAM | 128 GB ROM</td>\n",
       "      <td>108MP Rear Camera</td>\n",
       "      <td>17.07 cm (6.72 inch) Display</td>\n",
       "      <td>5000 mAh Battery</td>\n",
       "      <td>₹19,898</td>\n",
       "      <td>https://www.flipkart.com/oneplus-nord-ce-3-lit...</td>\n",
       "    </tr>\n",
       "    <tr>\n",
       "      <th>3</th>\n",
       "      <td>OnePlus Nord CE 3 Lite 5G (Pastel Lime, 256 GB)</td>\n",
       "      <td>8 GB RAM | 256 GB ROM</td>\n",
       "      <td>108MP Rear Camera</td>\n",
       "      <td>17.07 cm (6.72 inch) Display</td>\n",
       "      <td>5000 mAh Battery</td>\n",
       "      <td>₹21,860</td>\n",
       "      <td>https://www.flipkart.com/oneplus-nord-ce-3-lit...</td>\n",
       "    </tr>\n",
       "    <tr>\n",
       "      <th>4</th>\n",
       "      <td>OnePlus Nord CE 3 Lite 5G (Chromatic Gray, 256...</td>\n",
       "      <td>8 GB RAM | 256 GB ROM</td>\n",
       "      <td>108MP Rear Camera</td>\n",
       "      <td>17.07 cm (6.72 inch) Display</td>\n",
       "      <td>5000 mAh Battery</td>\n",
       "      <td>₹21,638</td>\n",
       "      <td>https://www.flipkart.com/oneplus-nord-ce-3-lit...</td>\n",
       "    </tr>\n",
       "    <tr>\n",
       "      <th>5</th>\n",
       "      <td>OnePlus Nord CE 2 Lite 5G (Black Dusk, 128 GB)</td>\n",
       "      <td>6 GB RAM | 128 GB ROM</td>\n",
       "      <td>64MP Rear Camera | 16MP Front Camera</td>\n",
       "      <td>16.74 cm (6.59 inch) Display</td>\n",
       "      <td>5000 mAh Battery</td>\n",
       "      <td>₹17,094</td>\n",
       "      <td>https://www.flipkart.com/oneplus-nord-ce-2-lit...</td>\n",
       "    </tr>\n",
       "    <tr>\n",
       "      <th>6</th>\n",
       "      <td>OnePlus Nord CE 3 Lite 5G (Chromatic Gray, 256...</td>\n",
       "      <td>8 GB RAM | 256 GB ROM</td>\n",
       "      <td>108MP Rear Camera</td>\n",
       "      <td>17.07 cm (6.72 inch) Display</td>\n",
       "      <td>5000 mAh Battery</td>\n",
       "      <td>₹21,990</td>\n",
       "      <td>https://www.flipkart.com/oneplus-nord-ce-3-lit...</td>\n",
       "    </tr>\n",
       "    <tr>\n",
       "      <th>7</th>\n",
       "      <td>OnePlus Nord CE 3 Lite 5G (Pastel Lime, 128 GB)</td>\n",
       "      <td>8 GB RAM | 128 GB ROM</td>\n",
       "      <td>108MP Rear Camera</td>\n",
       "      <td>17.07 cm (6.72 inch) Display</td>\n",
       "      <td>5000 mAh Battery</td>\n",
       "      <td>₹19,755</td>\n",
       "      <td>https://www.flipkart.com/oneplus-nord-ce-3-lit...</td>\n",
       "    </tr>\n",
       "    <tr>\n",
       "      <th>8</th>\n",
       "      <td>OnePlus Nord CE3 5G (Aqua Surge, 256 GB)</td>\n",
       "      <td>12 GB RAM | 256 GB ROM</td>\n",
       "      <td>50MP Rear Camera</td>\n",
       "      <td>17.02 cm (6.7 inch) Display</td>\n",
       "      <td>5000 mAh Battery</td>\n",
       "      <td>₹28,600</td>\n",
       "      <td>https://www.flipkart.com/oneplus-nord-ce3-5g-a...</td>\n",
       "    </tr>\n",
       "    <tr>\n",
       "      <th>9</th>\n",
       "      <td>OnePlus Nord CE 3 Lite 5G (Pastel Lime, 256 GB)</td>\n",
       "      <td>8 GB RAM | 256 GB ROM</td>\n",
       "      <td>108MP Rear Camera</td>\n",
       "      <td>17.07 cm (6.72 inch) Display</td>\n",
       "      <td>5000 mAh Battery</td>\n",
       "      <td>₹21,971</td>\n",
       "      <td>https://www.flipkart.com/oneplus-nord-ce-3-lit...</td>\n",
       "    </tr>\n",
       "    <tr>\n",
       "      <th>10</th>\n",
       "      <td>OnePlus Nord CE 3 Lite 5G (Chromatic Gray, 128...</td>\n",
       "      <td>8 GB RAM | 128 GB ROM</td>\n",
       "      <td>108MP Rear Camera</td>\n",
       "      <td>17.07 cm (6.72 inch) Display</td>\n",
       "      <td>5000 mAh Battery</td>\n",
       "      <td>₹19,899</td>\n",
       "      <td>https://www.flipkart.com/oneplus-nord-ce-3-lit...</td>\n",
       "    </tr>\n",
       "    <tr>\n",
       "      <th>11</th>\n",
       "      <td>OnePlus Nord CE 3 Lite 5G (Chromatic Gray, 256...</td>\n",
       "      <td>8 GB RAM | 256 GB ROM</td>\n",
       "      <td>108MP Rear Camera</td>\n",
       "      <td>17.07 cm (6.72 inch) Display</td>\n",
       "      <td>5000 mAh Battery</td>\n",
       "      <td>₹21,986</td>\n",
       "      <td>https://www.flipkart.com/oneplus-nord-ce-3-lit...</td>\n",
       "    </tr>\n",
       "    <tr>\n",
       "      <th>12</th>\n",
       "      <td>OnePlus Nord CE3 5G (Grey Shimmer, 128 GB)</td>\n",
       "      <td>8 GB RAM | 128 GB ROM</td>\n",
       "      <td>50MP Rear Camera</td>\n",
       "      <td>17.02 cm (6.7 inch) Display</td>\n",
       "      <td>5000 mAh Battery</td>\n",
       "      <td>₹25,095</td>\n",
       "      <td>https://www.flipkart.com/oneplus-nord-ce3-5g-g...</td>\n",
       "    </tr>\n",
       "    <tr>\n",
       "      <th>13</th>\n",
       "      <td>OnePlus Nord CE3 5G (Grey Shimmer, 256 GB)</td>\n",
       "      <td>12 GB RAM | 256 GB ROM</td>\n",
       "      <td>50MP Rear Camera</td>\n",
       "      <td>17.02 cm (6.7 inch) Display</td>\n",
       "      <td>5000 mAh Battery</td>\n",
       "      <td>₹28,700</td>\n",
       "      <td>https://www.flipkart.com/oneplus-nord-ce3-5g-g...</td>\n",
       "    </tr>\n",
       "    <tr>\n",
       "      <th>14</th>\n",
       "      <td>OnePlus Nord 3 5G (Misty Green, 128 GB)</td>\n",
       "      <td>8 GB RAM | 128 GB ROM</td>\n",
       "      <td>50MP Rear Camera</td>\n",
       "      <td>17.12 cm (6.74 inch) Display</td>\n",
       "      <td>5000 mAh Battery</td>\n",
       "      <td>₹31,830</td>\n",
       "      <td>https://www.flipkart.com/oneplus-nord-3-5g-mis...</td>\n",
       "    </tr>\n",
       "    <tr>\n",
       "      <th>15</th>\n",
       "      <td>OnePlus Nord CE3 5G (Aqua Surge, 128 GB)</td>\n",
       "      <td>8 GB RAM | 128 GB ROM</td>\n",
       "      <td>50MP Rear Camera</td>\n",
       "      <td>17.02 cm (6.7 inch) Display</td>\n",
       "      <td>5000 mAh Battery</td>\n",
       "      <td>₹25,655</td>\n",
       "      <td>https://www.flipkart.com/oneplus-nord-ce3-5g-a...</td>\n",
       "    </tr>\n",
       "    <tr>\n",
       "      <th>16</th>\n",
       "      <td>OnePlus Nord CE 3 Lite 5G (Chromatic Gray, 128...</td>\n",
       "      <td>8 GB RAM | 128 GB ROM</td>\n",
       "      <td>108MP Rear Camera</td>\n",
       "      <td>17.07 cm (6.72 inch) Display</td>\n",
       "      <td>5000 mAh Battery</td>\n",
       "      <td>₹19,927</td>\n",
       "      <td>https://www.flipkart.com/oneplus-nord-ce-3-lit...</td>\n",
       "    </tr>\n",
       "    <tr>\n",
       "      <th>17</th>\n",
       "      <td>OnePlus Nord 3 5G (Misty Green, 256 GB)</td>\n",
       "      <td>16 GB RAM | 256 GB ROM</td>\n",
       "      <td>50MP Rear Camera</td>\n",
       "      <td>17.12 cm (6.74 inch) Display</td>\n",
       "      <td>5000 mAh Battery</td>\n",
       "      <td>₹35,500</td>\n",
       "      <td>https://www.flipkart.com/oneplus-nord-3-5g-mis...</td>\n",
       "    </tr>\n",
       "    <tr>\n",
       "      <th>18</th>\n",
       "      <td>OnePlus Nord 3 5G (Tempest Gray, 256 GB)</td>\n",
       "      <td>16 GB RAM | 256 GB ROM</td>\n",
       "      <td>50MP Rear Camera</td>\n",
       "      <td>17.12 cm (6.74 inch) Display</td>\n",
       "      <td>5000 mAh Battery</td>\n",
       "      <td>₹35,990</td>\n",
       "      <td>https://www.flipkart.com/oneplus-nord-3-5g-tem...</td>\n",
       "    </tr>\n",
       "    <tr>\n",
       "      <th>19</th>\n",
       "      <td>OnePlus Nord 3 5G (Tempest Gray, 128 GB)</td>\n",
       "      <td>8 GB RAM | 128 GB ROM</td>\n",
       "      <td>50MP Rear Camera</td>\n",
       "      <td>17.12 cm (6.74 inch) Display</td>\n",
       "      <td>5000 mAh Battery</td>\n",
       "      <td>₹33,749</td>\n",
       "      <td>https://www.flipkart.com/oneplus-nord-3-5g-tem...</td>\n",
       "    </tr>\n",
       "    <tr>\n",
       "      <th>20</th>\n",
       "      <td>OnePlus Nord 2T 5G (Jade Fog, 256 GB)</td>\n",
       "      <td>12 GB RAM | 256 GB ROM</td>\n",
       "      <td>50MP Rear Camera</td>\n",
       "      <td>17.02 cm (6.7 inch) Display</td>\n",
       "      <td>4500 mAh Battery</td>\n",
       "      <td>₹33,990</td>\n",
       "      <td>https://www.flipkart.com/oneplus-nord-2t-5g-ja...</td>\n",
       "    </tr>\n",
       "    <tr>\n",
       "      <th>21</th>\n",
       "      <td>OnePlus Nord (Gray Onyx, 64 GB)</td>\n",
       "      <td>6 GB RAM | 64 GB ROM</td>\n",
       "      <td>48MP + 8MP | 32MP + 8MP Dual Front Camera</td>\n",
       "      <td>16.36 cm (6.44 inch) Full HD+ Display</td>\n",
       "      <td>4115 mAh Battery</td>\n",
       "      <td>₹22,689</td>\n",
       "      <td>https://www.flipkart.com/oneplus-nord-gray-ony...</td>\n",
       "    </tr>\n",
       "    <tr>\n",
       "      <th>22</th>\n",
       "      <td>OnePlus Nord 2 5G (Blue Haze, 256 GB)</td>\n",
       "      <td>12 GB RAM | 256 GB ROM</td>\n",
       "      <td>50MP Rear Camera</td>\n",
       "      <td>16.33 cm (6.43 inch) Display</td>\n",
       "      <td>4500 mAh Battery</td>\n",
       "      <td>₹32,890</td>\n",
       "      <td>https://www.flipkart.com/oneplus-nord-2-5g-blu...</td>\n",
       "    </tr>\n",
       "    <tr>\n",
       "      <th>23</th>\n",
       "      <td>OnePlus Nord 2T 5G (Jade Fog, 128 GB)</td>\n",
       "      <td>8 GB RAM | 128 GB ROM</td>\n",
       "      <td>50MP Rear Camera | 32MP Front Camera</td>\n",
       "      <td>17.02 cm (6.7 inch) Display</td>\n",
       "      <td>4500 mAh Battery</td>\n",
       "      <td>₹28,990</td>\n",
       "      <td>https://www.flipkart.com/oneplus-nord-2t-5g-ja...</td>\n",
       "    </tr>\n",
       "  </tbody>\n",
       "</table>\n",
       "</div>"
      ],
      "text/plain": [
       "                                 PHONE NAME AND COLOR             RAM AND ROM  \\\n",
       "0       OnePlus Nord CE 2 Lite 5G (Blue Tide, 128 GB)   6 GB RAM | 128 GB ROM   \n",
       "1     OnePlus Nord CE 3 Lite 5G (Pastel Lime, 128 GB)   8 GB RAM | 128 GB ROM   \n",
       "2   OnePlus Nord CE 3 Lite 5G (Chromatic Gray, 128...   8 GB RAM | 128 GB ROM   \n",
       "3     OnePlus Nord CE 3 Lite 5G (Pastel Lime, 256 GB)   8 GB RAM | 256 GB ROM   \n",
       "4   OnePlus Nord CE 3 Lite 5G (Chromatic Gray, 256...   8 GB RAM | 256 GB ROM   \n",
       "5      OnePlus Nord CE 2 Lite 5G (Black Dusk, 128 GB)   6 GB RAM | 128 GB ROM   \n",
       "6   OnePlus Nord CE 3 Lite 5G (Chromatic Gray, 256...   8 GB RAM | 256 GB ROM   \n",
       "7     OnePlus Nord CE 3 Lite 5G (Pastel Lime, 128 GB)   8 GB RAM | 128 GB ROM   \n",
       "8            OnePlus Nord CE3 5G (Aqua Surge, 256 GB)  12 GB RAM | 256 GB ROM   \n",
       "9     OnePlus Nord CE 3 Lite 5G (Pastel Lime, 256 GB)   8 GB RAM | 256 GB ROM   \n",
       "10  OnePlus Nord CE 3 Lite 5G (Chromatic Gray, 128...   8 GB RAM | 128 GB ROM   \n",
       "11  OnePlus Nord CE 3 Lite 5G (Chromatic Gray, 256...   8 GB RAM | 256 GB ROM   \n",
       "12         OnePlus Nord CE3 5G (Grey Shimmer, 128 GB)   8 GB RAM | 128 GB ROM   \n",
       "13         OnePlus Nord CE3 5G (Grey Shimmer, 256 GB)  12 GB RAM | 256 GB ROM   \n",
       "14            OnePlus Nord 3 5G (Misty Green, 128 GB)   8 GB RAM | 128 GB ROM   \n",
       "15           OnePlus Nord CE3 5G (Aqua Surge, 128 GB)   8 GB RAM | 128 GB ROM   \n",
       "16  OnePlus Nord CE 3 Lite 5G (Chromatic Gray, 128...   8 GB RAM | 128 GB ROM   \n",
       "17            OnePlus Nord 3 5G (Misty Green, 256 GB)  16 GB RAM | 256 GB ROM   \n",
       "18           OnePlus Nord 3 5G (Tempest Gray, 256 GB)  16 GB RAM | 256 GB ROM   \n",
       "19           OnePlus Nord 3 5G (Tempest Gray, 128 GB)   8 GB RAM | 128 GB ROM   \n",
       "20              OnePlus Nord 2T 5G (Jade Fog, 256 GB)  12 GB RAM | 256 GB ROM   \n",
       "21                    OnePlus Nord (Gray Onyx, 64 GB)    6 GB RAM | 64 GB ROM   \n",
       "22              OnePlus Nord 2 5G (Blue Haze, 256 GB)  12 GB RAM | 256 GB ROM   \n",
       "23              OnePlus Nord 2T 5G (Jade Fog, 128 GB)   8 GB RAM | 128 GB ROM   \n",
       "\n",
       "                 FORNT CAMERA AND BACK CAMERA  \\\n",
       "0        64MP Rear Camera | 16MP Front Camera   \n",
       "1                           108MP Rear Camera   \n",
       "2                           108MP Rear Camera   \n",
       "3                           108MP Rear Camera   \n",
       "4                           108MP Rear Camera   \n",
       "5        64MP Rear Camera | 16MP Front Camera   \n",
       "6                           108MP Rear Camera   \n",
       "7                           108MP Rear Camera   \n",
       "8                            50MP Rear Camera   \n",
       "9                           108MP Rear Camera   \n",
       "10                          108MP Rear Camera   \n",
       "11                          108MP Rear Camera   \n",
       "12                           50MP Rear Camera   \n",
       "13                           50MP Rear Camera   \n",
       "14                           50MP Rear Camera   \n",
       "15                           50MP Rear Camera   \n",
       "16                          108MP Rear Camera   \n",
       "17                           50MP Rear Camera   \n",
       "18                           50MP Rear Camera   \n",
       "19                           50MP Rear Camera   \n",
       "20                           50MP Rear Camera   \n",
       "21  48MP + 8MP | 32MP + 8MP Dual Front Camera   \n",
       "22                           50MP Rear Camera   \n",
       "23       50MP Rear Camera | 32MP Front Camera   \n",
       "\n",
       "                                  DISPLAY           BATTERY    PRICE  \\\n",
       "0            16.74 cm (6.59 inch) Display  5000 mAh Battery  ₹17,143   \n",
       "1            17.07 cm (6.72 inch) Display  5000 mAh Battery  ₹19,562   \n",
       "2            17.07 cm (6.72 inch) Display  5000 mAh Battery  ₹19,898   \n",
       "3            17.07 cm (6.72 inch) Display  5000 mAh Battery  ₹21,860   \n",
       "4            17.07 cm (6.72 inch) Display  5000 mAh Battery  ₹21,638   \n",
       "5            16.74 cm (6.59 inch) Display  5000 mAh Battery  ₹17,094   \n",
       "6            17.07 cm (6.72 inch) Display  5000 mAh Battery  ₹21,990   \n",
       "7            17.07 cm (6.72 inch) Display  5000 mAh Battery  ₹19,755   \n",
       "8             17.02 cm (6.7 inch) Display  5000 mAh Battery  ₹28,600   \n",
       "9            17.07 cm (6.72 inch) Display  5000 mAh Battery  ₹21,971   \n",
       "10           17.07 cm (6.72 inch) Display  5000 mAh Battery  ₹19,899   \n",
       "11           17.07 cm (6.72 inch) Display  5000 mAh Battery  ₹21,986   \n",
       "12            17.02 cm (6.7 inch) Display  5000 mAh Battery  ₹25,095   \n",
       "13            17.02 cm (6.7 inch) Display  5000 mAh Battery  ₹28,700   \n",
       "14           17.12 cm (6.74 inch) Display  5000 mAh Battery  ₹31,830   \n",
       "15            17.02 cm (6.7 inch) Display  5000 mAh Battery  ₹25,655   \n",
       "16           17.07 cm (6.72 inch) Display  5000 mAh Battery  ₹19,927   \n",
       "17           17.12 cm (6.74 inch) Display  5000 mAh Battery  ₹35,500   \n",
       "18           17.12 cm (6.74 inch) Display  5000 mAh Battery  ₹35,990   \n",
       "19           17.12 cm (6.74 inch) Display  5000 mAh Battery  ₹33,749   \n",
       "20            17.02 cm (6.7 inch) Display  4500 mAh Battery  ₹33,990   \n",
       "21  16.36 cm (6.44 inch) Full HD+ Display  4115 mAh Battery  ₹22,689   \n",
       "22           16.33 cm (6.43 inch) Display  4500 mAh Battery  ₹32,890   \n",
       "23            17.02 cm (6.7 inch) Display  4500 mAh Battery  ₹28,990   \n",
       "\n",
       "                                                  URL  \n",
       "0   https://www.flipkart.com/oneplus-nord-ce-2-lit...  \n",
       "1   https://www.flipkart.com/oneplus-nord-ce-3-lit...  \n",
       "2   https://www.flipkart.com/oneplus-nord-ce-3-lit...  \n",
       "3   https://www.flipkart.com/oneplus-nord-ce-3-lit...  \n",
       "4   https://www.flipkart.com/oneplus-nord-ce-3-lit...  \n",
       "5   https://www.flipkart.com/oneplus-nord-ce-2-lit...  \n",
       "6   https://www.flipkart.com/oneplus-nord-ce-3-lit...  \n",
       "7   https://www.flipkart.com/oneplus-nord-ce-3-lit...  \n",
       "8   https://www.flipkart.com/oneplus-nord-ce3-5g-a...  \n",
       "9   https://www.flipkart.com/oneplus-nord-ce-3-lit...  \n",
       "10  https://www.flipkart.com/oneplus-nord-ce-3-lit...  \n",
       "11  https://www.flipkart.com/oneplus-nord-ce-3-lit...  \n",
       "12  https://www.flipkart.com/oneplus-nord-ce3-5g-g...  \n",
       "13  https://www.flipkart.com/oneplus-nord-ce3-5g-g...  \n",
       "14  https://www.flipkart.com/oneplus-nord-3-5g-mis...  \n",
       "15  https://www.flipkart.com/oneplus-nord-ce3-5g-a...  \n",
       "16  https://www.flipkart.com/oneplus-nord-ce-3-lit...  \n",
       "17  https://www.flipkart.com/oneplus-nord-3-5g-mis...  \n",
       "18  https://www.flipkart.com/oneplus-nord-3-5g-tem...  \n",
       "19  https://www.flipkart.com/oneplus-nord-3-5g-tem...  \n",
       "20  https://www.flipkart.com/oneplus-nord-2t-5g-ja...  \n",
       "21  https://www.flipkart.com/oneplus-nord-gray-ony...  \n",
       "22  https://www.flipkart.com/oneplus-nord-2-5g-blu...  \n",
       "23  https://www.flipkart.com/oneplus-nord-2t-5g-ja...  "
      ]
     },
     "execution_count": 108,
     "metadata": {},
     "output_type": "execute_result"
    }
   ],
   "source": [
    "df4"
   ]
  },
  {
   "cell_type": "code",
   "execution_count": 109,
   "id": "2ac91f3a-9de6-42ff-b5ce-887b6e304545",
   "metadata": {},
   "outputs": [],
   "source": [
    "df4.to_csv('phone_data.csv')"
   ]
  },
  {
   "cell_type": "markdown",
   "id": "818dd85c-19a9-480d-a473-a8cb48602323",
   "metadata": {},
   "source": [
    "question no 5 solution"
   ]
  },
  {
   "cell_type": "code",
   "execution_count": 111,
   "id": "d812fedc-dcc6-4e20-b283-8e72733804c2",
   "metadata": {},
   "outputs": [],
   "source": [
    "driver5=webdriver.Chrome()\n",
    "driver5.get('https://www.google.com/maps')"
   ]
  },
  {
   "cell_type": "code",
   "execution_count": 113,
   "id": "4600bf9e-6dc3-421c-a9d1-71dc31514e47",
   "metadata": {},
   "outputs": [],
   "source": [
    "#fetching search bar\n",
    "search_bar=driver5.find_element(By.XPATH,'//*[@id=\"searchboxinput\"]')\n",
    "search_bar.send_keys('srinagar')\n",
    "search_btn=driver5.find_element(By.XPATH,'//*[@id=\"searchbox-searchbutton\"]')\n",
    "search_btn.click()"
   ]
  },
  {
   "cell_type": "code",
   "execution_count": 114,
   "id": "3569c8e1-8c50-47b5-b398-6ac93264ddb0",
   "metadata": {},
   "outputs": [],
   "source": [
    "#note: due to some issue face in maps i couldn't solve the question  and i was not able to locate the longititude and latitude values from the map while the values are present in the right click event on the mouse ....."
   ]
  },
  {
   "cell_type": "code",
   "execution_count": 14,
   "id": "3c16bcdb-f0be-45df-a85a-b7576297aff7",
   "metadata": {},
   "outputs": [],
   "source": [
    "driver6=webdriver.Chrome()\n",
    "driver6.get('https://www.digit.in/')\n"
   ]
  },
  {
   "cell_type": "code",
   "execution_count": 15,
   "id": "0de29291-d38b-43b5-adb3-71536c2f525b",
   "metadata": {},
   "outputs": [],
   "source": [
    "search_bar=driver6.find_element(By.XPATH,'//*[@id=\"woocommerce-product-search-field-0\"]')\n",
    "search_bar.send_keys('gaming laptop')\n",
    "search_btn=driver6.find_element(By.XPATH,'//*[@id=\"main_header\"]/div/div[1]/div/div/div[2]/form/button')\n",
    "search_btn.click()"
   ]
  },
  {
   "cell_type": "code",
   "execution_count": 13,
   "id": "e6fce07a-f6d0-4600-a6a5-bb86562851b7",
   "metadata": {},
   "outputs": [],
   "source": [
    "#fetching name of gaming laptop's\n",
    "laptop_name=[]\n",
    "try:\n",
    "    \n",
    "    name=driver6.find_elements(By.XPATH,'//h3[@class=\" text-clamp text-clamp-2\"]/a')\n",
    "    for i in name:\n",
    "        laptop_name.append(i.text)\n",
    "except NoSuchElementException:\n",
    "    laptop_name.append('no information')"
   ]
  },
  {
   "cell_type": "code",
   "execution_count": 123,
   "id": "2407aec9-824b-4091-b49b-cdcc17c82afc",
   "metadata": {},
   "outputs": [],
   "source": [
    "#fetching price of gaming laptop's\n",
    "laptop_price=[]\n",
    "try:\n",
    "    \n",
    "    price=driver6.find_elements(By.XPATH,'//span[@class=\"woocommerce-Price-amount amount\"]')\n",
    "    for i in price:\n",
    "        laptop_price.append(i.text)\n",
    "except NoSuchElementException:\n",
    "    laptop_price.append('no information')\n"
   ]
  },
  {
   "cell_type": "code",
   "execution_count": 18,
   "id": "7da15149-cc3d-4b0d-a7e9-e6047daf3dbf",
   "metadata": {},
   "outputs": [
    {
     "data": {
      "text/html": [
       "<div>\n",
       "<style scoped>\n",
       "    .dataframe tbody tr th:only-of-type {\n",
       "        vertical-align: middle;\n",
       "    }\n",
       "\n",
       "    .dataframe tbody tr th {\n",
       "        vertical-align: top;\n",
       "    }\n",
       "\n",
       "    .dataframe thead th {\n",
       "        text-align: right;\n",
       "    }\n",
       "</style>\n",
       "<table border=\"1\" class=\"dataframe\">\n",
       "  <thead>\n",
       "    <tr style=\"text-align: right;\">\n",
       "      <th></th>\n",
       "      <th>laptioname</th>\n",
       "    </tr>\n",
       "  </thead>\n",
       "  <tbody>\n",
       "    <tr>\n",
       "      <th>0</th>\n",
       "      <td>Dell Alienware m16 R1 Gaming Laptop</td>\n",
       "    </tr>\n",
       "    <tr>\n",
       "      <th>1</th>\n",
       "      <td>Dell Alienware x14 R2 Gaming Laptop</td>\n",
       "    </tr>\n",
       "    <tr>\n",
       "      <th>2</th>\n",
       "      <td>Hp Victus Gaming Laptop 16-r0075TX</td>\n",
       "    </tr>\n",
       "    <tr>\n",
       "      <th>3</th>\n",
       "      <td>Alienware x14 Gaming Laptop</td>\n",
       "    </tr>\n",
       "    <tr>\n",
       "      <th>4</th>\n",
       "      <td>ASUS TUF Gaming Laptop FX506LI-HN270T</td>\n",
       "    </tr>\n",
       "    <tr>\n",
       "      <th>5</th>\n",
       "      <td>Lenovo IdeaPad Gaming 3 11th Gen Core i5-11320...</td>\n",
       "    </tr>\n",
       "    <tr>\n",
       "      <th>6</th>\n",
       "      <td>Lenovo IdeaPad Gaming 3 15IAH7</td>\n",
       "    </tr>\n",
       "    <tr>\n",
       "      <th>7</th>\n",
       "      <td>ASUS TUF Gaming F15</td>\n",
       "    </tr>\n",
       "    <tr>\n",
       "      <th>8</th>\n",
       "      <td>Lenovo IdeaPad Gaming 3i</td>\n",
       "    </tr>\n",
       "    <tr>\n",
       "      <th>9</th>\n",
       "      <td>Lenovo Ideapad gaming 3</td>\n",
       "    </tr>\n",
       "    <tr>\n",
       "      <th>10</th>\n",
       "      <td>MSI Gaming Raider</td>\n",
       "    </tr>\n",
       "    <tr>\n",
       "      <th>11</th>\n",
       "      <td>Lenovo Legion 5 Pro 11th Gen Core i7-11800H (8...</td>\n",
       "    </tr>\n",
       "  </tbody>\n",
       "</table>\n",
       "</div>"
      ],
      "text/plain": [
       "                                           laptioname\n",
       "0                 Dell Alienware m16 R1 Gaming Laptop\n",
       "1                 Dell Alienware x14 R2 Gaming Laptop\n",
       "2                  Hp Victus Gaming Laptop 16-r0075TX\n",
       "3                         Alienware x14 Gaming Laptop\n",
       "4               ASUS TUF Gaming Laptop FX506LI-HN270T\n",
       "5   Lenovo IdeaPad Gaming 3 11th Gen Core i5-11320...\n",
       "6                      Lenovo IdeaPad Gaming 3 15IAH7\n",
       "7                                 ASUS TUF Gaming F15\n",
       "8                            Lenovo IdeaPad Gaming 3i\n",
       "9                             Lenovo Ideapad gaming 3\n",
       "10                                  MSI Gaming Raider\n",
       "11  Lenovo Legion 5 Pro 11th Gen Core i7-11800H (8..."
      ]
     },
     "execution_count": 18,
     "metadata": {},
     "output_type": "execute_result"
    }
   ],
   "source": [
    "df6=pd.DataFrame({'laptioname':laptop_name})\n",
    "df6"
   ]
  },
  {
   "cell_type": "markdown",
   "id": "60a73394-2b60-4b1b-bc61-c588ad5156d7",
   "metadata": {},
   "source": [
    "Question no 7 solution"
   ]
  },
  {
   "cell_type": "code",
   "execution_count": 32,
   "id": "f32d0be6-d43e-4d54-b32a-57e394c16ca4",
   "metadata": {},
   "outputs": [],
   "source": [
    "driver7=webdriver.Chrome()\n",
    "driver7.get('https://www.forbes.com./?sh=2ff4b8ef143d')"
   ]
  },
  {
   "cell_type": "code",
   "execution_count": 33,
   "id": "dbc2a8b8-8b02-45d6-bd8f-c4f5a9abdcba",
   "metadata": {},
   "outputs": [],
   "source": [
    "ham_btn=driver7.find_element(By.XPATH,'//*[@id=\"globalHeaderMenu\"]/div/div')\n",
    "ham_btn.click()"
   ]
  },
  {
   "cell_type": "code",
   "execution_count": 34,
   "id": "b0b1ed66-645d-4d6a-b5fa-ab770b8aa6b4",
   "metadata": {},
   "outputs": [],
   "source": [
    "op1_btn=driver7.find_element(By.XPATH,'//*[@id=\"globalHeaderMenu\"]/div/div[2]/ul/li[2]/div[1]')\n",
    "op1_btn.click()"
   ]
  },
  {
   "cell_type": "code",
   "execution_count": 35,
   "id": "1b35408e-f79e-4da1-8e13-4d9055727f1f",
   "metadata": {},
   "outputs": [],
   "source": [
    "op2_btn=driver7.find_element(By.XPATH,'//li[@class=\"TjJgrPSg _2bNo56RE secondary\"]/a')\n",
    "op2_btn.click()"
   ]
  },
  {
   "cell_type": "code",
   "execution_count": 46,
   "id": "7a375855-96b8-42bb-9dad-f1d139358b38",
   "metadata": {},
   "outputs": [],
   "source": [
    "#fetching name\n",
    "m_name=[]\n",
    "name=driver7.find_elements(By.XPATH,'//div[@class=\"Table_dataCell__2QCve\"]')\n",
    "for i in name:\n",
    "    m_name.append(i.text)"
   ]
  },
  {
   "cell_type": "code",
   "execution_count": 49,
   "id": "c73c8c85-ffe4-48de-87ed-99dc5fa5a030",
   "metadata": {},
   "outputs": [
    {
     "data": {
      "text/html": [
       "<div>\n",
       "<style scoped>\n",
       "    .dataframe tbody tr th:only-of-type {\n",
       "        vertical-align: middle;\n",
       "    }\n",
       "\n",
       "    .dataframe tbody tr th {\n",
       "        vertical-align: top;\n",
       "    }\n",
       "\n",
       "    .dataframe thead th {\n",
       "        text-align: right;\n",
       "    }\n",
       "</style>\n",
       "<table border=\"1\" class=\"dataframe\">\n",
       "  <thead>\n",
       "    <tr style=\"text-align: right;\">\n",
       "      <th></th>\n",
       "      <th>millionare Name</th>\n",
       "    </tr>\n",
       "  </thead>\n",
       "  <tbody>\n",
       "    <tr>\n",
       "      <th>0</th>\n",
       "      <td>Bernard Arnault &amp; family</td>\n",
       "    </tr>\n",
       "    <tr>\n",
       "      <th>1</th>\n",
       "      <td>74</td>\n",
       "    </tr>\n",
       "    <tr>\n",
       "      <th>2</th>\n",
       "      <td>LVMH</td>\n",
       "    </tr>\n",
       "    <tr>\n",
       "      <th>3</th>\n",
       "      <td></td>\n",
       "    </tr>\n",
       "    <tr>\n",
       "      <th>4</th>\n",
       "      <td>Elon Musk</td>\n",
       "    </tr>\n",
       "    <tr>\n",
       "      <th>...</th>\n",
       "      <td>...</td>\n",
       "    </tr>\n",
       "    <tr>\n",
       "      <th>795</th>\n",
       "      <td></td>\n",
       "    </tr>\n",
       "    <tr>\n",
       "      <th>796</th>\n",
       "      <td>Valerie Mars</td>\n",
       "    </tr>\n",
       "    <tr>\n",
       "      <th>797</th>\n",
       "      <td>64</td>\n",
       "    </tr>\n",
       "    <tr>\n",
       "      <th>798</th>\n",
       "      <td>Candy, pet food</td>\n",
       "    </tr>\n",
       "    <tr>\n",
       "      <th>799</th>\n",
       "      <td></td>\n",
       "    </tr>\n",
       "  </tbody>\n",
       "</table>\n",
       "<p>800 rows × 1 columns</p>\n",
       "</div>"
      ],
      "text/plain": [
       "              millionare Name\n",
       "0    Bernard Arnault & family\n",
       "1                          74\n",
       "2                        LVMH\n",
       "3                            \n",
       "4                   Elon Musk\n",
       "..                        ...\n",
       "795                          \n",
       "796              Valerie Mars\n",
       "797                        64\n",
       "798           Candy, pet food\n",
       "799                          \n",
       "\n",
       "[800 rows x 1 columns]"
      ]
     },
     "execution_count": 49,
     "metadata": {},
     "output_type": "execute_result"
    }
   ],
   "source": [
    "df7=pd.DataFrame({'millionare Name':m_name})\n"
   ]
  },
  {
   "cell_type": "code",
   "execution_count": null,
   "id": "a87928e2-f392-4178-a158-10dd2dcef2c9",
   "metadata": {},
   "outputs": [],
   "source": [
    "#note in the above question all the data fields were present in same divisions, so i face problem to extract the data seperately"
   ]
  },
  {
   "cell_type": "markdown",
   "id": "406ab858-a0fd-4464-aa81-7ff4057fa197",
   "metadata": {},
   "source": [
    "Question no 8 solution"
   ]
  },
  {
   "cell_type": "code",
   "execution_count": 126,
   "id": "7f7f5548-952d-47d7-a9b2-5d4b2fafb250",
   "metadata": {},
   "outputs": [],
   "source": [
    "driver8=webdriver.Chrome()\n",
    "driver8.get('https://www.youtube.com/watch?v=ukzFI9rgwfU')\n",
    "time.sleep(3)"
   ]
  },
  {
   "cell_type": "code",
   "execution_count": 38,
   "id": "d5b60265-8b0e-4b30-be43-ed8f784c4f2c",
   "metadata": {},
   "outputs": [],
   "source": []
  },
  {
   "cell_type": "code",
   "execution_count": 152,
   "id": "7ad1be53-ea11-4676-a45a-87f5e71d7b43",
   "metadata": {},
   "outputs": [
    {
     "ename": "TypeError",
     "evalue": "visibility_of_element_located() takes 1 positional argument but 2 were given",
     "output_type": "error",
     "traceback": [
      "\u001b[1;31m---------------------------------------------------------------------------\u001b[0m",
      "\u001b[1;31mTypeError\u001b[0m                                 Traceback (most recent call last)",
      "Cell \u001b[1;32mIn[152], line 6\u001b[0m\n\u001b[0;32m      3\u001b[0m comment_section\u001b[38;5;241m=\u001b[39mdriver8\u001b[38;5;241m.\u001b[39mfind_element(By\u001b[38;5;241m.\u001b[39mXPATH,\u001b[38;5;124m'\u001b[39m\u001b[38;5;124m//*[@id=\u001b[39m\u001b[38;5;124m\"\u001b[39m\u001b[38;5;124mcomments\u001b[39m\u001b[38;5;124m\"\u001b[39m\u001b[38;5;124m]\u001b[39m\u001b[38;5;124m'\u001b[39m)\n\u001b[0;32m      5\u001b[0m \u001b[38;5;28;01mfor\u001b[39;00m i \u001b[38;5;129;01min\u001b[39;00m \u001b[38;5;28mrange\u001b[39m(\u001b[38;5;241m3\u001b[39m):\n\u001b[1;32m----> 6\u001b[0m     wait\u001b[38;5;241m.\u001b[39muntil(\u001b[43mEC\u001b[49m\u001b[38;5;241;43m.\u001b[39;49m\u001b[43mvisibility_of_element_located\u001b[49m\u001b[43m(\u001b[49m\u001b[43mBy\u001b[49m\u001b[38;5;241;43m.\u001b[39;49m\u001b[43mTAG_NAME\u001b[49m\u001b[43m,\u001b[49m\u001b[38;5;124;43m'\u001b[39;49m\u001b[38;5;124;43mbody\u001b[39;49m\u001b[38;5;124;43m'\u001b[39;49m\u001b[43m)\u001b[49m)\u001b[38;5;241m.\u001b[39msend_keys(keys\u001b[38;5;241m.\u001b[39mend)\n\u001b[0;32m      7\u001b[0m     time\u001b[38;5;241m.\u001b[39msleep(\u001b[38;5;241m3\u001b[39m)\n\u001b[0;32m      8\u001b[0m \u001b[38;5;28;01mfor\u001b[39;00m comm \u001b[38;5;129;01min\u001b[39;00m wait\u001b[38;5;241m.\u001b[39muntill(EC\u001b[38;5;241m.\u001b[39mpresence_of_elements_located(By\u001b[38;5;241m.\u001b[39mCSS_SELECTOR,\u001b[38;5;124m'\u001b[39m\u001b[38;5;124m#comment #contient-text\u001b[39m\u001b[38;5;124m'\u001b[39m)):\n",
      "\u001b[1;31mTypeError\u001b[0m: visibility_of_element_located() takes 1 positional argument but 2 were given"
     ]
    }
   ],
   "source": [
    "#fetching comments\n",
    "comment=[]\n",
    "comment_section=driver8.find_element(By.XPATH,'//*[@id=\"comments\"]')\n",
    "\n",
    "for i in range(3):\n",
    "    wait.until(EC.visibility_of_element_located(By.TAG_NAME,'body')).send_keys(keys.end)\n",
    "    time.sleep(3)\n",
    "for comm in wait.untill(EC.presence_of_elements_located(By.CSS_SELECTOR,'#comment #contient-text')):\n",
    "    \n",
    "    comment.append(comm.text)"
   ]
  },
  {
   "cell_type": "code",
   "execution_count": null,
   "id": "df238730-71a1-4bc9-a1e3-4deadcc95457",
   "metadata": {},
   "outputs": [],
   "source": []
  },
  {
   "cell_type": "markdown",
   "id": "8c0c83c4-0b36-4bf5-8b1e-a59cb89704fc",
   "metadata": {},
   "source": [
    "Question No 9 solution"
   ]
  },
  {
   "cell_type": "code",
   "execution_count": 153,
   "id": "6df5fdec-8610-4817-9f85-15458f53f6ad",
   "metadata": {},
   "outputs": [],
   "source": [
    "driver9=webdriver.Chrome()\n",
    "driver9.get('https://www.hostelworld.com/')\n"
   ]
  },
  {
   "cell_type": "code",
   "execution_count": 161,
   "id": "3d9a017b-731e-4018-9cb5-c8c378dcf5d4",
   "metadata": {},
   "outputs": [],
   "source": [
    "#fetching search bar\n",
    "search_bar=driver9.find_element(By.XPATH,'//*[@id=\"__layout\"]/div/div[2]/div[2]/div[2]/div/div/div/div[1]/div[1]/div/div[2]/input')\n",
    "\n",
    "search_bar.send_keys('LONDON')"
   ]
  },
  {
   "cell_type": "code",
   "execution_count": 162,
   "id": "5220664c-fe0b-4c1e-b000-b59275335877",
   "metadata": {},
   "outputs": [],
   "source": [
    "#LOCATION CLICK\n",
    "location=driver9.find_element(By.XPATH,'//*[@id=\"3\"]/button/div[2]')\n",
    "location.click()"
   ]
  },
  {
   "cell_type": "code",
   "execution_count": 164,
   "id": "1d48d4d4-fe2a-4d07-a784-96f5ffd3df9f",
   "metadata": {},
   "outputs": [],
   "source": [
    "btn=driver9.find_element(By.XPATH,'//*[@id=\"__layout\"]/div/div[2]/div[2]/div[2]/div/div/div/div[5]/button[2]')\n",
    "btn.click()\n",
    "time.sleep(3)"
   ]
  },
  {
   "cell_type": "code",
   "execution_count": 168,
   "id": "0c29ed66-1215-4735-9a6a-8be433783456",
   "metadata": {},
   "outputs": [],
   "source": [
    "#fetching hotel names\n",
    "h_name=[]\n",
    "name=driver9.find_elements(By.XPATH,'//div[@class=\"property-info-container\"]/div')\n",
    "for i in name:\n",
    "    h_name.append(i.text)\n",
    "    "
   ]
  },
  {
   "cell_type": "code",
   "execution_count": 171,
   "id": "abeaaa8b-81dd-4808-8457-ed33831383dc",
   "metadata": {},
   "outputs": [],
   "source": [
    "#fetching hotel distance\n",
    "h_dist=[]\n",
    "dist=driver9.find_elements(By.XPATH,'//div[@class=\"property-distance\"]/span[2]')\n",
    "for i in dist:\n",
    "    h_dist.append(i.text)"
   ]
  },
  {
   "cell_type": "code",
   "execution_count": 173,
   "id": "c2951357-b0d3-4b40-a58f-c6fda9e1beec",
   "metadata": {},
   "outputs": [],
   "source": [
    "#fetching hotel rating\n",
    "h_rating=[]\n",
    "rating=driver9.find_elements(By.XPATH,'//div[@class=\"rating-score\"]/span')\n",
    "for i in rating:\n",
    "    h_rating.append(i.text)"
   ]
  },
  {
   "cell_type": "code",
   "execution_count": 174,
   "id": "5d88726a-f342-4d1f-9150-f10ff2ef7e20",
   "metadata": {},
   "outputs": [],
   "source": [
    "#fetching hotel review\n",
    "h_review=[]\n",
    "review=driver9.find_elements(By.XPATH,'//div[@class=\"review\"]/span[1]')\n",
    "for i in review:\n",
    "    h_review.append(i.text)"
   ]
  },
  {
   "cell_type": "code",
   "execution_count": 176,
   "id": "8293abe4-c7e1-4bfa-8d06-9a3ce90ab559",
   "metadata": {},
   "outputs": [],
   "source": [
    "#fetching hotel privates from\n",
    "h_privates=[]\n",
    "privates=driver9.find_elements(By.XPATH,'//div[@class=\"accommodation-price\"]/strong')\n",
    "for i in privates:\n",
    "    h_privates.append(i.text)"
   ]
  },
  {
   "cell_type": "code",
   "execution_count": 178,
   "id": "4ee00a48-0a87-49f9-9e47-c2039ada60c4",
   "metadata": {},
   "outputs": [],
   "source": [
    "#fetching hotel privates from\n",
    "h_privates=[]\n",
    "privates=driver9.find_elements(By.XPATH,'//div[@class=\"accommodation-price\"]/strong')\n",
    "for i in privates:\n",
    "    h_privates.append(i.text)"
   ]
  },
  {
   "cell_type": "code",
   "execution_count": 179,
   "id": "f63435fb-2f96-40be-a888-435a7688ce1f",
   "metadata": {},
   "outputs": [],
   "source": [
    "#import note while solving assignment 3 in during the days i s very sad to say that i lost my mother (mom) and it was very crucial for me to solve all  the questions with keen attention .. and i hope you  will consider that from your end"
   ]
  },
  {
   "cell_type": "code",
   "execution_count": null,
   "id": "94a7575a-3bf7-478c-9704-dee1bba90b2a",
   "metadata": {},
   "outputs": [],
   "source": []
  }
 ],
 "metadata": {
  "kernelspec": {
   "display_name": "Python 3 (ipykernel)",
   "language": "python",
   "name": "python3"
  },
  "language_info": {
   "codemirror_mode": {
    "name": "ipython",
    "version": 3
   },
   "file_extension": ".py",
   "mimetype": "text/x-python",
   "name": "python",
   "nbconvert_exporter": "python",
   "pygments_lexer": "ipython3",
   "version": "3.10.9"
  }
 },
 "nbformat": 4,
 "nbformat_minor": 5
}
