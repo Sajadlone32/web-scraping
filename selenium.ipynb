{
 "cells": [
  {
   "cell_type": "code",
   "execution_count": null,
   "id": "a6f1707a-6f72-4fef-a40a-7ce7bfbdce2b",
   "metadata": {},
   "outputs": [],
   "source": []
  },
  {
   "cell_type": "code",
   "execution_count": 20,
   "id": "27e16f24-800c-4d09-a215-0c240f8770be",
   "metadata": {},
   "outputs": [],
   "source": [
    "from selenium import webdriver\n",
    "import pandas as pd \n",
    "from selenium.webdriver.common.by import By\n",
    "import warnings\n",
    "warnings.filterwarnings('ignore')\n",
    "import time"
   ]
  },
  {
   "cell_type": "code",
   "execution_count": 64,
   "id": "294f885f-883f-4fef-ad2c-ab31a4d309f4",
   "metadata": {},
   "outputs": [],
   "source": [
    "driver=webdriver.Chrome()\n"
   ]
  },
  {
   "cell_type": "code",
   "execution_count": 65,
   "id": "ff30b08c-eca3-440a-97e8-7cec74b3c1d5",
   "metadata": {},
   "outputs": [],
   "source": [
    "#question 1\n",
    "driver.get('https://www.shine.com/')"
   ]
  },
  {
   "cell_type": "code",
   "execution_count": 67,
   "id": "1e336b92-6c11-45b7-b526-cfc5b76ac6d5",
   "metadata": {},
   "outputs": [],
   "source": [
    "desg=driver.find_element(By.XPATH,'//*[@id=\"id_q\"]')\n",
    "desg.send_keys('Data Analyst')"
   ]
  },
  {
   "cell_type": "code",
   "execution_count": 68,
   "id": "03e46896-0e3e-43b8-bab3-1674c2714be8",
   "metadata": {},
   "outputs": [],
   "source": [
    "loc=driver.find_element(By.XPATH,'//*[@id=\"id_loc\"]')\n",
    "loc.send_keys('Bangalore')"
   ]
  },
  {
   "cell_type": "code",
   "execution_count": 72,
   "id": "8e40ccab-e2f0-4a29-9cd9-e9eb6702ca62",
   "metadata": {},
   "outputs": [],
   "source": [
    "btn=driver.find_element(By.XPATH,'//div[@class=\"searchForm_btnWrap_advance__VYBHN\"]/button')\n",
    "btn.click()"
   ]
  },
  {
   "cell_type": "code",
   "execution_count": 73,
   "id": "40f8c228-beb0-4332-b366-702b7286b2f6",
   "metadata": {},
   "outputs": [],
   "source": [
    "job_title=[]\n",
    "job_location=[]\n",
    "job_company=[]\n",
    "\n"
   ]
  },
  {
   "cell_type": "code",
   "execution_count": 84,
   "id": "f82246e4-2ce7-448c-bec6-2b83c12f6911",
   "metadata": {},
   "outputs": [],
   "source": [
    "#job title\n",
    "jtitle=[]\n",
    "title=driver.find_elements(By.XPATH,'//h2[@itemprop=\"name\"]/a')\n",
    "for i in title:\n",
    "    jtitle.append(i.text)\n",
    "    \n",
    "job_title=jtitle[:10]\n"
   ]
  },
  {
   "cell_type": "code",
   "execution_count": 82,
   "id": "50573215-406f-4930-8589-7e5c31e363b5",
   "metadata": {},
   "outputs": [],
   "source": [
    "#job location\n",
    "j_loc=[]\n",
    "jloc=driver.find_elements(By.XPATH,'//DIV[@class=\" jobCard_jobCard_lists_item__YxRkV jobCard_locationIcon__zrWt2\"][1]')\n",
    "for i in jloc:\n",
    "    j_loc.append(i.text)\n",
    "    \n",
    "job_location=j_loc[:10]\n",
    "\n",
    "    "
   ]
  },
  {
   "cell_type": "code",
   "execution_count": 83,
   "id": "8e2f5341-98e7-4726-a435-959a6a744cf2",
   "metadata": {},
   "outputs": [],
   "source": [
    "#job company\n",
    "j_company=[]\n",
    "jcomp=driver.find_elements(By.XPATH,'//div[@class=\"jobCard_jobCard_cName__mYnow\"]/span')\n",
    "for i in jcomp:\n",
    "    j_company.append(i.text)\n",
    "job_company=j_company[:10]\n"
   ]
  },
  {
   "cell_type": "code",
   "execution_count": 95,
   "id": "94c6dd88-1c09-4889-a9ac-43b8fb12f309",
   "metadata": {},
   "outputs": [],
   "source": [
    "#experience required\n",
    "job_experience=[]\n",
    "j_exp=[]\n",
    "jexp=driver.find_elements(By.XPATH,'//div[@class=\" jobCard_jobCard_lists_item__YxRkV jobCard_jobIcon__3FB1t\"]')\n",
    "for i in jexp:\n",
    "    j_exp.append(i.text)\n",
    "    \n",
    "job_experience=j_exp[:10]\n"
   ]
  },
  {
   "cell_type": "code",
   "execution_count": 97,
   "id": "e89b9770-14c3-475f-8a71-ccc77b444209",
   "metadata": {},
   "outputs": [
    {
     "data": {
      "text/html": [
       "<div>\n",
       "<style scoped>\n",
       "    .dataframe tbody tr th:only-of-type {\n",
       "        vertical-align: middle;\n",
       "    }\n",
       "\n",
       "    .dataframe tbody tr th {\n",
       "        vertical-align: top;\n",
       "    }\n",
       "\n",
       "    .dataframe thead th {\n",
       "        text-align: right;\n",
       "    }\n",
       "</style>\n",
       "<table border=\"1\" class=\"dataframe\">\n",
       "  <thead>\n",
       "    <tr style=\"text-align: right;\">\n",
       "      <th></th>\n",
       "      <th>job_title</th>\n",
       "      <th>job_location</th>\n",
       "      <th>company</th>\n",
       "      <th>experience</th>\n",
       "    </tr>\n",
       "  </thead>\n",
       "  <tbody>\n",
       "    <tr>\n",
       "      <th>0</th>\n",
       "      <td>Data Analyst Vacancy</td>\n",
       "      <td>Bangalore\\n+14</td>\n",
       "      <td>divya interprises</td>\n",
       "      <td>0 to 4 Yrs</td>\n",
       "    </tr>\n",
       "    <tr>\n",
       "      <th>1</th>\n",
       "      <td>Data Analyst Vacancy</td>\n",
       "      <td>Bangalore\\n+14</td>\n",
       "      <td>divya interprises</td>\n",
       "      <td>0 to 4 Yrs</td>\n",
       "    </tr>\n",
       "    <tr>\n",
       "      <th>2</th>\n",
       "      <td>Clinical Data Analyst</td>\n",
       "      <td>Bangalore\\n+4</td>\n",
       "      <td>quiscon biotech</td>\n",
       "      <td>0 to 2 Yrs</td>\n",
       "    </tr>\n",
       "    <tr>\n",
       "      <th>3</th>\n",
       "      <td>Data Analyst Urgent Recruitment</td>\n",
       "      <td>Bangalore\\n+14</td>\n",
       "      <td>divya interprises</td>\n",
       "      <td>0 to 4 Yrs</td>\n",
       "    </tr>\n",
       "    <tr>\n",
       "      <th>4</th>\n",
       "      <td>Data Analyst Urgent Recruitment</td>\n",
       "      <td>Bangalore\\n+14</td>\n",
       "      <td>divya interprises</td>\n",
       "      <td>0 to 4 Yrs</td>\n",
       "    </tr>\n",
       "    <tr>\n",
       "      <th>5</th>\n",
       "      <td>Data Analyst Urgent Recruitment</td>\n",
       "      <td>Bangalore\\n+14</td>\n",
       "      <td>divya interprises</td>\n",
       "      <td>0 to 4 Yrs</td>\n",
       "    </tr>\n",
       "    <tr>\n",
       "      <th>6</th>\n",
       "      <td>Data Analyst 1</td>\n",
       "      <td>Bangalore</td>\n",
       "      <td>merck ltd</td>\n",
       "      <td>1 to 3 Yrs</td>\n",
       "    </tr>\n",
       "    <tr>\n",
       "      <th>7</th>\n",
       "      <td>Clinical Data Analyst</td>\n",
       "      <td>Bangalore\\n+6</td>\n",
       "      <td>techno endura</td>\n",
       "      <td>0 to 1 Yr</td>\n",
       "    </tr>\n",
       "    <tr>\n",
       "      <th>8</th>\n",
       "      <td>Hiring For Data Analyst</td>\n",
       "      <td>Bangalore\\n+14</td>\n",
       "      <td>divya interprises</td>\n",
       "      <td>0 to 4 Yrs</td>\n",
       "    </tr>\n",
       "    <tr>\n",
       "      <th>9</th>\n",
       "      <td>Data Analyst</td>\n",
       "      <td>Bangalore\\n+9</td>\n",
       "      <td>v-tech data outsourcing</td>\n",
       "      <td>0 to 2 Yrs</td>\n",
       "    </tr>\n",
       "  </tbody>\n",
       "</table>\n",
       "</div>"
      ],
      "text/plain": [
       "                         job_title    job_location                  company  \\\n",
       "0             Data Analyst Vacancy  Bangalore\\n+14        divya interprises   \n",
       "1             Data Analyst Vacancy  Bangalore\\n+14        divya interprises   \n",
       "2            Clinical Data Analyst   Bangalore\\n+4          quiscon biotech   \n",
       "3  Data Analyst Urgent Recruitment  Bangalore\\n+14        divya interprises   \n",
       "4  Data Analyst Urgent Recruitment  Bangalore\\n+14        divya interprises   \n",
       "5  Data Analyst Urgent Recruitment  Bangalore\\n+14        divya interprises   \n",
       "6                   Data Analyst 1       Bangalore                merck ltd   \n",
       "7            Clinical Data Analyst   Bangalore\\n+6            techno endura   \n",
       "8          Hiring For Data Analyst  Bangalore\\n+14        divya interprises   \n",
       "9                     Data Analyst   Bangalore\\n+9  v-tech data outsourcing   \n",
       "\n",
       "   experience  \n",
       "0  0 to 4 Yrs  \n",
       "1  0 to 4 Yrs  \n",
       "2  0 to 2 Yrs  \n",
       "3  0 to 4 Yrs  \n",
       "4  0 to 4 Yrs  \n",
       "5  0 to 4 Yrs  \n",
       "6  1 to 3 Yrs  \n",
       "7   0 to 1 Yr  \n",
       "8  0 to 4 Yrs  \n",
       "9  0 to 2 Yrs  "
      ]
     },
     "execution_count": 97,
     "metadata": {},
     "output_type": "execute_result"
    }
   ],
   "source": [
    "df=pd.DataFrame({'job_title':job_title,'job_location':job_location,'company':job_company,'experience':job_experience})\n",
    "df"
   ]
  },
  {
   "cell_type": "markdown",
   "id": "0f12422a-3ca7-4634-b84f-f4a1c7e81109",
   "metadata": {},
   "source": [
    "Question no 2 solution"
   ]
  },
  {
   "cell_type": "code",
   "execution_count": 113,
   "id": "b102282e-4021-4f8b-935f-d8a61d737376",
   "metadata": {},
   "outputs": [],
   "source": [
    "driver2=webdriver.Chrome()"
   ]
  },
  {
   "cell_type": "code",
   "execution_count": 114,
   "id": "7bf530ef-5a7c-43ff-92c4-f6d344b7cae5",
   "metadata": {},
   "outputs": [],
   "source": [
    "driver2.get('https://www.shine.com/')"
   ]
  },
  {
   "cell_type": "code",
   "execution_count": 118,
   "id": "c4dc9c7a-ab57-4336-9488-46a6882ee031",
   "metadata": {},
   "outputs": [],
   "source": [
    "#send first key\n",
    "desg2=driver2.find_element(By.XPATH,'//*[@id=\"id_q\"]')\n",
    "desg2.send_keys('Data Scientist')"
   ]
  },
  {
   "cell_type": "code",
   "execution_count": 119,
   "id": "44563634-cbd6-484a-ad51-1acb6304345f",
   "metadata": {},
   "outputs": [],
   "source": [
    "#send location\n",
    "loc2=driver2.find_element(By.XPATH,'//*[@id=\"id_loc\"]')\n",
    "loc2.send_keys('Bangalore')"
   ]
  },
  {
   "cell_type": "code",
   "execution_count": 120,
   "id": "132195f0-de66-47d4-aaf0-6f076d1c5c37",
   "metadata": {},
   "outputs": [],
   "source": [
    "#search click\n",
    "btn2=driver2.find_element(By.XPATH,'//div[@class=\"searchForm_btnWrap_advance__VYBHN\"]/button')\n",
    "btn2.click()"
   ]
  },
  {
   "cell_type": "code",
   "execution_count": 121,
   "id": "9e2ff204-d4e3-4922-9b80-4ad534b12c48",
   "metadata": {},
   "outputs": [],
   "source": [
    "job_title2=[]\n",
    "job_location2=[]\n",
    "job_company2=[]"
   ]
  },
  {
   "cell_type": "code",
   "execution_count": 126,
   "id": "9ae368cd-2a4a-4b7e-b1ec-0723690188cf",
   "metadata": {},
   "outputs": [],
   "source": [
    "#title\n",
    "#job title\n",
    "jtitle=[]\n",
    "title=driver2.find_elements(By.XPATH,'//h2[@itemprop=\"name\"]/a')\n",
    "for i in title:\n",
    "    jtitle.append(i.text)\n",
    "    \n",
    "job_title2=jtitle[:10]\n"
   ]
  },
  {
   "cell_type": "code",
   "execution_count": 129,
   "id": "37bca790-59ce-4f64-b415-c7f4e6c950a0",
   "metadata": {},
   "outputs": [],
   "source": [
    "#job location\n",
    "#job location\n",
    "j_loc=[]\n",
    "jloc=driver2.find_elements(By.XPATH,'//div[@class=\" jobCard_jobCard_lists_item__YxRkV jobCard_locationIcon__zrWt2\"][1]')\n",
    "for i in jloc:\n",
    "    j_loc.append(i.text)\n",
    "    \n",
    "job_location2=j_loc[:10]\n"
   ]
  },
  {
   "cell_type": "code",
   "execution_count": 131,
   "id": "daa7e798-dfd8-480b-b652-1d011940cce3",
   "metadata": {},
   "outputs": [],
   "source": [
    "#company name\n",
    "j_company=[]\n",
    "jcomp=driver2.find_elements(By.XPATH,'//div[@class=\"jobCard_jobCard_cName__mYnow\"]/span')\n",
    "for i in jcomp:\n",
    "    j_company.append(i.text)\n",
    "job_company2=j_company[:10]\n",
    "\n"
   ]
  },
  {
   "cell_type": "code",
   "execution_count": 132,
   "id": "ab149827-e836-47a9-8335-4dde4c92661f",
   "metadata": {},
   "outputs": [
    {
     "data": {
      "text/html": [
       "<div>\n",
       "<style scoped>\n",
       "    .dataframe tbody tr th:only-of-type {\n",
       "        vertical-align: middle;\n",
       "    }\n",
       "\n",
       "    .dataframe tbody tr th {\n",
       "        vertical-align: top;\n",
       "    }\n",
       "\n",
       "    .dataframe thead th {\n",
       "        text-align: right;\n",
       "    }\n",
       "</style>\n",
       "<table border=\"1\" class=\"dataframe\">\n",
       "  <thead>\n",
       "    <tr style=\"text-align: right;\">\n",
       "      <th></th>\n",
       "      <th>job_title</th>\n",
       "      <th>job_location</th>\n",
       "      <th>company</th>\n",
       "    </tr>\n",
       "  </thead>\n",
       "  <tbody>\n",
       "    <tr>\n",
       "      <th>0</th>\n",
       "      <td>Data Scientist Vacancy</td>\n",
       "      <td>Bangalore\\n+14</td>\n",
       "      <td>divya interprises</td>\n",
       "    </tr>\n",
       "    <tr>\n",
       "      <th>1</th>\n",
       "      <td>Data Scientist Urgent Recruitment</td>\n",
       "      <td>Bangalore\\n+14</td>\n",
       "      <td>divya interprises</td>\n",
       "    </tr>\n",
       "    <tr>\n",
       "      <th>2</th>\n",
       "      <td>Data Scientist- Bangalore</td>\n",
       "      <td>Bangalore</td>\n",
       "      <td>the fashion cosmo</td>\n",
       "    </tr>\n",
       "    <tr>\n",
       "      <th>3</th>\n",
       "      <td>Data Scientist AI ML CV</td>\n",
       "      <td>Bangalore</td>\n",
       "      <td>bosch group</td>\n",
       "    </tr>\n",
       "    <tr>\n",
       "      <th>4</th>\n",
       "      <td>Data Scientist AI ML NLP</td>\n",
       "      <td>Bangalore</td>\n",
       "      <td>bosch group</td>\n",
       "    </tr>\n",
       "    <tr>\n",
       "      <th>5</th>\n",
       "      <td>Phd Data Scientist</td>\n",
       "      <td>Bangalore</td>\n",
       "      <td>bosch group</td>\n",
       "    </tr>\n",
       "    <tr>\n",
       "      <th>6</th>\n",
       "      <td>Data Scientist-Bangalore</td>\n",
       "      <td>Bangalore</td>\n",
       "      <td>shiva hr services</td>\n",
       "    </tr>\n",
       "    <tr>\n",
       "      <th>7</th>\n",
       "      <td>Hiring For Data Scientist</td>\n",
       "      <td>Bangalore\\n+14</td>\n",
       "      <td>divya interprises</td>\n",
       "    </tr>\n",
       "    <tr>\n",
       "      <th>8</th>\n",
       "      <td>Data Scientist</td>\n",
       "      <td>Bangalore</td>\n",
       "      <td>racanaa energy solution private lim...</td>\n",
       "    </tr>\n",
       "    <tr>\n",
       "      <th>9</th>\n",
       "      <td>Staff Data Scientist &amp; Team Lead</td>\n",
       "      <td>Bangalore</td>\n",
       "      <td>true caller</td>\n",
       "    </tr>\n",
       "  </tbody>\n",
       "</table>\n",
       "</div>"
      ],
      "text/plain": [
       "                           job_title    job_location  \\\n",
       "0             Data Scientist Vacancy  Bangalore\\n+14   \n",
       "1  Data Scientist Urgent Recruitment  Bangalore\\n+14   \n",
       "2          Data Scientist- Bangalore       Bangalore   \n",
       "3            Data Scientist AI ML CV       Bangalore   \n",
       "4           Data Scientist AI ML NLP       Bangalore   \n",
       "5                 Phd Data Scientist       Bangalore   \n",
       "6           Data Scientist-Bangalore       Bangalore   \n",
       "7          Hiring For Data Scientist  Bangalore\\n+14   \n",
       "8                     Data Scientist       Bangalore   \n",
       "9   Staff Data Scientist & Team Lead       Bangalore   \n",
       "\n",
       "                                  company  \n",
       "0                       divya interprises  \n",
       "1                       divya interprises  \n",
       "2                       the fashion cosmo  \n",
       "3                             bosch group  \n",
       "4                             bosch group  \n",
       "5                             bosch group  \n",
       "6                       shiva hr services  \n",
       "7                       divya interprises  \n",
       "8  racanaa energy solution private lim...  \n",
       "9                             true caller  "
      ]
     },
     "execution_count": 132,
     "metadata": {},
     "output_type": "execute_result"
    }
   ],
   "source": [
    "#data frame question2 \n",
    "df2=pd.DataFrame({'job_title':job_title2,'job_location':job_location2,'company':job_company2})\n",
    "df2"
   ]
  },
  {
   "cell_type": "raw",
   "id": "04859621-0df4-4088-a644-7e07c7c4fe02",
   "metadata": {},
   "source": [
    "question 3 solution"
   ]
  },
  {
   "cell_type": "code",
   "execution_count": 136,
   "id": "0b5252f1-d364-405e-ad4e-fcb1212e3a6f",
   "metadata": {},
   "outputs": [],
   "source": [
    "#\n",
    "driver3=webdriver.Chrome()\n",
    "driver3.get('https://www.shine.com/')\n"
   ]
  },
  {
   "cell_type": "code",
   "execution_count": 141,
   "id": "1a0b2824-71b0-447e-bc78-1972377b4a76",
   "metadata": {},
   "outputs": [],
   "source": [
    "\n",
    "#send first key\n",
    "desg3=driver3.find_element(By.XPATH,'//*[@id=\"id_q\"]')\n",
    "desg3.send_keys('Data Scientist')"
   ]
  },
  {
   "cell_type": "code",
   "execution_count": 143,
   "id": "3ca94604-9fd4-4bdc-a16d-aeaafb4cc604",
   "metadata": {},
   "outputs": [],
   "source": [
    "#send location\n",
    "loc3=driver3.find_element(By.XPATH,'//*[@id=\"id_loc\"]')\n",
    "loc3.send_keys('Bangalore')"
   ]
  },
  {
   "cell_type": "code",
   "execution_count": 144,
   "id": "e7dee552-6036-4a4e-b592-bc47b4f11b99",
   "metadata": {},
   "outputs": [],
   "source": [
    "#search click\n",
    "btn3=driver3.find_element(By.XPATH,'//div[@class=\"searchForm_btnWrap_advance__VYBHN\"]/button')\n",
    "btn3.click()"
   ]
  },
  {
   "cell_type": "code",
   "execution_count": 145,
   "id": "dc9cc788-fa99-489a-ba7f-e012d08779b0",
   "metadata": {},
   "outputs": [],
   "source": [
    "#filter delhi\n",
    "filt=driver3.find_element(By.XPATH,'//*[@id=\"__next\"]/div[1]/div[3]/div/div[1]/div/div[2]/div/ul/li[1]/button')\n",
    "filt.click()"
   ]
  },
  {
   "cell_type": "code",
   "execution_count": 146,
   "id": "1be45893-8717-4fd9-8ce2-edff33f09de6",
   "metadata": {},
   "outputs": [],
   "source": [
    "filt_search=driver3.find_element(By.XPATH,'//*[@id=\"search\"]')\n",
    "filt_search.send_keys('Delhi')"
   ]
  },
  {
   "cell_type": "code",
   "execution_count": 148,
   "id": "d4770d47-e4b0-4762-8af8-c6796369ce07",
   "metadata": {},
   "outputs": [],
   "source": [
    "f_click=driver3.find_element(By.XPATH,'//*[@id=\"__next\"]/div[1]/div[3]/div/div[1]/div/div[2]/div[2]/div/div/div/div[3]/div/div/div/ul/li[2]/span/label')\n",
    "f_click.click()"
   ]
  },
  {
   "cell_type": "code",
   "execution_count": 150,
   "id": "dca93595-0e62-45d1-8b23-4e143ccd897f",
   "metadata": {},
   "outputs": [],
   "source": [
    "search_btn=driver3.find_element(By.XPATH,'//*[@id=\"__next\"]/div[1]/div[3]/div/div[1]/div/div[2]/div[2]/div/div/div/div[4]/button[2]')\n",
    "search_btn.click()"
   ]
  },
  {
   "cell_type": "code",
   "execution_count": 155,
   "id": "3e57efc2-3881-42a0-9be0-21265f367436",
   "metadata": {},
   "outputs": [],
   "source": [
    "#experience filter\n",
    "exp_filt=driver3.find_element(By.XPATH,'//*[@id=\"__next\"]/div[1]/div[3]/div/div[1]/div/div[2]/div/ul/li[2]/button')\n",
    "exp_filt.click()"
   ]
  },
  {
   "cell_type": "code",
   "execution_count": 157,
   "id": "17dde5b4-3c3a-4292-868d-bf5d71f9cc06",
   "metadata": {},
   "outputs": [],
   "source": [
    "#search experience filter\n",
    "search_exp=driver3.find_element(By.XPATH,'//*[@id=\"search\"]')\n",
    "search_exp.send_keys('3 to 5')"
   ]
  },
  {
   "cell_type": "code",
   "execution_count": 158,
   "id": "f3d0d4b5-3b24-468a-9141-cbc0adf424a4",
   "metadata": {},
   "outputs": [],
   "source": [
    "#filter value\n",
    "exp_val=driver3.find_element(By.XPATH,'//*[@id=\"__next\"]/div[1]/div[3]/div/div[1]/div/div[2]/div[2]/div/div/div/div[3]/div/div/div/ul/li[2]/span/label')\n",
    "exp_val.click()"
   ]
  },
  {
   "cell_type": "code",
   "execution_count": 159,
   "id": "ef2c189f-78a4-4a1f-834a-56e5e81acc74",
   "metadata": {},
   "outputs": [],
   "source": [
    "exp_btn=driver3.find_element(By.XPATH,'//*[@id=\"__next\"]/div[1]/div[3]/div/div[1]/div/div[2]/div[2]/div/div/div/div[4]/button[2]')\n",
    "exp_btn.click()"
   ]
  },
  {
   "cell_type": "code",
   "execution_count": 160,
   "id": "6278c75c-3940-484a-8339-aaa0eecd7e20",
   "metadata": {},
   "outputs": [],
   "source": [
    "job_title3=[]\n",
    "job_location3=[]\n",
    "job_company3=[]\n",
    "job_experience3=[]\n"
   ]
  },
  {
   "cell_type": "code",
   "execution_count": 162,
   "id": "4c679fee-5a67-4eb9-98dd-f620ac61ee03",
   "metadata": {},
   "outputs": [],
   "source": [
    "#job title\n",
    "jtitle=[]\n",
    "title=driver3.find_elements(By.XPATH,'//h2[@itemprop=\"name\"]/a')\n",
    "for i in title:\n",
    "    jtitle.append(i.text)\n",
    "    \n",
    "job_title3=jtitle[:10]\n"
   ]
  },
  {
   "cell_type": "code",
   "execution_count": 163,
   "id": "c180fee7-0ca0-4800-bd2b-1ddd2093eb2b",
   "metadata": {},
   "outputs": [],
   "source": [
    "#job location\n",
    "#job location\n",
    "j_loc=[]\n",
    "jloc=driver3.find_elements(By.XPATH,'//div[@class=\" jobCard_jobCard_lists_item__YxRkV jobCard_locationIcon__zrWt2\"][1]')\n",
    "for i in jloc:\n",
    "    j_loc.append(i.text)\n",
    "    \n",
    "job_location3=j_loc[:10]\n"
   ]
  },
  {
   "cell_type": "code",
   "execution_count": 164,
   "id": "4d0fd3b0-5d68-4cad-aede-037f3f26aaeb",
   "metadata": {},
   "outputs": [],
   "source": [
    "#company name\n",
    "j_company=[]\n",
    "jcomp=driver3.find_elements(By.XPATH,'//div[@class=\"jobCard_jobCard_cName__mYnow\"]/span')\n",
    "for i in jcomp:\n",
    "    j_company.append(i.text)\n",
    "job_company3=j_company[:10]\n"
   ]
  },
  {
   "cell_type": "code",
   "execution_count": 171,
   "id": "0b8bbf24-3587-478f-8c62-d35db5c58889",
   "metadata": {},
   "outputs": [
    {
     "data": {
      "text/plain": [
       "['3 to 6 Yrs',\n",
       " '3 to 5 Yrs',\n",
       " '5 to 10 Yrs',\n",
       " '3 to 5 Yrs',\n",
       " '1 to 6 Yrs',\n",
       " '1 to 5 Yrs',\n",
       " '4 to 9 Yrs',\n",
       " '3 to 6 Yrs',\n",
       " '2 to 5 Yrs',\n",
       " '5 to 10 Yrs']"
      ]
     },
     "execution_count": 171,
     "metadata": {},
     "output_type": "execute_result"
    }
   ],
   "source": [
    "#experience required\n",
    "\n",
    "j_exp=[]\n",
    "jexp=driver3.find_elements(By.XPATH,'//div[@class=\" jobCard_jobCard_lists_item__YxRkV jobCard_jobIcon__3FB1t\"]')\n",
    "for i in jexp:\n",
    "    j_exp.append(i.text)\n",
    "    \n",
    "job_experience3=j_exp[:10]\n",
    "job_experience3"
   ]
  },
  {
   "cell_type": "code",
   "execution_count": 172,
   "id": "b8273be6-d1a3-4bbf-b7d6-b2b2c90cf3d0",
   "metadata": {},
   "outputs": [
    {
     "name": "stdout",
     "output_type": "stream",
     "text": [
      "10 10 10 10\n"
     ]
    }
   ],
   "source": [
    "print(len(job_title3),len(job_location3),len(job_company3),len(job_experience3))"
   ]
  },
  {
   "cell_type": "code",
   "execution_count": 174,
   "id": "ea949451-a267-4e34-8009-a5a71c674251",
   "metadata": {},
   "outputs": [
    {
     "data": {
      "text/html": [
       "<div>\n",
       "<style scoped>\n",
       "    .dataframe tbody tr th:only-of-type {\n",
       "        vertical-align: middle;\n",
       "    }\n",
       "\n",
       "    .dataframe tbody tr th {\n",
       "        vertical-align: top;\n",
       "    }\n",
       "\n",
       "    .dataframe thead th {\n",
       "        text-align: right;\n",
       "    }\n",
       "</style>\n",
       "<table border=\"1\" class=\"dataframe\">\n",
       "  <thead>\n",
       "    <tr style=\"text-align: right;\">\n",
       "      <th></th>\n",
       "      <th>job title</th>\n",
       "      <th>locatio</th>\n",
       "      <th>company</th>\n",
       "      <th>experience</th>\n",
       "    </tr>\n",
       "  </thead>\n",
       "  <tbody>\n",
       "    <tr>\n",
       "      <th>0</th>\n",
       "      <td>Data Scientist</td>\n",
       "      <td>Delhi\\n+6</td>\n",
       "      <td>mnr solutions pvt ltd</td>\n",
       "      <td>3 to 6 Yrs</td>\n",
       "    </tr>\n",
       "    <tr>\n",
       "      <th>1</th>\n",
       "      <td>Data Scientist</td>\n",
       "      <td>Delhi\\n+4</td>\n",
       "      <td>acme services private limited</td>\n",
       "      <td>3 to 5 Yrs</td>\n",
       "    </tr>\n",
       "    <tr>\n",
       "      <th>2</th>\n",
       "      <td>Senior Data Scientist</td>\n",
       "      <td>Delhi\\n+7</td>\n",
       "      <td>nustar technologies india private l...</td>\n",
       "      <td>5 to 10 Yrs</td>\n",
       "    </tr>\n",
       "    <tr>\n",
       "      <th>3</th>\n",
       "      <td>Data Scientist</td>\n",
       "      <td>Delhi\\n+4</td>\n",
       "      <td>acme services private limited</td>\n",
       "      <td>3 to 5 Yrs</td>\n",
       "    </tr>\n",
       "    <tr>\n",
       "      <th>4</th>\n",
       "      <td>Biostatistician</td>\n",
       "      <td>Delhi\\n+17</td>\n",
       "      <td>national seeds corporation limited</td>\n",
       "      <td>1 to 6 Yrs</td>\n",
       "    </tr>\n",
       "    <tr>\n",
       "      <th>5</th>\n",
       "      <td>Remote _Data Entry Specialists</td>\n",
       "      <td>Delhi\\n+6</td>\n",
       "      <td>mnr solutions pvt ltd</td>\n",
       "      <td>1 to 5 Yrs</td>\n",
       "    </tr>\n",
       "    <tr>\n",
       "      <th>6</th>\n",
       "      <td>Technical Data Analyst</td>\n",
       "      <td>Delhi\\n+9</td>\n",
       "      <td>krishna consultancy.. hiring for co...</td>\n",
       "      <td>4 to 9 Yrs</td>\n",
       "    </tr>\n",
       "    <tr>\n",
       "      <th>7</th>\n",
       "      <td>Data Engineer</td>\n",
       "      <td>Delhi\\n+8</td>\n",
       "      <td>nina s hr consultancy</td>\n",
       "      <td>3 to 6 Yrs</td>\n",
       "    </tr>\n",
       "    <tr>\n",
       "      <th>8</th>\n",
       "      <td>Hiring For Data Analyst</td>\n",
       "      <td>Delhi\\n+8</td>\n",
       "      <td>harjai computers private limited</td>\n",
       "      <td>2 to 5 Yrs</td>\n",
       "    </tr>\n",
       "    <tr>\n",
       "      <th>9</th>\n",
       "      <td>Senior Data Engineer</td>\n",
       "      <td>Delhi\\n+9</td>\n",
       "      <td>recruiter wings consultancy llp hir...</td>\n",
       "      <td>5 to 10 Yrs</td>\n",
       "    </tr>\n",
       "  </tbody>\n",
       "</table>\n",
       "</div>"
      ],
      "text/plain": [
       "                        job title     locatio  \\\n",
       "0                  Data Scientist   Delhi\\n+6   \n",
       "1                  Data Scientist   Delhi\\n+4   \n",
       "2           Senior Data Scientist   Delhi\\n+7   \n",
       "3                  Data Scientist   Delhi\\n+4   \n",
       "4                 Biostatistician  Delhi\\n+17   \n",
       "5  Remote _Data Entry Specialists   Delhi\\n+6   \n",
       "6          Technical Data Analyst   Delhi\\n+9   \n",
       "7                   Data Engineer   Delhi\\n+8   \n",
       "8         Hiring For Data Analyst   Delhi\\n+8   \n",
       "9            Senior Data Engineer   Delhi\\n+9   \n",
       "\n",
       "                                  company   experience  \n",
       "0                   mnr solutions pvt ltd   3 to 6 Yrs  \n",
       "1           acme services private limited   3 to 5 Yrs  \n",
       "2  nustar technologies india private l...  5 to 10 Yrs  \n",
       "3           acme services private limited   3 to 5 Yrs  \n",
       "4      national seeds corporation limited   1 to 6 Yrs  \n",
       "5                   mnr solutions pvt ltd   1 to 5 Yrs  \n",
       "6  krishna consultancy.. hiring for co...   4 to 9 Yrs  \n",
       "7                   nina s hr consultancy   3 to 6 Yrs  \n",
       "8        harjai computers private limited   2 to 5 Yrs  \n",
       "9  recruiter wings consultancy llp hir...  5 to 10 Yrs  "
      ]
     },
     "execution_count": 174,
     "metadata": {},
     "output_type": "execute_result"
    }
   ],
   "source": [
    "#data frame\n",
    "df3=pd.DataFrame({'job title':job_title3,'locatio':job_location3,'company':job_company3,'experience':job_experience3})\n",
    "df3"
   ]
  },
  {
   "cell_type": "raw",
   "id": "86106a3f-0170-44c0-9bf7-08f14776c787",
   "metadata": {},
   "source": [
    "Question 4 solution"
   ]
  },
  {
   "cell_type": "code",
   "execution_count": 258,
   "id": "8999738f-e001-42b2-958d-70d13d263410",
   "metadata": {},
   "outputs": [],
   "source": [
    "driver4=webdriver.Chrome()\n",
    "driver4.get('https://www.flipkart.com/')"
   ]
  },
  {
   "cell_type": "code",
   "execution_count": 262,
   "id": "fec73907-2872-4156-b855-4e3bfbe1608f",
   "metadata": {},
   "outputs": [],
   "source": [
    "search_bar=driver4.find_element(By.XPATH,'//*[@id=\"container\"]/div/div[1]/div/div/div/div/div[1]/div/div[1]/div/div[1]/header/div[1]/div[2]/form/div/div/input')\n",
    "search_bar.send_keys('sunglasses')\n"
   ]
  },
  {
   "cell_type": "code",
   "execution_count": 263,
   "id": "9f2d25d2-4fbd-4d03-9b27-8a084d3f2057",
   "metadata": {},
   "outputs": [],
   "source": [
    "s_btn=driver4.find_element(By.XPATH,'//*[@id=\"container\"]/div/div[1]/div/div/div/div/div[1]/div/div[1]/div/div[1]/header/div[1]/div[2]/form/div/button')\n",
    "s_btn.click()"
   ]
  },
  {
   "cell_type": "code",
   "execution_count": 238,
   "id": "88b01897-40b2-4d13-851d-3c62888d3488",
   "metadata": {},
   "outputs": [],
   "source": [
    "brand=[]\n",
    "description=[]\n",
    "price=[]"
   ]
  },
  {
   "cell_type": "code",
   "execution_count": 239,
   "id": "8efe0ee1-741d-4f48-a185-d2a4620ab89c",
   "metadata": {},
   "outputs": [],
   "source": [
    "#brand fetch\n",
    "b=[]\n",
    "start=0\n",
    "end=3\n",
    "for page in range(start,end):\n",
    "    brand=driver4.find_elements(By.XPATH,'//div[@class=\"_2WkVRV\"]')\n",
    "    for i in brand:\n",
    "        b.append(i.text)\n",
    "        \n",
    "    next_button=driver4.find_element(By.XPATH,'//a[@class=\"_1LKTO3\"]/span')\n",
    "    next_button.click()\n",
    "    time.sleep(3)\n",
    "    \n",
    "brand=b[:100]\n"
   ]
  },
  {
   "cell_type": "code",
   "execution_count": 240,
   "id": "773a5b30-7ea7-4994-ab51-31bb17a7c9c0",
   "metadata": {},
   "outputs": [
    {
     "name": "stdout",
     "output_type": "stream",
     "text": [
      "100\n"
     ]
    }
   ],
   "source": [
    "print(len(brand))"
   ]
  },
  {
   "cell_type": "code",
   "execution_count": 247,
   "id": "cb79b728-b6bf-44bd-a984-ec5316af6009",
   "metadata": {},
   "outputs": [],
   "source": [
    "#description fetching\n",
    "d=[]\n",
    "start=0\n",
    "end=3\n",
    "for page in range(start,end):\n",
    "    desc=driver4.find_elements(By.XPATH,'//a[@class=\"IRpwTa\"]')\n",
    "    for i in desc:\n",
    "        d.append(i.text)\n",
    "        \n",
    "    next_button=driver4.find_element(By.XPATH,'//a[@class=\"_1LKTO3\"]/span')\n",
    "    next_button.click()\n",
    "           \n",
    "    time.sleep(3)\n",
    "    \n",
    "description=d[:100]\n",
    "   "
   ]
  },
  {
   "cell_type": "code",
   "execution_count": 251,
   "id": "42f72123-2917-40ee-8666-a8cfc30b7e95",
   "metadata": {},
   "outputs": [
    {
     "name": "stdout",
     "output_type": "stream",
     "text": [
      "100\n"
     ]
    }
   ],
   "source": [
    "print(len(description))\n"
   ]
  },
  {
   "cell_type": "code",
   "execution_count": 252,
   "id": "8f28925b-e080-4dba-9ce4-18000e8736fc",
   "metadata": {},
   "outputs": [],
   "source": [
    "#price fetching\n",
    "p=[]\n",
    "start=0\n",
    "end=3\n",
    "for page in range(start,end):\n",
    "    pr=driver4.find_elements(By.XPATH,'//div[@class=\"_25b18c\"]/div[1]')\n",
    "    for i in pr:\n",
    "        p.append(i.text)\n",
    "        \n",
    "    next_button=driver4.find_element(By.XPATH,'//a[@class=\"_1LKTO3\"]/span')\n",
    "    next_button.click()\n",
    "           \n",
    "    time.sleep(3)\n",
    "    \n",
    "price=p[:100]"
   ]
  },
  {
   "cell_type": "code",
   "execution_count": 254,
   "id": "a64de22d-1e63-4d3c-8332-43078f399f15",
   "metadata": {},
   "outputs": [
    {
     "name": "stdout",
     "output_type": "stream",
     "text": [
      "100\n"
     ]
    }
   ],
   "source": [
    "print(len(price))"
   ]
  },
  {
   "cell_type": "code",
   "execution_count": 257,
   "id": "e0da4c6a-d031-4ad7-a49e-16d1c6db1cee",
   "metadata": {},
   "outputs": [
    {
     "data": {
      "text/html": [
       "<div>\n",
       "<style scoped>\n",
       "    .dataframe tbody tr th:only-of-type {\n",
       "        vertical-align: middle;\n",
       "    }\n",
       "\n",
       "    .dataframe tbody tr th {\n",
       "        vertical-align: top;\n",
       "    }\n",
       "\n",
       "    .dataframe thead th {\n",
       "        text-align: right;\n",
       "    }\n",
       "</style>\n",
       "<table border=\"1\" class=\"dataframe\">\n",
       "  <thead>\n",
       "    <tr style=\"text-align: right;\">\n",
       "      <th></th>\n",
       "      <th>Brand</th>\n",
       "      <th>Description</th>\n",
       "      <th>price</th>\n",
       "    </tr>\n",
       "  </thead>\n",
       "  <tbody>\n",
       "    <tr>\n",
       "      <th>0</th>\n",
       "      <td>iCopertina</td>\n",
       "      <td>Polarized, UV Protection Retro Square Sunglass...</td>\n",
       "      <td>₹187</td>\n",
       "    </tr>\n",
       "    <tr>\n",
       "      <th>1</th>\n",
       "      <td>ROYAL SON</td>\n",
       "      <td>UV Protection Over-sized, Retro Square Sunglas...</td>\n",
       "      <td>₹339</td>\n",
       "    </tr>\n",
       "    <tr>\n",
       "      <th>2</th>\n",
       "      <td>Fastrack</td>\n",
       "      <td>UV Protection Wayfarer Sunglasses (59)</td>\n",
       "      <td>₹549</td>\n",
       "    </tr>\n",
       "    <tr>\n",
       "      <th>3</th>\n",
       "      <td>SRPM</td>\n",
       "      <td>UV Protection Spectacle Sunglasses (Free Size)</td>\n",
       "      <td>₹149</td>\n",
       "    </tr>\n",
       "    <tr>\n",
       "      <th>4</th>\n",
       "      <td>iCopertina</td>\n",
       "      <td>UV Protection Retro Square Sunglasses (54)</td>\n",
       "      <td>₹199</td>\n",
       "    </tr>\n",
       "    <tr>\n",
       "      <th>...</th>\n",
       "      <td>...</td>\n",
       "      <td>...</td>\n",
       "      <td>...</td>\n",
       "    </tr>\n",
       "    <tr>\n",
       "      <th>95</th>\n",
       "      <td>PIRASO</td>\n",
       "      <td>Polarized, UV Protection Round Sunglasses (51)</td>\n",
       "      <td>₹449</td>\n",
       "    </tr>\n",
       "    <tr>\n",
       "      <th>96</th>\n",
       "      <td>Eyewearlabs</td>\n",
       "      <td>UV Protection Retro Square Sunglasses (Free Size)</td>\n",
       "      <td>₹399</td>\n",
       "    </tr>\n",
       "    <tr>\n",
       "      <th>97</th>\n",
       "      <td>iCopertina</td>\n",
       "      <td>Gradient Aviator Sunglasses (58)</td>\n",
       "      <td>₹799</td>\n",
       "    </tr>\n",
       "    <tr>\n",
       "      <th>98</th>\n",
       "      <td>Eyenaks</td>\n",
       "      <td>UV Protection Rectangular Sunglasses (52)</td>\n",
       "      <td>₹254</td>\n",
       "    </tr>\n",
       "    <tr>\n",
       "      <th>99</th>\n",
       "      <td>ROADWAY</td>\n",
       "      <td>UV Protection Cat-eye Sunglasses (56)</td>\n",
       "      <td>₹79</td>\n",
       "    </tr>\n",
       "  </tbody>\n",
       "</table>\n",
       "<p>100 rows × 3 columns</p>\n",
       "</div>"
      ],
      "text/plain": [
       "          Brand                                        Description price\n",
       "0    iCopertina  Polarized, UV Protection Retro Square Sunglass...  ₹187\n",
       "1     ROYAL SON  UV Protection Over-sized, Retro Square Sunglas...  ₹339\n",
       "2      Fastrack             UV Protection Wayfarer Sunglasses (59)  ₹549\n",
       "3          SRPM     UV Protection Spectacle Sunglasses (Free Size)  ₹149\n",
       "4    iCopertina         UV Protection Retro Square Sunglasses (54)  ₹199\n",
       "..          ...                                                ...   ...\n",
       "95       PIRASO     Polarized, UV Protection Round Sunglasses (51)  ₹449\n",
       "96  Eyewearlabs  UV Protection Retro Square Sunglasses (Free Size)  ₹399\n",
       "97   iCopertina                   Gradient Aviator Sunglasses (58)  ₹799\n",
       "98      Eyenaks          UV Protection Rectangular Sunglasses (52)  ₹254\n",
       "99      ROADWAY              UV Protection Cat-eye Sunglasses (56)   ₹79\n",
       "\n",
       "[100 rows x 3 columns]"
      ]
     },
     "execution_count": 257,
     "metadata": {},
     "output_type": "execute_result"
    }
   ],
   "source": [
    "#dara frame of sunglesses\n",
    "df4=pd.DataFrame({'Brand':brand,'Description':description,'price':price})\n",
    "df4"
   ]
  },
  {
   "cell_type": "raw",
   "id": "435f2302-e4a5-4cbc-9e4f-5adb334155f5",
   "metadata": {},
   "source": [
    "Question 5 solution"
   ]
  },
  {
   "cell_type": "code",
   "execution_count": 309,
   "id": "0e1c364f-2964-4b87-b167-13a9f1a6f011",
   "metadata": {},
   "outputs": [],
   "source": [
    "driver5=webdriver.Chrome()\n",
    "driver5.get('https://www.flipkart.com/apple-iphone-11-black-64-gb/product-reviews/itm4e5041ba101fd?pid=MOBFWQ6BXGJCEYNY&lid=LSTMOBFWQ6BXGJCEYNYIJLDFV&marketplace=FLIPKART')"
   ]
  },
  {
   "cell_type": "code",
   "execution_count": 310,
   "id": "1e84640a-99bd-4bed-b0fd-fdecfaaf7807",
   "metadata": {},
   "outputs": [],
   "source": [
    "rating=[]\n",
    "summary=[]\n",
    "review=[]\n",
    "\n"
   ]
  },
  {
   "cell_type": "code",
   "execution_count": 369,
   "id": "fb87cc9d-84a9-4119-9a90-4f09cefbd838",
   "metadata": {},
   "outputs": [],
   "source": [
    "#rating fetching \n",
    "rate=[]\n",
    "start=0\n",
    "end=10\n",
    "for page in range(start,end):\n",
    "    rev=driver5.find_elements(By.XPATH,'//div[@class=\"_3LWZlK _1BLPMq\"][1]')\n",
    "    for i in rev:\n",
    "        rate.append(i.text)\n",
    "        \n",
    "    next_btn=driver5.find_element(By.CLASS_NAME,'_1LKTO3')\n",
    "    next_btn.click()\n",
    "    time.sleep(3)\n",
    "        \n",
    "rating=rate[:100]"
   ]
  },
  {
   "cell_type": "code",
   "execution_count": 368,
   "id": "d131c37e-f0af-48fb-a1a9-e71024b05179",
   "metadata": {},
   "outputs": [],
   "source": [
    "#fetching review summary\n",
    "sum=[]\n",
    "start=0\n",
    "end=10\n",
    "for page in range(start,end):\n",
    "    s=driver5.find_elements(By.CLASS_NAME,'_2-N8zT')\n",
    "    for i in s:\n",
    "        sum.append(i.text)\n",
    "        \n",
    "    next_btn=driver5.find_element(By.CLASS_NAME,'_1LKTO3')\n",
    "    next_btn.click()\n",
    "    time.sleep(3)\n",
    "        \n",
    "summary=sum[:100]"
   ]
  },
  {
   "cell_type": "code",
   "execution_count": 342,
   "id": "d2e4cef6-2a1c-4d3c-b322-a4db673e8d50",
   "metadata": {},
   "outputs": [],
   "source": [
    "#full review\n",
    "rev=[]\n",
    "start=0\n",
    "end=10\n",
    "for page in range(start,end):\n",
    "    r=driver5.find_elements(By.XPATH,'//div[@class=\"t-ZTKy\"]/div/div')\n",
    "    for i in r:\n",
    "        rev.append(i.text)\n",
    "        \n",
    "    next_btn=driver5.find_element(By.CLASS_NAME,'_1LKTO3')\n",
    "    next_btn.click()\n",
    "    time.sleep(3)\n",
    "        \n",
    "review=rev[:100]"
   ]
  },
  {
   "cell_type": "code",
   "execution_count": 364,
   "id": "5595cf98-e637-4684-98e2-49ea734c6bf6",
   "metadata": {},
   "outputs": [
    {
     "name": "stdout",
     "output_type": "stream",
     "text": [
      "100 93 100\n"
     ]
    }
   ],
   "source": [
    "print(len(rating),len(summary),len(review))"
   ]
  },
  {
   "cell_type": "code",
   "execution_count": 371,
   "id": "41e915db-0b96-42cd-a058-b1014526ab82",
   "metadata": {},
   "outputs": [],
   "source": [
    "#DATA FRAME\n",
    "df5=pd.DataFrame({'rating':rating,'summary':summary,'review':review})"
   ]
  },
  {
   "cell_type": "code",
   "execution_count": 372,
   "id": "2447ed03-1a30-49ad-baf8-edd9cfff851f",
   "metadata": {},
   "outputs": [
    {
     "data": {
      "text/html": [
       "<div>\n",
       "<style scoped>\n",
       "    .dataframe tbody tr th:only-of-type {\n",
       "        vertical-align: middle;\n",
       "    }\n",
       "\n",
       "    .dataframe tbody tr th {\n",
       "        vertical-align: top;\n",
       "    }\n",
       "\n",
       "    .dataframe thead th {\n",
       "        text-align: right;\n",
       "    }\n",
       "</style>\n",
       "<table border=\"1\" class=\"dataframe\">\n",
       "  <thead>\n",
       "    <tr style=\"text-align: right;\">\n",
       "      <th></th>\n",
       "      <th>rating</th>\n",
       "      <th>summary</th>\n",
       "      <th>review</th>\n",
       "    </tr>\n",
       "  </thead>\n",
       "  <tbody>\n",
       "    <tr>\n",
       "      <th>0</th>\n",
       "      <td>5</td>\n",
       "      <td>Highly recommended</td>\n",
       "      <td>Awesome Battery Life...Camera clarity is too g...</td>\n",
       "    </tr>\n",
       "    <tr>\n",
       "      <th>1</th>\n",
       "      <td>5</td>\n",
       "      <td>Perfect product!</td>\n",
       "      <td>Photos super</td>\n",
       "    </tr>\n",
       "    <tr>\n",
       "      <th>2</th>\n",
       "      <td>5</td>\n",
       "      <td>Terrific purchase</td>\n",
       "      <td>Value for money 😍</td>\n",
       "    </tr>\n",
       "    <tr>\n",
       "      <th>3</th>\n",
       "      <td>5</td>\n",
       "      <td>Worth every penny</td>\n",
       "      <td>Feeling awesome after getting the delivery of ...</td>\n",
       "    </tr>\n",
       "    <tr>\n",
       "      <th>4</th>\n",
       "      <td>5</td>\n",
       "      <td>Best in the market!</td>\n",
       "      <td>Good Camera</td>\n",
       "    </tr>\n",
       "    <tr>\n",
       "      <th>...</th>\n",
       "      <td>...</td>\n",
       "      <td>...</td>\n",
       "      <td>...</td>\n",
       "    </tr>\n",
       "    <tr>\n",
       "      <th>95</th>\n",
       "      <td>4</td>\n",
       "      <td>Good quality product</td>\n",
       "      <td>Awesome</td>\n",
       "    </tr>\n",
       "    <tr>\n",
       "      <th>96</th>\n",
       "      <td>5</td>\n",
       "      <td>Brilliant</td>\n",
       "      <td>very good camera quality</td>\n",
       "    </tr>\n",
       "    <tr>\n",
       "      <th>97</th>\n",
       "      <td>5</td>\n",
       "      <td>Terrific purchase</td>\n",
       "      <td>Value for money 🖤🖤</td>\n",
       "    </tr>\n",
       "    <tr>\n",
       "      <th>98</th>\n",
       "      <td>5</td>\n",
       "      <td>Fabulous!</td>\n",
       "      <td>It’s very good battery life and display and vi...</td>\n",
       "    </tr>\n",
       "    <tr>\n",
       "      <th>99</th>\n",
       "      <td>5</td>\n",
       "      <td>Great product</td>\n",
       "      <td>Purple is best</td>\n",
       "    </tr>\n",
       "  </tbody>\n",
       "</table>\n",
       "<p>100 rows × 3 columns</p>\n",
       "</div>"
      ],
      "text/plain": [
       "   rating               summary  \\\n",
       "0       5    Highly recommended   \n",
       "1       5      Perfect product!   \n",
       "2       5     Terrific purchase   \n",
       "3       5     Worth every penny   \n",
       "4       5   Best in the market!   \n",
       "..    ...                   ...   \n",
       "95      4  Good quality product   \n",
       "96      5             Brilliant   \n",
       "97      5     Terrific purchase   \n",
       "98      5             Fabulous!   \n",
       "99      5         Great product   \n",
       "\n",
       "                                               review  \n",
       "0   Awesome Battery Life...Camera clarity is too g...  \n",
       "1                                        Photos super  \n",
       "2                                   Value for money 😍  \n",
       "3   Feeling awesome after getting the delivery of ...  \n",
       "4                                         Good Camera  \n",
       "..                                                ...  \n",
       "95                                            Awesome  \n",
       "96                           very good camera quality  \n",
       "97                                 Value for money 🖤🖤  \n",
       "98  It’s very good battery life and display and vi...  \n",
       "99                                     Purple is best  \n",
       "\n",
       "[100 rows x 3 columns]"
      ]
     },
     "execution_count": 372,
     "metadata": {},
     "output_type": "execute_result"
    }
   ],
   "source": [
    "df5"
   ]
  },
  {
   "cell_type": "markdown",
   "id": "10033c27-5a9c-46c2-afa8-c16070923a8d",
   "metadata": {},
   "source": [
    "Question 6 solution\n"
   ]
  },
  {
   "cell_type": "code",
   "execution_count": 373,
   "id": "ee2c5d0b-228a-4587-8dec-136ce48ec5b3",
   "metadata": {},
   "outputs": [],
   "source": [
    "driver6=webdriver.Chrome()"
   ]
  },
  {
   "cell_type": "code",
   "execution_count": 388,
   "id": "4a85f8cc-30f4-417d-824e-0686660bc1a9",
   "metadata": {},
   "outputs": [],
   "source": [
    "driver6.get('https://www.flipkart.com/')"
   ]
  },
  {
   "cell_type": "code",
   "execution_count": 389,
   "id": "e0239a52-44e8-445a-8208-da6524515167",
   "metadata": {},
   "outputs": [],
   "source": [
    "search=driver6.find_element(By.CLASS_NAME,'Pke_EE')\n",
    "search.send_keys('sneakers')\n"
   ]
  },
  {
   "cell_type": "code",
   "execution_count": null,
   "id": "47582f21-c339-4d67-a64d-5ef9ec5804fe",
   "metadata": {},
   "outputs": [],
   "source": []
  },
  {
   "cell_type": "code",
   "execution_count": 392,
   "id": "ea3ff759-89d0-4872-8747-b6f8eb1dca55",
   "metadata": {},
   "outputs": [],
   "source": [
    "btn=driver6.find_element(By.CLASS_NAME,'_2iLD__')\n",
    "btn.click()"
   ]
  },
  {
   "cell_type": "code",
   "execution_count": 393,
   "id": "7a25e7c2-6e3a-4818-869b-46a4122e7bfb",
   "metadata": {},
   "outputs": [],
   "source": [
    "brand=[]\n",
    "description=[]\n",
    "price=[]\n"
   ]
  },
  {
   "cell_type": "code",
   "execution_count": 412,
   "id": "7bab608f-9c9b-4eca-bfa7-da15b3800e83",
   "metadata": {},
   "outputs": [],
   "source": [
    "#fetching brand\n",
    "brn=[]\n",
    "start=0\n",
    "end=3\n",
    "for page in range(start,end):\n",
    "    brnd=driver6.find_elements(By.CLASS_NAME,'_2WkVRV')\n",
    "    for i in brnd:\n",
    "        brn.append(i.text)\n",
    "        \n",
    "    next_btn=driver6.find_element(By.XPATH,'//*[@id=\"container\"]/div/div[3]/div[1]/div[2]/div[12]/div/div/nav/a[11]')\n",
    "    next_btn.click()\n",
    "    time.sleep(3)\n",
    "        \n",
    "brand=brn[:100]"
   ]
  },
  {
   "cell_type": "code",
   "execution_count": 413,
   "id": "8fe88c3a-c517-4f78-93f3-aa5bceaba2ad",
   "metadata": {},
   "outputs": [
    {
     "name": "stdout",
     "output_type": "stream",
     "text": [
      "100\n"
     ]
    }
   ],
   "source": [
    "print(len(brand))"
   ]
  },
  {
   "cell_type": "code",
   "execution_count": null,
   "id": "b43a9510-df95-43a0-8124-11f65ad4d22e",
   "metadata": {},
   "outputs": [],
   "source": [
    "#fetching product description\n",
    "dsc=[]\n",
    "start=0\n",
    "end=3\n",
    "for page in range(start,end):\n",
    "    des=driver6.find_elements(By.CLASS_NAME,'IRpwTa')\n",
    "    for i in des:\n",
    "        dsc.append(i.text)\n",
    "        \n",
    "    next_btn=driver6.find_element(By.XPATH,'//*[@id=\"container\"]/div/div[3]/div[1]/div[2]/div[12]/div/div/nav/a[11]')\n",
    "    next_btn.click()\n",
    "    time.sleep(3)\n",
    "        \n",
    "description=dsc[:100]"
   ]
  },
  {
   "cell_type": "code",
   "execution_count": 416,
   "id": "29b8634b-3b06-458a-9161-69279ae50154",
   "metadata": {},
   "outputs": [],
   "source": [
    "#price fetching\n",
    "\n",
    "pr=[]\n",
    "start=0\n",
    "end=3\n",
    "for page in range(start,end):\n",
    "    prc=driver6.find_elements(By.CLASS_NAME,'_30jeq3')\n",
    "    for i in prc:\n",
    "        pr.append(i.text)\n",
    "        \n",
    "    next_btn=driver6.find_element(By.XPATH,'//*[@id=\"container\"]/div/div[3]/div[1]/div[2]/div[12]/div/div/nav/a[11]')\n",
    "    next_btn.click()\n",
    "    time.sleep(3)\n",
    "        \n",
    "price=pr[:100]"
   ]
  },
  {
   "cell_type": "code",
   "execution_count": 417,
   "id": "23b89460-6e20-4faa-9b91-cf6ab916a4f3",
   "metadata": {},
   "outputs": [],
   "source": [
    "df6=pd.DataFrame({'Brand':brand,'Description':description,'price':price})"
   ]
  },
  {
   "cell_type": "code",
   "execution_count": 418,
   "id": "17097835-5d31-4d01-b526-db39f5fc74e5",
   "metadata": {},
   "outputs": [
    {
     "data": {
      "text/html": [
       "<div>\n",
       "<style scoped>\n",
       "    .dataframe tbody tr th:only-of-type {\n",
       "        vertical-align: middle;\n",
       "    }\n",
       "\n",
       "    .dataframe tbody tr th {\n",
       "        vertical-align: top;\n",
       "    }\n",
       "\n",
       "    .dataframe thead th {\n",
       "        text-align: right;\n",
       "    }\n",
       "</style>\n",
       "<table border=\"1\" class=\"dataframe\">\n",
       "  <thead>\n",
       "    <tr style=\"text-align: right;\">\n",
       "      <th></th>\n",
       "      <th>Brand</th>\n",
       "      <th>Description</th>\n",
       "      <th>price</th>\n",
       "    </tr>\n",
       "  </thead>\n",
       "  <tbody>\n",
       "    <tr>\n",
       "      <th>0</th>\n",
       "      <td>BRUTON</td>\n",
       "      <td>Combo Pack Of 2 Men’s Casual Shoes Sneakers Fo...</td>\n",
       "      <td>₹497</td>\n",
       "    </tr>\n",
       "    <tr>\n",
       "      <th>1</th>\n",
       "      <td>BRUTON</td>\n",
       "      <td>Combo Pack Of 2 Casual Shoes Sneakers For Men</td>\n",
       "      <td>₹497</td>\n",
       "    </tr>\n",
       "    <tr>\n",
       "      <th>2</th>\n",
       "      <td>El Paso</td>\n",
       "      <td>EL PASO Men's White Faux Leather Casual Lace U...</td>\n",
       "      <td>₹764</td>\n",
       "    </tr>\n",
       "    <tr>\n",
       "      <th>3</th>\n",
       "      <td>PUMA</td>\n",
       "      <td>RS-X Efekt Speckle Sneakers For Men</td>\n",
       "      <td>₹4,949</td>\n",
       "    </tr>\n",
       "    <tr>\n",
       "      <th>4</th>\n",
       "      <td>PUMA</td>\n",
       "      <td>Graviton Pro Sneakers For Men</td>\n",
       "      <td>₹3,499</td>\n",
       "    </tr>\n",
       "    <tr>\n",
       "      <th>...</th>\n",
       "      <td>...</td>\n",
       "      <td>...</td>\n",
       "      <td>...</td>\n",
       "    </tr>\n",
       "    <tr>\n",
       "      <th>95</th>\n",
       "      <td>PUMA</td>\n",
       "      <td>Trinity Sneakers For Men</td>\n",
       "      <td>₹1,099</td>\n",
       "    </tr>\n",
       "    <tr>\n",
       "      <th>96</th>\n",
       "      <td>lejano</td>\n",
       "      <td>CANVAS SNEAKERS FOR MEN Sneakers For Men</td>\n",
       "      <td>₹279</td>\n",
       "    </tr>\n",
       "    <tr>\n",
       "      <th>97</th>\n",
       "      <td>aadi</td>\n",
       "      <td>Synthetic Leather|Lightweight|Comfort|Summer|T...</td>\n",
       "      <td>₹497</td>\n",
       "    </tr>\n",
       "    <tr>\n",
       "      <th>98</th>\n",
       "      <td>PUMA</td>\n",
       "      <td>Cardif Slip on Sneakers For Men</td>\n",
       "      <td>₹4,509</td>\n",
       "    </tr>\n",
       "    <tr>\n",
       "      <th>99</th>\n",
       "      <td>PUMA</td>\n",
       "      <td>CA Pro Lux II Sneakers For Men</td>\n",
       "      <td>₹497</td>\n",
       "    </tr>\n",
       "  </tbody>\n",
       "</table>\n",
       "<p>100 rows × 3 columns</p>\n",
       "</div>"
      ],
      "text/plain": [
       "      Brand                                        Description   price\n",
       "0    BRUTON  Combo Pack Of 2 Men’s Casual Shoes Sneakers Fo...    ₹497\n",
       "1    BRUTON      Combo Pack Of 2 Casual Shoes Sneakers For Men    ₹497\n",
       "2   El Paso  EL PASO Men's White Faux Leather Casual Lace U...    ₹764\n",
       "3      PUMA                RS-X Efekt Speckle Sneakers For Men  ₹4,949\n",
       "4      PUMA                      Graviton Pro Sneakers For Men  ₹3,499\n",
       "..      ...                                                ...     ...\n",
       "95     PUMA                           Trinity Sneakers For Men  ₹1,099\n",
       "96   lejano           CANVAS SNEAKERS FOR MEN Sneakers For Men    ₹279\n",
       "97     aadi  Synthetic Leather|Lightweight|Comfort|Summer|T...    ₹497\n",
       "98     PUMA                    Cardif Slip on Sneakers For Men  ₹4,509\n",
       "99     PUMA                     CA Pro Lux II Sneakers For Men    ₹497\n",
       "\n",
       "[100 rows x 3 columns]"
      ]
     },
     "execution_count": 418,
     "metadata": {},
     "output_type": "execute_result"
    }
   ],
   "source": [
    "df6"
   ]
  },
  {
   "cell_type": "raw",
   "id": "9a3f3f77-c761-4af7-ba17-93fccd556f5a",
   "metadata": {},
   "source": [
    "Question 7 solution"
   ]
  },
  {
   "cell_type": "code",
   "execution_count": 420,
   "id": "6c2c7dc3-c94d-43e8-9df0-e0fd923d79f1",
   "metadata": {},
   "outputs": [],
   "source": [
    "driver7=webdriver.Chrome()\n",
    "driver7.get(' https://www.amazon.in/')"
   ]
  },
  {
   "cell_type": "code",
   "execution_count": 424,
   "id": "0667afd4-c51e-4c58-bc36-8b9654c148b7",
   "metadata": {},
   "outputs": [],
   "source": [
    "#FETCHING SEARCH BAR\n",
    "searchbar=driver7.find_element(By.XPATH,'//div[@class=\"nav-search-field \"]/input')\n",
    "searchbar.send_keys('Laptop')"
   ]
  },
  {
   "cell_type": "code",
   "execution_count": 427,
   "id": "1fdbe3ba-27d6-4274-987d-74b023351945",
   "metadata": {},
   "outputs": [],
   "source": [
    "#fetching search button\n",
    "searchbtn=driver7.find_element(By.XPATH,'//*[@id=\"nav-search-submit-button\"]')\n",
    "searchbtn.click()"
   ]
  },
  {
   "cell_type": "code",
   "execution_count": 431,
   "id": "613bd404-c826-4735-9e32-5bb6e81fc649",
   "metadata": {},
   "outputs": [],
   "source": [
    "#etching filter button\n",
    "filterbtn=driver7.find_element(By.XPATH,'//*[@id=\"p_n_feature_thirteen_browse-bin/12598163031\"]/span/a/div')\n",
    "filterbtn.click()"
   ]
  },
  {
   "cell_type": "code",
   "execution_count": 432,
   "id": "ed62c894-e827-432c-958c-60051024bb41",
   "metadata": {},
   "outputs": [],
   "source": [
    "title=[]\n",
    "rating=[]\n",
    "price=[]"
   ]
  },
  {
   "cell_type": "code",
   "execution_count": 437,
   "id": "7e7f2330-8c09-4fdb-b2a0-915bd7c4006a",
   "metadata": {},
   "outputs": [],
   "source": [
    "#fetching titles\n",
    "ttl=[]\n",
    "t=driver7.find_elements(By.XPATH,'//span[@class=\"a-size-medium a-color-base a-text-normal\"]')\n",
    "for i in t:\n",
    "    ttl.append(i.text)\n",
    "title=ttl[:10]"
   ]
  },
  {
   "cell_type": "code",
   "execution_count": 439,
   "id": "1306054b-a421-4767-a5b3-9e28d58cd682",
   "metadata": {},
   "outputs": [],
   "source": [
    "#FETCHING RATINGS\n",
    "rt=[]\n",
    "r=driver7.find_elements(By.XPATH,'//span[@class=\"a-size-base s-underline-text\"]')\n",
    "for i in r:\n",
    "    rt.append(i.text)\n",
    "    \n",
    "rating=rt[:10]"
   ]
  },
  {
   "cell_type": "code",
   "execution_count": 446,
   "id": "12523d43-0c38-41b9-9b2c-046c45fbd319",
   "metadata": {},
   "outputs": [],
   "source": [
    "#fetching price\n",
    "pr=[]\n",
    "p=driver7.find_elements(By.XPATH,'//span[@class=\"a-price-whole\"]')\n",
    "for i in p:\n",
    "    pr.append(i.text)\n",
    "    \n",
    "price=pr[:10]"
   ]
  },
  {
   "cell_type": "code",
   "execution_count": 447,
   "id": "7bbfefd5-cba7-4d5b-bd12-24ea8ff3dab7",
   "metadata": {},
   "outputs": [
    {
     "name": "stdout",
     "output_type": "stream",
     "text": [
      "10 10 10\n"
     ]
    }
   ],
   "source": [
    "print(len(title),len(rating),len(price))"
   ]
  },
  {
   "cell_type": "code",
   "execution_count": 449,
   "id": "263c4654-fa0f-44cf-8972-84c2f7fa0099",
   "metadata": {},
   "outputs": [
    {
     "data": {
      "text/html": [
       "<div>\n",
       "<style scoped>\n",
       "    .dataframe tbody tr th:only-of-type {\n",
       "        vertical-align: middle;\n",
       "    }\n",
       "\n",
       "    .dataframe tbody tr th {\n",
       "        vertical-align: top;\n",
       "    }\n",
       "\n",
       "    .dataframe thead th {\n",
       "        text-align: right;\n",
       "    }\n",
       "</style>\n",
       "<table border=\"1\" class=\"dataframe\">\n",
       "  <thead>\n",
       "    <tr style=\"text-align: right;\">\n",
       "      <th></th>\n",
       "      <th>Title</th>\n",
       "      <th>Rating</th>\n",
       "      <th>Price</th>\n",
       "    </tr>\n",
       "  </thead>\n",
       "  <tbody>\n",
       "    <tr>\n",
       "      <th>0</th>\n",
       "      <td>ASUS TUF Gaming F15, 15.6\"(39.62 cms) FHD 144H...</td>\n",
       "      <td>68,990</td>\n",
       "      <td>68,990</td>\n",
       "    </tr>\n",
       "    <tr>\n",
       "      <th>1</th>\n",
       "      <td>HP Laptop 15s, 12th Gen Intel Core i7-1255U, 1...</td>\n",
       "      <td>63,990</td>\n",
       "      <td>63,990</td>\n",
       "    </tr>\n",
       "    <tr>\n",
       "      <th>2</th>\n",
       "      <td>MSI Modern 14, Intel 12th Gen. i7-1255U, 36CM ...</td>\n",
       "      <td>49,990</td>\n",
       "      <td>49,990</td>\n",
       "    </tr>\n",
       "    <tr>\n",
       "      <th>3</th>\n",
       "      <td>MSI GF63 Thin, Intel Core i7-11800H, 40CM FHD ...</td>\n",
       "      <td>57,990</td>\n",
       "      <td>57,990</td>\n",
       "    </tr>\n",
       "    <tr>\n",
       "      <th>4</th>\n",
       "      <td>Lenovo IdeaPad Slim 3 Intel Core i7 11th Gen 1...</td>\n",
       "      <td>52,990</td>\n",
       "      <td>52,990</td>\n",
       "    </tr>\n",
       "    <tr>\n",
       "      <th>5</th>\n",
       "      <td>MSI GF63 Thin, Intel Core i7-11800H, 40CM FHD ...</td>\n",
       "      <td>64,990</td>\n",
       "      <td>64,990</td>\n",
       "    </tr>\n",
       "    <tr>\n",
       "      <th>6</th>\n",
       "      <td>ASUS Vivobook 15, Intel Core i7-12650H 12th Ge...</td>\n",
       "      <td>60,990</td>\n",
       "      <td>60,990</td>\n",
       "    </tr>\n",
       "    <tr>\n",
       "      <th>7</th>\n",
       "      <td>ASUS TUF Gaming F15, 15.6-inch (39.62 cms) FHD...</td>\n",
       "      <td>85,990</td>\n",
       "      <td>85,990</td>\n",
       "    </tr>\n",
       "    <tr>\n",
       "      <th>8</th>\n",
       "      <td>Dell Inspiron 5430 Laptop, Intel Core i7-1360P...</td>\n",
       "      <td>84,990</td>\n",
       "      <td>84,990</td>\n",
       "    </tr>\n",
       "    <tr>\n",
       "      <th>9</th>\n",
       "      <td>HP Victus Gaming Laptop, 12th Gen Intel Core i...</td>\n",
       "      <td>84,990</td>\n",
       "      <td>84,990</td>\n",
       "    </tr>\n",
       "  </tbody>\n",
       "</table>\n",
       "</div>"
      ],
      "text/plain": [
       "                                               Title  Rating   Price\n",
       "0  ASUS TUF Gaming F15, 15.6\"(39.62 cms) FHD 144H...  68,990  68,990\n",
       "1  HP Laptop 15s, 12th Gen Intel Core i7-1255U, 1...  63,990  63,990\n",
       "2  MSI Modern 14, Intel 12th Gen. i7-1255U, 36CM ...  49,990  49,990\n",
       "3  MSI GF63 Thin, Intel Core i7-11800H, 40CM FHD ...  57,990  57,990\n",
       "4  Lenovo IdeaPad Slim 3 Intel Core i7 11th Gen 1...  52,990  52,990\n",
       "5  MSI GF63 Thin, Intel Core i7-11800H, 40CM FHD ...  64,990  64,990\n",
       "6  ASUS Vivobook 15, Intel Core i7-12650H 12th Ge...  60,990  60,990\n",
       "7  ASUS TUF Gaming F15, 15.6-inch (39.62 cms) FHD...  85,990  85,990\n",
       "8  Dell Inspiron 5430 Laptop, Intel Core i7-1360P...  84,990  84,990\n",
       "9  HP Victus Gaming Laptop, 12th Gen Intel Core i...  84,990  84,990"
      ]
     },
     "execution_count": 449,
     "metadata": {},
     "output_type": "execute_result"
    }
   ],
   "source": [
    "#data frame of laptops\n",
    "df7=pd.DataFrame({'Title':title,'Rating':rating,'Price':price})\n",
    "df7"
   ]
  },
  {
   "cell_type": "raw",
   "id": "838a24af-5c20-48c4-832d-ce22363aee86",
   "metadata": {},
   "source": [
    "Question 8 solution"
   ]
  },
  {
   "cell_type": "code",
   "execution_count": 488,
   "id": "0d2ae70c-ccee-4bd6-8f7b-38b6e7f93632",
   "metadata": {},
   "outputs": [],
   "source": [
    "driver8=webdriver.Chrome()\n",
    "driver8.get('https://www.azquotes.com/')"
   ]
  },
  {
   "cell_type": "code",
   "execution_count": 490,
   "id": "d597fc38-2bf8-4ba1-95a8-a6fd7f6c4a24",
   "metadata": {},
   "outputs": [],
   "source": [
    "#top quites btn fetching\n",
    "tq=driver8.find_element(By.XPATH,'//*[@id=\"menu\"]/div/div[3]/ul/li[5]/a')\n",
    "tq.click()"
   ]
  },
  {
   "cell_type": "code",
   "execution_count": 453,
   "id": "a4ccbf7a-7649-42e0-8c24-2e0edefc8b07",
   "metadata": {},
   "outputs": [],
   "source": [
    "a_author=[]\n",
    "b_author=[]\n",
    "c_author=[]"
   ]
  },
  {
   "cell_type": "code",
   "execution_count": 521,
   "id": "b7c4f45e-42cb-41f1-bf0b-27fd815338a4",
   "metadata": {},
   "outputs": [],
   "source": [
    "a_btn=driver8.find_element(By.XPATH,'//*[@id=\"tinynav1\"]/option[1]')\n",
    "a_btn.click()"
   ]
  },
  {
   "cell_type": "code",
   "execution_count": 522,
   "id": "42a927c5-326b-4223-8575-31fb1484cf73",
   "metadata": {},
   "outputs": [],
   "source": [
    "#fetching A authors\n",
    "ath=[]\n",
    "a=driver8.find_elements(By.XPATH,'//div[@class=\"people\"]/a')\n",
    "for i in a:\n",
    "    a_author.append(i.text)\n"
   ]
  },
  {
   "cell_type": "code",
   "execution_count": null,
   "id": "ca138790-9d94-4a5f-8212-1af666d7018c",
   "metadata": {},
   "outputs": [],
   "source": []
  },
  {
   "cell_type": "code",
   "execution_count": 492,
   "id": "a464a449-2c9e-4311-8fa7-b96603496b44",
   "metadata": {},
   "outputs": [],
   "source": [
    "# b name btn\n",
    "b_btn=driver8.find_element(By.XPATH,'//*[@id=\"tinynav1\"]/option[2]')\n",
    "b_btn.click()"
   ]
  },
  {
   "cell_type": "code",
   "execution_count": 493,
   "id": "aec8a933-21c8-4673-9eee-c2a10d47e19c",
   "metadata": {},
   "outputs": [],
   "source": [
    "#fetching B name aothors\n",
    "b=driver8.find_elements(By.XPATH,'//div[@class=\"people\"]/a')\n",
    "for i in b:\n",
    "    b_author.append(i.text)\n",
    "    \n",
    "\n",
    "                       "
   ]
  },
  {
   "cell_type": "code",
   "execution_count": 495,
   "id": "cae3eef2-8e70-4350-9caf-5b95dddbed00",
   "metadata": {},
   "outputs": [],
   "source": [
    "#c name btn\n",
    "c_btn=driver8.find_element(By.XPATH,'//*[@id=\"tinynav1\"]/option[3]')\n",
    "c_btn.click()"
   ]
  },
  {
   "cell_type": "code",
   "execution_count": 502,
   "id": "7373dc1a-a530-403b-b07f-7313e5f40ccc",
   "metadata": {},
   "outputs": [],
   "source": [
    "#fetching c name\n",
    "c=driver8.find_elements(By.XPATH,'//div[@class=\"people\"]/a')\n",
    "for i in c:\n",
    "    c_author.append(i.text)\n"
   ]
  },
  {
   "cell_type": "code",
   "execution_count": 523,
   "id": "7c805bc6-952f-427c-85e1-5d7d06be2083",
   "metadata": {},
   "outputs": [
    {
     "name": "stdout",
     "output_type": "stream",
     "text": [
      "120 120 120\n"
     ]
    }
   ],
   "source": [
    "print(len(a_author),len(b_author),len(c_author))"
   ]
  },
  {
   "cell_type": "code",
   "execution_count": 525,
   "id": "346bdb48-9def-4c19-9a32-692b450ca634",
   "metadata": {},
   "outputs": [
    {
     "data": {
      "text/html": [
       "<div>\n",
       "<style scoped>\n",
       "    .dataframe tbody tr th:only-of-type {\n",
       "        vertical-align: middle;\n",
       "    }\n",
       "\n",
       "    .dataframe tbody tr th {\n",
       "        vertical-align: top;\n",
       "    }\n",
       "\n",
       "    .dataframe thead th {\n",
       "        text-align: right;\n",
       "    }\n",
       "</style>\n",
       "<table border=\"1\" class=\"dataframe\">\n",
       "  <thead>\n",
       "    <tr style=\"text-align: right;\">\n",
       "      <th></th>\n",
       "      <th>a_author</th>\n",
       "      <th>b_author</th>\n",
       "      <th>c_author</th>\n",
       "    </tr>\n",
       "  </thead>\n",
       "  <tbody>\n",
       "    <tr>\n",
       "      <th>0</th>\n",
       "      <td>Albert Einstein</td>\n",
       "      <td>Billy Graham</td>\n",
       "      <td>Condoleezza Rice</td>\n",
       "    </tr>\n",
       "    <tr>\n",
       "      <th>1</th>\n",
       "      <td>Ayn Rand</td>\n",
       "      <td>Barack Obama</td>\n",
       "      <td>C. S. Lewis</td>\n",
       "    </tr>\n",
       "    <tr>\n",
       "      <th>2</th>\n",
       "      <td>Abraham Lincoln</td>\n",
       "      <td>Beth Moore</td>\n",
       "      <td>Charles Spurgeon</td>\n",
       "    </tr>\n",
       "    <tr>\n",
       "      <th>3</th>\n",
       "      <td>Antonin Scalia</td>\n",
       "      <td>Benjamin Franklin</td>\n",
       "      <td>Clint Eastwood</td>\n",
       "    </tr>\n",
       "    <tr>\n",
       "      <th>4</th>\n",
       "      <td>Aristotle</td>\n",
       "      <td>Bobby Jindal</td>\n",
       "      <td>Corrie Ten Boom</td>\n",
       "    </tr>\n",
       "    <tr>\n",
       "      <th>...</th>\n",
       "      <td>...</td>\n",
       "      <td>...</td>\n",
       "      <td>...</td>\n",
       "    </tr>\n",
       "    <tr>\n",
       "      <th>115</th>\n",
       "      <td>Ayad Akhtar</td>\n",
       "      <td>Big Daddy Kane</td>\n",
       "      <td>Charli XCX</td>\n",
       "    </tr>\n",
       "    <tr>\n",
       "      <th>116</th>\n",
       "      <td>Alan Dershowitz</td>\n",
       "      <td>Bill McKibben</td>\n",
       "      <td>Charlize Theron</td>\n",
       "    </tr>\n",
       "    <tr>\n",
       "      <th>117</th>\n",
       "      <td>Aja Naomi King</td>\n",
       "      <td>Brody Jenner</td>\n",
       "      <td>Colleen Jones</td>\n",
       "    </tr>\n",
       "    <tr>\n",
       "      <th>118</th>\n",
       "      <td>Ari Shavit</td>\n",
       "      <td>Billy Corgan</td>\n",
       "      <td>Craig Ferguson</td>\n",
       "    </tr>\n",
       "    <tr>\n",
       "      <th>119</th>\n",
       "      <td>Alex Kapranos</td>\n",
       "      <td>Benedict Cumberbatch</td>\n",
       "      <td>Carly Rae Jepsen</td>\n",
       "    </tr>\n",
       "  </tbody>\n",
       "</table>\n",
       "<p>120 rows × 3 columns</p>\n",
       "</div>"
      ],
      "text/plain": [
       "            a_author              b_author          c_author\n",
       "0    Albert Einstein          Billy Graham  Condoleezza Rice\n",
       "1           Ayn Rand          Barack Obama       C. S. Lewis\n",
       "2    Abraham Lincoln            Beth Moore  Charles Spurgeon\n",
       "3     Antonin Scalia     Benjamin Franklin    Clint Eastwood\n",
       "4          Aristotle          Bobby Jindal   Corrie Ten Boom\n",
       "..               ...                   ...               ...\n",
       "115      Ayad Akhtar        Big Daddy Kane        Charli XCX\n",
       "116  Alan Dershowitz         Bill McKibben   Charlize Theron\n",
       "117   Aja Naomi King          Brody Jenner     Colleen Jones\n",
       "118       Ari Shavit          Billy Corgan    Craig Ferguson\n",
       "119    Alex Kapranos  Benedict Cumberbatch  Carly Rae Jepsen\n",
       "\n",
       "[120 rows x 3 columns]"
      ]
     },
     "execution_count": 525,
     "metadata": {},
     "output_type": "execute_result"
    }
   ],
   "source": [
    "df8=pd.DataFrame({'a_author':a_author,'b_author':b_author,'c_author':c_author})\n",
    "df8"
   ]
  },
  {
   "cell_type": "markdown",
   "id": "d5b91093-c907-4886-8531-ef4404dd0d6f",
   "metadata": {},
   "source": [
    "Question 9 solution"
   ]
  },
  {
   "cell_type": "code",
   "execution_count": 580,
   "id": "40532aef-4a20-4c90-94bc-b0e469245dc3",
   "metadata": {},
   "outputs": [],
   "source": [
    "driver9=webdriver.Chrome()\n",
    "driver9.get('https://www.jagranjosh.com/')"
   ]
  },
  {
   "cell_type": "code",
   "execution_count": 583,
   "id": "70371763-bdf5-47f0-91a9-26ba94f1ed09",
   "metadata": {},
   "outputs": [],
   "source": [
    "gk_btn=driver9.find_element(By.XPATH,'//*[@id=\"__next\"]/header/nav/div/div/div[3]/ul/li[6]/a')\n",
    "gk_btn.click()"
   ]
  },
  {
   "cell_type": "code",
   "execution_count": 585,
   "id": "f120affe-bfec-45d2-a82b-5985721d8d96",
   "metadata": {},
   "outputs": [],
   "source": [
    "current_gk=driver9.find_element(By.XPATH,'//*[@id=\"1609937029749\"]/div/ul/li[1]/a')\n",
    "current_gk.click()"
   ]
  },
  {
   "cell_type": "code",
   "execution_count": 586,
   "id": "619a952f-e6b4-4dc7-85df-21b6dc0c06ff",
   "metadata": {},
   "outputs": [],
   "source": [
    "pmlist_btn=driver9.find_element(By.XPATH,'//*[@id=\"popluarGK\"]/ul/li[2]/a')\n",
    "pmlist_btn.click()"
   ]
  },
  {
   "cell_type": "code",
   "execution_count": 588,
   "id": "b8cd55d1-c130-4f34-bdea-9efb32740d17",
   "metadata": {},
   "outputs": [],
   "source": [
    "#EMPTY LIST\n",
    "pm_name=[]\n",
    "pm_dob=[]\n",
    "pm_term=[]"
   ]
  },
  {
   "cell_type": "code",
   "execution_count": 594,
   "id": "3063f1bb-ae41-4fda-b47e-b7787e744b04",
   "metadata": {},
   "outputs": [
    {
     "data": {
      "text/plain": [
       "['Jawahar Lal Nehru']"
      ]
     },
     "execution_count": 594,
     "metadata": {},
     "output_type": "execute_result"
    }
   ],
   "source": [
    "#FIRST PM\n",
    "ist_pm=driver9.find_element(By.XPATH,'//td[@style=\"width: 150px; height: 121px;\"]/p/strong/a')\n",
    "pm_name.append(ist_pm.text)\n",
    "pm_name"
   ]
  },
  {
   "cell_type": "code",
   "execution_count": 602,
   "id": "f35098b8-b787-4ad6-9978-e79a18c0f5bd",
   "metadata": {},
   "outputs": [],
   "source": [
    "#FETCHING NAME \n",
    "name=driver9.find_elements(By.XPATH,'//TD[@style=\"width: 150px; height: 80px;\"]/P')\n",
    "for i in name:\n",
    "    pm_name.append(i.text)\n"
   ]
  },
  {
   "cell_type": "code",
   "execution_count": 600,
   "id": "fe535d1e-6011-4cb9-b682-8a7074f603c4",
   "metadata": {},
   "outputs": [],
   "source": [
    "#fetching full table\n",
    "tbody=driver9.find_element(By.XPATH,'//*[@id=\"itemdiv\"]/div[4]/span/div[2]/table/tbody')\n",
    "data=[]\n",
    "for tr in tbody.find_elements(By.XPATH,'//tr'):\n",
    "    row=[item.text for item in tr.find_elements(By.XPATH,'.//td')]\n",
    "    data.append(row)        "
   ]
  },
  {
   "cell_type": "code",
   "execution_count": 601,
   "id": "9ecea5a9-553a-4ad1-abae-2a8cd470744d",
   "metadata": {},
   "outputs": [
    {
     "data": {
      "text/html": [
       "<div>\n",
       "<style scoped>\n",
       "    .dataframe tbody tr th:only-of-type {\n",
       "        vertical-align: middle;\n",
       "    }\n",
       "\n",
       "    .dataframe tbody tr th {\n",
       "        vertical-align: top;\n",
       "    }\n",
       "\n",
       "    .dataframe thead th {\n",
       "        text-align: right;\n",
       "    }\n",
       "</style>\n",
       "<table border=\"1\" class=\"dataframe\">\n",
       "  <thead>\n",
       "    <tr style=\"text-align: right;\">\n",
       "      <th></th>\n",
       "      <th>name</th>\n",
       "    </tr>\n",
       "  </thead>\n",
       "  <tbody>\n",
       "    <tr>\n",
       "      <th>0</th>\n",
       "      <td>[]</td>\n",
       "    </tr>\n",
       "    <tr>\n",
       "      <th>1</th>\n",
       "      <td>[1., Jawahar Lal Nehru, (1889–1964), 15 August...</td>\n",
       "    </tr>\n",
       "    <tr>\n",
       "      <th>2</th>\n",
       "      <td>[2., Gulzarilal Nanda (Acting), (1898-1998), 2...</td>\n",
       "    </tr>\n",
       "    <tr>\n",
       "      <th>3</th>\n",
       "      <td>[3., Lal Bahadur Shastri, (1904–1966), 9 June ...</td>\n",
       "    </tr>\n",
       "    <tr>\n",
       "      <th>4</th>\n",
       "      <td>[4. , Gulzari Lal Nanda  (Acting), (1898-1998)...</td>\n",
       "    </tr>\n",
       "    <tr>\n",
       "      <th>5</th>\n",
       "      <td>[5., Indira Gandhi, (1917–1984), 24 January 19...</td>\n",
       "    </tr>\n",
       "    <tr>\n",
       "      <th>6</th>\n",
       "      <td>[6., Morarji Desai, (1896–1995), 24 March 1977...</td>\n",
       "    </tr>\n",
       "    <tr>\n",
       "      <th>7</th>\n",
       "      <td>[7., Charan Singh, (1902–1987), 28 July 1979 t...</td>\n",
       "    </tr>\n",
       "    <tr>\n",
       "      <th>8</th>\n",
       "      <td>[8., Indira Gandhi, (1917–1984), 14 January 19...</td>\n",
       "    </tr>\n",
       "    <tr>\n",
       "      <th>9</th>\n",
       "      <td>[9., Rajiv Gandhi, (1944–1991), 31 October 198...</td>\n",
       "    </tr>\n",
       "    <tr>\n",
       "      <th>10</th>\n",
       "      <td>[10., V. P. Singh, (1931–2008), 2 December 198...</td>\n",
       "    </tr>\n",
       "    <tr>\n",
       "      <th>11</th>\n",
       "      <td>[11., Chandra Shekhar, (1927–2007), 10 Novembe...</td>\n",
       "    </tr>\n",
       "    <tr>\n",
       "      <th>12</th>\n",
       "      <td>[12., P. V. Narasimha Rao, (1921–2004), 21 Jun...</td>\n",
       "    </tr>\n",
       "    <tr>\n",
       "      <th>13</th>\n",
       "      <td>[13., Atal Bihari Vajpayee, (1924- 2018), 16 M...</td>\n",
       "    </tr>\n",
       "    <tr>\n",
       "      <th>14</th>\n",
       "      <td>[14., H. D. Deve Gowda, (born 1933), 1 June 19...</td>\n",
       "    </tr>\n",
       "    <tr>\n",
       "      <th>15</th>\n",
       "      <td>[15., Inder Kumar Gujral, (1919–2012), 21 Apri...</td>\n",
       "    </tr>\n",
       "    <tr>\n",
       "      <th>16</th>\n",
       "      <td>[16., Atal Bihari Vajpayee, (1924-2018), 19 Ma...</td>\n",
       "    </tr>\n",
       "    <tr>\n",
       "      <th>17</th>\n",
       "      <td>[17., Manmohan Singh, (born 1932), 22 May 2004...</td>\n",
       "    </tr>\n",
       "    <tr>\n",
       "      <th>18</th>\n",
       "      <td>[18., Narendra Modi, (born 1950), 26 May 2014 ...</td>\n",
       "    </tr>\n",
       "    <tr>\n",
       "      <th>19</th>\n",
       "      <td>[19., Narendra Modi, (born 1950), 30 May 2019-...</td>\n",
       "    </tr>\n",
       "    <tr>\n",
       "      <th>20</th>\n",
       "      <td>[List of all Presidents of India, List of Nick...</td>\n",
       "    </tr>\n",
       "  </tbody>\n",
       "</table>\n",
       "</div>"
      ],
      "text/plain": [
       "                                                 name\n",
       "0                                                  []\n",
       "1   [1., Jawahar Lal Nehru, (1889–1964), 15 August...\n",
       "2   [2., Gulzarilal Nanda (Acting), (1898-1998), 2...\n",
       "3   [3., Lal Bahadur Shastri, (1904–1966), 9 June ...\n",
       "4   [4. , Gulzari Lal Nanda  (Acting), (1898-1998)...\n",
       "5   [5., Indira Gandhi, (1917–1984), 24 January 19...\n",
       "6   [6., Morarji Desai, (1896–1995), 24 March 1977...\n",
       "7   [7., Charan Singh, (1902–1987), 28 July 1979 t...\n",
       "8   [8., Indira Gandhi, (1917–1984), 14 January 19...\n",
       "9   [9., Rajiv Gandhi, (1944–1991), 31 October 198...\n",
       "10  [10., V. P. Singh, (1931–2008), 2 December 198...\n",
       "11  [11., Chandra Shekhar, (1927–2007), 10 Novembe...\n",
       "12  [12., P. V. Narasimha Rao, (1921–2004), 21 Jun...\n",
       "13  [13., Atal Bihari Vajpayee, (1924- 2018), 16 M...\n",
       "14  [14., H. D. Deve Gowda, (born 1933), 1 June 19...\n",
       "15  [15., Inder Kumar Gujral, (1919–2012), 21 Apri...\n",
       "16  [16., Atal Bihari Vajpayee, (1924-2018), 19 Ma...\n",
       "17  [17., Manmohan Singh, (born 1932), 22 May 2004...\n",
       "18  [18., Narendra Modi, (born 1950), 26 May 2014 ...\n",
       "19  [19., Narendra Modi, (born 1950), 30 May 2019-...\n",
       "20  [List of all Presidents of India, List of Nick..."
      ]
     },
     "execution_count": 601,
     "metadata": {},
     "output_type": "execute_result"
    }
   ],
   "source": [
    "df9=pd.DataFrame({'name':data})\n",
    "df9"
   ]
  },
  {
   "cell_type": "markdown",
   "id": "8165c745-01bd-4d4e-87e4-196bdf0b826c",
   "metadata": {},
   "source": [
    "Questio 10 solution"
   ]
  },
  {
   "cell_type": "code",
   "execution_count": 566,
   "id": "110af5db-80be-4242-a64d-976f1420403d",
   "metadata": {},
   "outputs": [],
   "source": [
    "driver10=webdriver.Chrome()\n",
    "driver10.get('https://www.motor1.com/')"
   ]
  },
  {
   "cell_type": "code",
   "execution_count": 567,
   "id": "32c666ae-1710-4bce-b6e3-98be6c308a6a",
   "metadata": {},
   "outputs": [],
   "source": [
    "#fetching search bar\n",
    "car_search=driver10.find_element(By.XPATH,'//*[@id=\"search_input\"]')\n",
    "car_search.send_keys('most expensive cars')\n",
    "time.sleep(4)"
   ]
  },
  {
   "cell_type": "code",
   "execution_count": 568,
   "id": "934f53d2-5ac0-4f0a-9486-c677d21ffd6d",
   "metadata": {},
   "outputs": [],
   "source": [
    "search_btn=driver10.find_element(By.XPATH,'//*[@id=\"header_search_form\"]/button[1]')\n",
    "search_btn.click()"
   ]
  },
  {
   "cell_type": "code",
   "execution_count": 571,
   "id": "8b2745b4-c686-49a2-a74a-947292566cb2",
   "metadata": {},
   "outputs": [],
   "source": [
    "search_bar2=driver10.find_element(By.XPATH,'//*[@id=\"page_index_articles_search\"]/div[6]/form/div/input')\n",
    "search_bar2.send_keys('most expensive cars in the world')"
   ]
  },
  {
   "cell_type": "code",
   "execution_count": 574,
   "id": "2b434f49-47d9-432c-9a79-bb57528866cb",
   "metadata": {},
   "outputs": [],
   "source": [
    "s_btn=driver10.find_element(By.XPATH,'//*[@id=\"page_index_articles_search\"]/div[6]/form/input[2]')\n",
    "s_btn.click()"
   ]
  },
  {
   "cell_type": "code",
   "execution_count": 575,
   "id": "8c1e6b80-e316-46d5-af7a-3fb5349f2643",
   "metadata": {},
   "outputs": [],
   "source": [
    "exp_cars=[]"
   ]
  },
  {
   "cell_type": "code",
   "execution_count": 577,
   "id": "eb666b71-7c0d-43b8-a54a-b57869086a10",
   "metadata": {},
   "outputs": [
    {
     "data": {
      "text/plain": [
       "['This 1996 Nissan Nismo GT-R Is The Most Expensive In The World',\n",
       " \"Bugatti La Voiture Noire Joins World's Most Expensive Cars At Drag Strip\",\n",
       " '50 Most Expensive Cars In The World',\n",
       " 'Motor1 On One With Master Detailer Todd Cooperider',\n",
       " 'Nissan LEAF Is World’s # 1 Selling EV, But #2 Might Surprise You']"
      ]
     },
     "execution_count": 577,
     "metadata": {},
     "output_type": "execute_result"
    }
   ],
   "source": [
    "#fetching car data\n",
    "cars=driver10.find_elements(By.XPATH,'//div[@class=\"text-box\"]/H3/a')\n",
    "for i in cars:\n",
    "    exp_cars.append(i.text)\n",
    "    \n",
    "    \n",
    "exp_cars"
   ]
  },
  {
   "cell_type": "code",
   "execution_count": 578,
   "id": "90570b51-e725-414c-86ea-0a8e33ed9b98",
   "metadata": {},
   "outputs": [],
   "source": [
    "df10=pd.DataFrame({'Car Name':exp_cars})"
   ]
  },
  {
   "cell_type": "code",
   "execution_count": 579,
   "id": "ccbd963d-5570-44bb-aa64-f16e130e7008",
   "metadata": {},
   "outputs": [
    {
     "data": {
      "text/html": [
       "<div>\n",
       "<style scoped>\n",
       "    .dataframe tbody tr th:only-of-type {\n",
       "        vertical-align: middle;\n",
       "    }\n",
       "\n",
       "    .dataframe tbody tr th {\n",
       "        vertical-align: top;\n",
       "    }\n",
       "\n",
       "    .dataframe thead th {\n",
       "        text-align: right;\n",
       "    }\n",
       "</style>\n",
       "<table border=\"1\" class=\"dataframe\">\n",
       "  <thead>\n",
       "    <tr style=\"text-align: right;\">\n",
       "      <th></th>\n",
       "      <th>Car Name</th>\n",
       "    </tr>\n",
       "  </thead>\n",
       "  <tbody>\n",
       "    <tr>\n",
       "      <th>0</th>\n",
       "      <td>This 1996 Nissan Nismo GT-R Is The Most Expens...</td>\n",
       "    </tr>\n",
       "    <tr>\n",
       "      <th>1</th>\n",
       "      <td>Bugatti La Voiture Noire Joins World's Most Ex...</td>\n",
       "    </tr>\n",
       "    <tr>\n",
       "      <th>2</th>\n",
       "      <td>50 Most Expensive Cars In The World</td>\n",
       "    </tr>\n",
       "    <tr>\n",
       "      <th>3</th>\n",
       "      <td>Motor1 On One With Master Detailer Todd Cooper...</td>\n",
       "    </tr>\n",
       "    <tr>\n",
       "      <th>4</th>\n",
       "      <td>Nissan LEAF Is World’s # 1 Selling EV, But #2 ...</td>\n",
       "    </tr>\n",
       "  </tbody>\n",
       "</table>\n",
       "</div>"
      ],
      "text/plain": [
       "                                            Car Name\n",
       "0  This 1996 Nissan Nismo GT-R Is The Most Expens...\n",
       "1  Bugatti La Voiture Noire Joins World's Most Ex...\n",
       "2                50 Most Expensive Cars In The World\n",
       "3  Motor1 On One With Master Detailer Todd Cooper...\n",
       "4  Nissan LEAF Is World’s # 1 Selling EV, But #2 ..."
      ]
     },
     "execution_count": 579,
     "metadata": {},
     "output_type": "execute_result"
    }
   ],
   "source": [
    "df10"
   ]
  },
  {
   "cell_type": "code",
   "execution_count": null,
   "id": "be127d91-7981-4291-9581-e553df31ab5e",
   "metadata": {},
   "outputs": [],
   "source": [
    "#NOTE: There are only five cars available in the website so i fetch that"
   ]
  }
 ],
 "metadata": {
  "kernelspec": {
   "display_name": "Python 3 (ipykernel)",
   "language": "python",
   "name": "python3"
  },
  "language_info": {
   "codemirror_mode": {
    "name": "ipython",
    "version": 3
   },
   "file_extension": ".py",
   "mimetype": "text/x-python",
   "name": "python",
   "nbconvert_exporter": "python",
   "pygments_lexer": "ipython3",
   "version": "3.10.9"
  }
 },
 "nbformat": 4,
 "nbformat_minor": 5
}
